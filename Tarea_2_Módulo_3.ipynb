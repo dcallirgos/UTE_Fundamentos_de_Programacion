{
  "nbformat": 4,
  "nbformat_minor": 0,
  "metadata": {
    "colab": {
      "provenance": [],
      "authorship_tag": "ABX9TyMQHtjdGZqY0TDzQ5mMUQyb",
      "include_colab_link": true
    },
    "kernelspec": {
      "name": "python3",
      "display_name": "Python 3"
    },
    "language_info": {
      "name": "python"
    }
  },
  "cells": [
    {
      "cell_type": "markdown",
      "metadata": {
        "id": "view-in-github",
        "colab_type": "text"
      },
      "source": [
        "<a href=\"https://colab.research.google.com/github/dcallirgos/UTE_Fundamentos_de_Programacion/blob/main/Tarea_2_M%C3%B3dulo_3.ipynb\" target=\"_parent\"><img src=\"https://colab.research.google.com/assets/colab-badge.svg\" alt=\"Open In Colab\"/></a>"
      ]
    },
    {
      "cell_type": "markdown",
      "source": [
        "**OCURRENCIAS (VARIABLE DISCRETA – POISSON)**"
      ],
      "metadata": {
        "id": "fmpkuk-PN63n"
      }
    },
    {
      "cell_type": "markdown",
      "source": [
        "El número promedio de clientes que recibe un banco es de 50 por hora.\n",
        "\n",
        "1. ¿Cuántas personas llegaran a lo largo de cuatro horas?\n",
        "\n",
        "2. ¿Si el máximo de personas que puede atender en un día en el banco es de 570 personas, cuantas horas habrán pasado hasta llegar a su límite?"
      ],
      "metadata": {
        "id": "t3fzyH81OAba"
      }
    },
    {
      "cell_type": "code",
      "source": [
        "import numpy as np"
      ],
      "metadata": {
        "id": "BzlWYmm9PAhI"
      },
      "execution_count": 1,
      "outputs": []
    },
    {
      "cell_type": "code",
      "execution_count": 82,
      "metadata": {
        "colab": {
          "base_uri": "https://localhost:8080/"
        },
        "id": "snZFwt_NN4lG",
        "outputId": "1327d316-dc58-4583-fda7-2e6ea3b8a65c"
      },
      "outputs": [
        {
          "output_type": "stream",
          "name": "stdout",
          "text": [
            "Simulación 1 llegaron [182] clientes\n",
            "Simulación 2 llegaron [182, 168] clientes\n",
            "Simulación 3 llegaron [182, 168, 205] clientes\n",
            "Simulación 4 llegaron [182, 168, 205, 201] clientes\n",
            "Simulación 5 llegaron [182, 168, 205, 201, 190] clientes\n",
            "Simulación 6 llegaron [182, 168, 205, 201, 190, 222] clientes\n",
            "Simulación 7 llegaron [182, 168, 205, 201, 190, 222, 195] clientes\n",
            "Simulación 8 llegaron [182, 168, 205, 201, 190, 222, 195, 180] clientes\n",
            "Simulación 9 llegaron [182, 168, 205, 201, 190, 222, 195, 180, 207] clientes\n",
            "Simulación 10 llegaron [182, 168, 205, 201, 190, 222, 195, 180, 207, 210] clientes\n",
            "El promedio de clientes que se obtiene en cuatro horas es de 196.0\n"
          ]
        }
      ],
      "source": [
        "# 1. ¿Cuántas personas llegaran a lo largo de cuatro horas?\n",
        "\n",
        "lista_clientes = []\n",
        "contador = 1\n",
        "for i in range(1, 11):\n",
        "  clientes = np.random.poisson(50,4)\n",
        "  suma_clientes = np.sum(clientes)\n",
        "  lista_clientes.append(suma_clientes)\n",
        "  print(\"Simulación\", contador, \"llegaron\", lista_clientes, \"clientes\")\n",
        "  contador+= 1\n",
        "\n",
        "lista = np.array(lista_clientes)\n",
        "print(\"El promedio de clientes que se obtiene en cuatro horas es de\", np.mean(lista_clientes))"
      ]
    },
    {
      "cell_type": "code",
      "source": [
        "# 2. Si el máximo de personas que puede atender en un día en el banco es de 570 personas, ¿cuantas horas habrán pasado hasta llegar a su límite?\n",
        "\n",
        "lista_tiempo = []\n",
        "for i in range(1,11):\n",
        "  max_clientes = 0\n",
        "  tiempo = 0\n",
        "  while max_clientes <= 570:\n",
        "    max_clientes+= np.random.poisson(50)\n",
        "    tiempo+= 1\n",
        "  lista_tiempo.append(tiempo)\n",
        "  print(\"Simulación\", i,\". El tiempo para llegar a 570 personas es de:\", tiempo, \"horas\")\n",
        "\n",
        "lista = np.array(lista_tiempo)\n",
        "print(\"El promedio de tiempo para llegar a 570 clientes es de:\", np.mean(lista_tiempo), \"horas\")"
      ],
      "metadata": {
        "colab": {
          "base_uri": "https://localhost:8080/"
        },
        "id": "Li8cmTReSrB4",
        "outputId": "eacdde70-7c76-4d40-b6f1-fc00445b129a"
      },
      "execution_count": 83,
      "outputs": [
        {
          "output_type": "stream",
          "name": "stdout",
          "text": [
            "Simulación 1 . El tiempo para llegar a 570 personas es de: 12 horas\n",
            "Simulación 2 . El tiempo para llegar a 570 personas es de: 12 horas\n",
            "Simulación 3 . El tiempo para llegar a 570 personas es de: 11 horas\n",
            "Simulación 4 . El tiempo para llegar a 570 personas es de: 12 horas\n",
            "Simulación 5 . El tiempo para llegar a 570 personas es de: 13 horas\n",
            "Simulación 6 . El tiempo para llegar a 570 personas es de: 12 horas\n",
            "Simulación 7 . El tiempo para llegar a 570 personas es de: 12 horas\n",
            "Simulación 8 . El tiempo para llegar a 570 personas es de: 12 horas\n",
            "Simulación 9 . El tiempo para llegar a 570 personas es de: 12 horas\n",
            "Simulación 10 . El tiempo para llegar a 570 personas es de: 12 horas\n",
            "El promedio de tiempo para llegar a 570 clientes es de: 12.0 horas\n"
          ]
        }
      ]
    },
    {
      "cell_type": "markdown",
      "source": [
        "**TIEMPO DE ESPERA (VARIABLE CONTINUAS - UNIFORME)**"
      ],
      "metadata": {
        "id": "UVIuqz9TXUNg"
      }
    },
    {
      "cell_type": "markdown",
      "source": [
        "En tiempo de atención en minutos de una persona en un banco sigue una variable continua uniforme de extremos 5 y 10. Responda las siguientes preguntas:\n",
        "\n",
        "1. ¿Si el banco dispone de 8 ventanillas de atención, puede atender a 600 personas en ocho horas?\n",
        "\n",
        "2. Si al capacitar al personal, el tiempo de atención en minutos mejora y ahora es una variable continua uniforme de extremos 4 y 8, ¿se logra atender a las 600 personas con las 8 ventanillas de atención?"
      ],
      "metadata": {
        "id": "9qBmnP74XdFT"
      }
    },
    {
      "cell_type": "code",
      "source": [
        "import numpy as np"
      ],
      "metadata": {
        "id": "T980F4jMXgK_"
      },
      "execution_count": 66,
      "outputs": []
    },
    {
      "cell_type": "code",
      "source": [
        "# 1. ¿Si el banco dispone de 8 ventanillas de atención, ¿puede atender a 600 personas en ocho horas?\n",
        "# Cada ventanilla deberá poder atender a 75 personas en un día y dispone de 480 minutos\n",
        "\n",
        "lista_tiempo_atencion = []\n",
        "for i in range(1,11):\n",
        "  tiempo_atencion = np.random.uniform(5, 10, 75)\n",
        "  total_tiempo_atencion = np.sum(tiempo_atencion)\n",
        "  lista_tiempo_atencion.append(total_tiempo_atencion)\n",
        "  print(\"El tiempo necesario para atender a 75 clientes es de:\",total_tiempo_atencion, \"minutos\")\n",
        "\n",
        "tiempo = np.array(lista_tiempo_atencion)\n",
        "print(\"Para atendera a 75 clientes se requiere de:\", np.mean(tiempo), \"minutos\")"
      ],
      "metadata": {
        "colab": {
          "base_uri": "https://localhost:8080/"
        },
        "id": "Wv3Lu-MXXsTG",
        "outputId": "711f4fa7-27d5-448a-978c-535fa79538bb"
      },
      "execution_count": 79,
      "outputs": [
        {
          "output_type": "stream",
          "name": "stdout",
          "text": [
            "El tiempo necesario para atender a 75 clientes es de: 562.7462207949955 minutos\n",
            "El tiempo necesario para atender a 75 clientes es de: 562.506458911279 minutos\n",
            "El tiempo necesario para atender a 75 clientes es de: 546.1174039952746 minutos\n",
            "El tiempo necesario para atender a 75 clientes es de: 580.1975916957356 minutos\n",
            "El tiempo necesario para atender a 75 clientes es de: 545.6765568600489 minutos\n",
            "El tiempo necesario para atender a 75 clientes es de: 575.3771419378136 minutos\n",
            "El tiempo necesario para atender a 75 clientes es de: 570.2511925355305 minutos\n",
            "El tiempo necesario para atender a 75 clientes es de: 558.2023865212172 minutos\n",
            "El tiempo necesario para atender a 75 clientes es de: 540.6552684144656 minutos\n",
            "El tiempo necesario para atender a 75 clientes es de: 571.5898711363332 minutos\n",
            "Para atendera a 75 clientes se requiere de: 561.3320092802694 minutos\n"
          ]
        }
      ]
    },
    {
      "cell_type": "markdown",
      "source": [
        "Es técnicamente imposible lograr atender a 600 personas con 8 ventanillas en un día con la distribución de tiempo de atención dada"
      ],
      "metadata": {
        "id": "-hVLbdwDeqbp"
      }
    },
    {
      "cell_type": "code",
      "source": [
        "# 2. Si al capacitar al personal, el tiempo de atención en minutos mejora y ahora es una variable continua uniforme de extremos 4 y 8,\n",
        "# ¿se logra atender a las 600 personas con las 8 ventanillas de atención?\n",
        "\n",
        "lista_tiempo_atencion = []\n",
        "for i in range(1,11):\n",
        "  tiempo_atencion = np.random.uniform(4, 8, 75)\n",
        "  total_tiempo_atencion = np.sum(tiempo_atencion)\n",
        "  lista_tiempo_atencion.append(total_tiempo_atencion)\n",
        "  print(\"El tiempo necesario para atender a 75 clientes es de:\",total_tiempo_atencion, \"minutos\")\n",
        "\n",
        "tiempo = np.array(lista_tiempo_atencion)\n",
        "print(\"Para atendera a 75 clientes se requiere de:\", np.mean(tiempo), \"minutos\")"
      ],
      "metadata": {
        "colab": {
          "base_uri": "https://localhost:8080/"
        },
        "id": "PnOCkOHedblY",
        "outputId": "4eaa79ad-c258-426b-a8ec-da1f80dfd843"
      },
      "execution_count": 81,
      "outputs": [
        {
          "output_type": "stream",
          "name": "stdout",
          "text": [
            "El tiempo necesario para atender a 75 clientes es de: 443.0511868499695 minutos\n",
            "El tiempo necesario para atender a 75 clientes es de: 428.24521542874567 minutos\n",
            "El tiempo necesario para atender a 75 clientes es de: 450.40836780012205 minutos\n",
            "El tiempo necesario para atender a 75 clientes es de: 457.03947902511356 minutos\n",
            "El tiempo necesario para atender a 75 clientes es de: 437.3420763142078 minutos\n",
            "El tiempo necesario para atender a 75 clientes es de: 452.1203998208638 minutos\n",
            "El tiempo necesario para atender a 75 clientes es de: 450.72476110410366 minutos\n",
            "El tiempo necesario para atender a 75 clientes es de: 438.1514446098847 minutos\n",
            "El tiempo necesario para atender a 75 clientes es de: 461.02818190355936 minutos\n",
            "El tiempo necesario para atender a 75 clientes es de: 458.2652594205398 minutos\n",
            "Para atendera a 75 clientes se requiere de: 447.637637227711 minutos\n"
          ]
        }
      ]
    },
    {
      "cell_type": "markdown",
      "source": [
        "Si se mejora la distribución del tiempo de atención en los valores dados, si se podria atender a las 600 personas manteniendo 8 ventanillas"
      ],
      "metadata": {
        "id": "F9_W0wQre3qz"
      }
    }
  ]
}