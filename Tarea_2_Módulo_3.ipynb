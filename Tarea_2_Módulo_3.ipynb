{
  "nbformat": 4,
  "nbformat_minor": 0,
  "metadata": {
    "colab": {
      "provenance": [],
      "authorship_tag": "ABX9TyOFYLSdnyu1e6qs6nzoxgFj",
      "include_colab_link": true
    },
    "kernelspec": {
      "name": "python3",
      "display_name": "Python 3"
    },
    "language_info": {
      "name": "python"
    }
  },
  "cells": [
    {
      "cell_type": "markdown",
      "metadata": {
        "id": "view-in-github",
        "colab_type": "text"
      },
      "source": [
        "<a href=\"https://colab.research.google.com/github/dcallirgos/UTE_Fundamentos_de_Programacion/blob/main/Tarea_2_M%C3%B3dulo_3.ipynb\" target=\"_parent\"><img src=\"https://colab.research.google.com/assets/colab-badge.svg\" alt=\"Open In Colab\"/></a>"
      ]
    },
    {
      "cell_type": "markdown",
      "source": [
        "**OCURRENCIAS (VARIABLE DISCRETA – POISSON**"
      ],
      "metadata": {
        "id": "fmpkuk-PN63n"
      }
    },
    {
      "cell_type": "markdown",
      "source": [
        "El número promedio de clientes que recibe un banco es de 50 por hora.\n",
        "\n",
        "1. ¿Cuántas personas llegaran a lo largo de cuatro horas?\n",
        "\n",
        "2. ¿Si el máximo de personas que puede atender en un día en el banco es de 570 personas, cuantas horas habrán pasado hasta llegar a su límite?"
      ],
      "metadata": {
        "id": "t3fzyH81OAba"
      }
    },
    {
      "cell_type": "code",
      "source": [
        "import numpy as np"
      ],
      "metadata": {
        "id": "BzlWYmm9PAhI"
      },
      "execution_count": 1,
      "outputs": []
    },
    {
      "cell_type": "code",
      "execution_count": 37,
      "metadata": {
        "colab": {
          "base_uri": "https://localhost:8080/"
        },
        "id": "snZFwt_NN4lG",
        "outputId": "a2b35987-5b3f-4f9c-a9c5-98f374df052a"
      },
      "outputs": [
        {
          "output_type": "stream",
          "name": "stdout",
          "text": [
            "Simulación 1 llegaron [193] clientes\n",
            "Simulación 2 llegaron [193, 196] clientes\n",
            "Simulación 3 llegaron [193, 196, 199] clientes\n",
            "Simulación 4 llegaron [193, 196, 199, 200] clientes\n",
            "Simulación 5 llegaron [193, 196, 199, 200, 198] clientes\n",
            "Simulación 6 llegaron [193, 196, 199, 200, 198, 192] clientes\n",
            "Simulación 7 llegaron [193, 196, 199, 200, 198, 192, 202] clientes\n",
            "Simulación 8 llegaron [193, 196, 199, 200, 198, 192, 202, 235] clientes\n",
            "Simulación 9 llegaron [193, 196, 199, 200, 198, 192, 202, 235, 188] clientes\n",
            "Simulación 10 llegaron [193, 196, 199, 200, 198, 192, 202, 235, 188, 211] clientes\n",
            "El promedio de clientes que se obtiene en cuatro horas es de 201.4\n"
          ]
        }
      ],
      "source": [
        "# 1. ¿Cuántas personas llegaran a lo largo de cuatro horas?\n",
        "\n",
        "lista_clientes = []\n",
        "contador = 1\n",
        "for i in range(1, 11):\n",
        "  clientes = np.random.poisson(50,4)\n",
        "  suma_clientes = np.sum(clientes)\n",
        "  lista_clientes.append(suma_clientes)\n",
        "  print(\"Simulación\", contador, \"llegaron\", lista_clientes, \"clientes\")\n",
        "  contador+= 1\n",
        "\n",
        "lista = np.array(lista_clientes)\n",
        "print(\"El promedio de clientes que se obtiene en cuatro horas es de\", np.mean(lista_clientes))\n",
        "\n"
      ]
    },
    {
      "cell_type": "code",
      "source": [
        "# 2. Si el máximo de personas que puede atender en un día en el banco es de 570 personas, ¿cuantas horas habrán pasado hasta llegar a su límite?\n",
        "\n",
        "lista_tiempo = []\n",
        "for i in range(1,11):\n",
        "  max_clientes = 0\n",
        "  tiempo = 0\n",
        "  while max_clientes <= 570:\n",
        "    max_clientes+= np.random.poisson(50)\n",
        "    tiempo+= 1\n",
        "  lista_tiempo.append(tiempo)\n",
        "  print(\"Simulación\", i,\". El tiempo para llegar a 570 personas es de:\", tiempo, \"horas\")\n",
        "\n",
        "lista = np.array(lista_tiempo)\n",
        "print(\"El promedio de tiempo para llegar a 570 clientes es de:\", np.mean(lista_tiempo), \"horas\")\n"
      ],
      "metadata": {
        "colab": {
          "base_uri": "https://localhost:8080/"
        },
        "id": "Li8cmTReSrB4",
        "outputId": "cda9c1d5-cf25-4110-8e92-7469ed56a89a"
      },
      "execution_count": 36,
      "outputs": [
        {
          "output_type": "stream",
          "name": "stdout",
          "text": [
            "Simulación 1 . El tiempo para llegar a 570 personas es de: 12 horas\n",
            "Simulación 2 . El tiempo para llegar a 570 personas es de: 12 horas\n",
            "Simulación 3 . El tiempo para llegar a 570 personas es de: 12 horas\n",
            "Simulación 4 . El tiempo para llegar a 570 personas es de: 11 horas\n",
            "Simulación 5 . El tiempo para llegar a 570 personas es de: 12 horas\n",
            "Simulación 6 . El tiempo para llegar a 570 personas es de: 12 horas\n",
            "Simulación 7 . El tiempo para llegar a 570 personas es de: 12 horas\n",
            "Simulación 8 . El tiempo para llegar a 570 personas es de: 12 horas\n",
            "Simulación 9 . El tiempo para llegar a 570 personas es de: 12 horas\n",
            "Simulación 10 . El tiempo para llegar a 570 personas es de: 12 horas\n",
            "El promedio de tiempo para llegar a 570 clientes es de: 11.9 horas\n"
          ]
        }
      ]
    }
  ]
}