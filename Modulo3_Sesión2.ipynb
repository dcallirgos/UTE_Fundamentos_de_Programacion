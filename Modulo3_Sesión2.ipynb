{
  "nbformat": 4,
  "nbformat_minor": 0,
  "metadata": {
    "colab": {
      "provenance": [],
      "authorship_tag": "ABX9TyMYtE02tXAcl4MPTz8PMPqh",
      "include_colab_link": true
    },
    "kernelspec": {
      "name": "python3",
      "display_name": "Python 3"
    },
    "language_info": {
      "name": "python"
    }
  },
  "cells": [
    {
      "cell_type": "markdown",
      "metadata": {
        "id": "view-in-github",
        "colab_type": "text"
      },
      "source": [
        "<a href=\"https://colab.research.google.com/github/dcallirgos/UTE_Fundamentos_de_Programacion/blob/main/Modulo3_Sesi%C3%B3n2.ipynb\" target=\"_parent\"><img src=\"https://colab.research.google.com/assets/colab-badge.svg\" alt=\"Open In Colab\"/></a>"
      ]
    },
    {
      "cell_type": "markdown",
      "source": [
        "**Números Aleatorios Discretos Uniformes**"
      ],
      "metadata": {
        "id": "yHYZ0TkaP6qA"
      }
    },
    {
      "cell_type": "markdown",
      "source": [
        "Documentación Numpy: https://numpy.org/doc/stable/reference/random/"
      ],
      "metadata": {
        "id": "DBeK9lzPQTVb"
      }
    },
    {
      "cell_type": "code",
      "execution_count": 5,
      "metadata": {
        "id": "XGNkShIlLOOW"
      },
      "outputs": [],
      "source": [
        "import numpy as np"
      ]
    },
    {
      "cell_type": "markdown",
      "source": [
        "Comandos:\n",
        "\n",
        "**np.random.randint(low, high)**: Genera números enteros entre los valores low y high\n",
        "\n",
        "**np.random.random_integers(low, high)**: Genera números enteros entre los valores low y high-1\n",
        "\n"
      ],
      "metadata": {
        "id": "V-sL7V83QZMl"
      }
    },
    {
      "cell_type": "code",
      "source": [
        "# Generar un número aleatorio entre 23 y 42\n",
        "# Es necesario sumar uno al valor high\n",
        "valor_generado = np.random.randint(23, 42+1)\n",
        "print(valor_generado)"
      ],
      "metadata": {
        "colab": {
          "base_uri": "https://localhost:8080/"
        },
        "id": "S3sjBYMUQ6aa",
        "outputId": "8592193c-3b7d-46aa-b03d-3e214c157031"
      },
      "execution_count": 12,
      "outputs": [
        {
          "output_type": "stream",
          "name": "stdout",
          "text": [
            "28\n"
          ]
        }
      ]
    },
    {
      "cell_type": "code",
      "source": [
        "# Lanzar dados\n",
        "dado = np.random.randint(1, 6+1)\n",
        "print(dado)"
      ],
      "metadata": {
        "colab": {
          "base_uri": "https://localhost:8080/"
        },
        "id": "ezZ0dBnvRqci",
        "outputId": "9100260d-df6f-41a2-f45e-30e1ae22d770"
      },
      "execution_count": 35,
      "outputs": [
        {
          "output_type": "stream",
          "name": "stdout",
          "text": [
            "4\n"
          ]
        }
      ]
    },
    {
      "cell_type": "code",
      "source": [
        "# Lanzar dados 20 veces\n",
        "dado = np.random.randint(1, 6+1, 20)\n",
        "print(dado)"
      ],
      "metadata": {
        "colab": {
          "base_uri": "https://localhost:8080/"
        },
        "id": "Zhg6VQS6SO5M",
        "outputId": "4f7ff96f-a232-4d74-a4eb-37e9af3bd9fa"
      },
      "execution_count": 36,
      "outputs": [
        {
          "output_type": "stream",
          "name": "stdout",
          "text": [
            "[2 5 6 1 1 3 4 5 1 3 4 2 4 3 2 4 5 3 1 3]\n"
          ]
        }
      ]
    },
    {
      "cell_type": "code",
      "source": [
        "# Calcular el valor promedio que obtengo en lanzar un dado\n",
        "# Intuición: lanzo muchas veces el dado y apunto sus resultados, luego calculo el promedio\n",
        "\n",
        "promedio_dado = np.random.randint(1, 6+1, 20)\n",
        "print(promedio_dado)\n",
        "print(\"El valor promedio calculado con 20 tiros:\", np.mean(promedio_dado))\n",
        "\n",
        "promedio_dado = np.random.randint(1, 6+1, 2_000)\n",
        "print(\"El valor promedio calculado con 2,000 tiros:\", np.mean(promedio_dado))\n",
        "\n",
        "promedio_dado = np.random.randint(1, 6+1, 200_000)\n",
        "print(\"El valor promedio calculado con 200,000 tiros:\", np.mean(promedio_dado))\n",
        "\n",
        "promedio_dado = np.random.randint(1, 6+1, 2_000_000)\n",
        "print(\"El valor promedio calculado con 2,000,000 tiros:\", np.mean(promedio_dado))\n",
        "\n",
        "promedio_dado = np.random.randint(1, 6+1, 20_000_000)\n",
        "print(\"El valor promedio calculado con 20,000,000 tiros:\", np.mean(promedio_dado))"
      ],
      "metadata": {
        "colab": {
          "base_uri": "https://localhost:8080/"
        },
        "id": "x8ua2Hr1ShnS",
        "outputId": "c63939dd-fa8b-4e8d-880b-7a5c3779cb6b"
      },
      "execution_count": 17,
      "outputs": [
        {
          "output_type": "stream",
          "name": "stdout",
          "text": [
            "[1 4 3 5 1 2 6 2 3 6 3 4 1 2 4 2 1 4 3 2]\n",
            "El valor promedio calculado con 20 tiros: 2.95\n",
            "El valor promedio calculado con 2,000 tiros: 3.5095\n",
            "El valor promedio calculado con 200,000 tiros: 3.501195\n",
            "El valor promedio calculado con 2,000,000 tiros: 3.499548\n",
            "El valor promedio calculado con 20,000,000 tiros: 3.50018935\n"
          ]
        }
      ]
    },
    {
      "cell_type": "markdown",
      "source": [
        "1. Considere lanzar un dado 100 veces\n",
        "\n",
        "a. ¿Cuántas veces se obtendrá el valor de 2?\n",
        "\n",
        "b. ¿Cuántas veces se obtendrá el valor de 5?\n",
        "\n",
        "c. ¿Cuántas veces se obtendrá el valor de 3 o 6?"
      ],
      "metadata": {
        "id": "ap77Wm32Vq-C"
      }
    },
    {
      "cell_type": "code",
      "source": [
        "# Esta fue mi solución pero no es la más eficiente en consumo de recursos máquina\n",
        "\n",
        "dado2 = []\n",
        "for i in range(1,101):\n",
        "  a = np.random.randint(1, 6+1)\n",
        "  dado2.append(a)\n",
        "b = dado2.count(2)\n",
        "print(b)"
      ],
      "metadata": {
        "colab": {
          "base_uri": "https://localhost:8080/"
        },
        "id": "PKam3h2dVUrh",
        "outputId": "1ab04c9d-316e-4982-e099-365398dafcb4"
      },
      "execution_count": 25,
      "outputs": [
        {
          "output_type": "stream",
          "name": "stdout",
          "text": [
            "22\n"
          ]
        }
      ]
    },
    {
      "cell_type": "code",
      "source": [
        "# Semilla: fijar los números aleatorios para que siempre salgan los mismos\n",
        "np.random.seed(1)\n",
        "\n",
        "# Generar los 100 lanzamientos\n",
        "lanzamientos = np.random.randint(1, 6+1, 100)\n",
        "print(lanzamientos)\n",
        "\n",
        "es_dos = lanzamientos == 2\n",
        "print(\"La cantidad de veces que se obtuvo dos:\",np.sum(es_dos))\n",
        "\n",
        "es_cinco = lanzamientos == 5\n",
        "print(\"La cantidad de veces que se obtuvo cinco:\",np.sum(es_cinco))\n",
        "\n",
        "es_tres_seis = (lanzamientos == 3) + (lanzamientos ==6)\n",
        "print(\"La cantidad de veces que se obtuvo tres o seis:\",np.sum(es_tres_seis))\n"
      ],
      "metadata": {
        "colab": {
          "base_uri": "https://localhost:8080/"
        },
        "id": "VANzByDVXIIP",
        "outputId": "a2528778-613b-4527-9554-30fa4ed61f3f"
      },
      "execution_count": 43,
      "outputs": [
        {
          "output_type": "stream",
          "name": "stdout",
          "text": [
            "[6 4 5 1 2 4 6 1 1 2 5 6 5 2 3 5 6 3 5 4 5 3 5 6 3 5 2 2 1 6 2 2 6 2 2 1 5\n",
            " 2 1 1 6 4 3 2 1 4 6 2 2 4 5 1 2 4 5 3 5 1 6 4 2 3 1 5 2 3 3 2 1 2 4 6 5 4\n",
            " 6 2 4 1 1 3 3 2 4 5 3 1 1 2 2 6 4 1 1 6 6 5 6 3 5 4]\n",
            "La cantidad de veces que se obtuvo dos: 22\n",
            "La cantidad de veces que se obtuvo cinco: 17\n",
            "La cantidad de veces que se obtuvo tres o seis: 29\n"
          ]
        }
      ]
    },
    {
      "cell_type": "code",
      "source": [
        "import time"
      ],
      "metadata": {
        "id": "xpSEfrujbh5X"
      },
      "execution_count": 44,
      "outputs": []
    },
    {
      "cell_type": "code",
      "source": [
        "inicio = time.time()\n",
        "\n",
        "dado2 = []\n",
        "for i in range(1,1_000_000):\n",
        "  a = np.random.randint(1, 6+1)\n",
        "  dado2.append(a)\n",
        "b = dado2.count(2)\n",
        "\n",
        "fin = time.time()\n",
        "print(b)\n",
        "print(\"Tiempo de Ejecución:\", fin-inicio)"
      ],
      "metadata": {
        "colab": {
          "base_uri": "https://localhost:8080/"
        },
        "id": "yxrj6cw6bk3L",
        "outputId": "45561c81-2367-4104-b9a9-4618d9314a56"
      },
      "execution_count": 46,
      "outputs": [
        {
          "output_type": "stream",
          "name": "stdout",
          "text": [
            "166314\n",
            "Tiempo de Ejecución: 3.6471192836761475\n"
          ]
        }
      ]
    },
    {
      "cell_type": "markdown",
      "source": [
        "Considere lanzar dos dados 20 veces\n",
        "\n",
        "a. ¿Cuántas veces se obtendrá el valor de 12?\n",
        "\n",
        "b. ¿Cuántas veces se obtendrá el valor de 7?\n",
        "\n",
        "c. ¿Cuántas veces se obtendrá un número impar como resultado?"
      ],
      "metadata": {
        "id": "KK5YVtLOb-61"
      }
    },
    {
      "cell_type": "code",
      "source": [
        "# Generar los 20 lanzamientos en cada dado\n",
        "lanzamientos1 = np.random.randint(1, 6+1, 20)\n",
        "lanzamientos2 = np.random.randint(1, 6+1, 20)\n",
        "print(lanzamientos1)\n",
        "print(lanzamientos2)\n",
        "\n",
        "es_doce = (lanzamientos1 + lanzamientos2) == 12\n",
        "print(\"La cantidad de veces que se obtuvo doce:\",np.sum(es_doce))"
      ],
      "metadata": {
        "colab": {
          "base_uri": "https://localhost:8080/"
        },
        "id": "EUOwJrvlcDAJ",
        "outputId": "94fc9e64-8907-4ab2-8470-ae03632d80a6"
      },
      "execution_count": 53,
      "outputs": [
        {
          "output_type": "stream",
          "name": "stdout",
          "text": [
            "[5 3 2 2 4 1 5 3 6 6 3 1 3 5 1 1 6 6 6 3]\n",
            "[2 1 2 6 5 5 1 1 6 3 3 4 2 1 4 3 1 2 3 2]\n",
            "La cantidad de veces que se obtuvo doce: 1\n"
          ]
        }
      ]
    },
    {
      "cell_type": "code",
      "source": [
        "aleatorio1 = np.random.randint(1, 6+1, 20)\n",
        "aleatorio2 = np.random.randint(1, 6+1, 20)\n",
        "dosdados = aleatorio1+aleatorio2\n"
      ],
      "metadata": {
        "id": "KCyCiVNTfBD4"
      },
      "execution_count": null,
      "outputs": []
    },
    {
      "cell_type": "markdown",
      "source": [
        "**Variables Discretas Poisson**"
      ],
      "metadata": {
        "id": "B4cQaMTNfZXY"
      }
    },
    {
      "cell_type": "markdown",
      "source": [
        "Son ocurrencia en el tiempo\n",
        "\n",
        "Ejemplos\n",
        "\n",
        "* Personas que llegan a un banco en una hora\n",
        "* Cantidad de Denuncias obtenidas en un día\n",
        "* La Cantidad de aviones que aterrizan en el aeropuerto en una semana\n",
        "\n",
        "Comandos:\n",
        "\n",
        "**np.random.poisson(ocurrencias, cantidad de simulaciones)**"
      ],
      "metadata": {
        "id": "bfjwEFGpfir3"
      }
    },
    {
      "cell_type": "code",
      "source": [
        "import numpy as np"
      ],
      "metadata": {
        "id": "hnzsuVcZgmWO"
      },
      "execution_count": 54,
      "outputs": []
    },
    {
      "cell_type": "code",
      "source": [
        "# En un banco llegan en promedio 2000 personas por día\n",
        "# Simule la cantidad de personas que llegarán en una semana\n",
        "# Número de Ocurrencias = 2000\n",
        "# Cantidad de Simulaciones = 7\n",
        "\n",
        "valores_generados = np.random.poisson(2000,7)\n",
        "print(valores_generados)"
      ],
      "metadata": {
        "colab": {
          "base_uri": "https://localhost:8080/"
        },
        "id": "U1gEsZZAfdDl",
        "outputId": "97b8ec08-1da2-4982-d1c8-621888fed547"
      },
      "execution_count": 60,
      "outputs": [
        {
          "output_type": "stream",
          "name": "stdout",
          "text": [
            "[2017 1972 2009 2030 1987 1979 2051]\n"
          ]
        }
      ]
    },
    {
      "cell_type": "markdown",
      "source": [
        "Un banco recibe en promedio 20 clientes por hora, en un horario laboral cuantos\n",
        "clientes recibirá en promedio."
      ],
      "metadata": {
        "id": "XWpi0peYhHd-"
      }
    },
    {
      "cell_type": "code",
      "source": [
        "# Una Simulación\n",
        "valores_generados = np.random.poisson(20,8)\n",
        "print(valores_generados)\n",
        "print(\"Total de Clientes\", np.sum(valores_generados))"
      ],
      "metadata": {
        "colab": {
          "base_uri": "https://localhost:8080/"
        },
        "id": "ih4rB5SNhI5N",
        "outputId": "7eb077f7-9cd8-4c68-a750-db6e194f4f9f"
      },
      "execution_count": 75,
      "outputs": [
        {
          "output_type": "stream",
          "name": "stdout",
          "text": [
            "[26 31 21 10 20 26 22 18]\n",
            "Total de Clientes 174\n"
          ]
        }
      ]
    },
    {
      "cell_type": "code",
      "source": [
        "# Una Simulación para 10 días\n",
        "lista = []\n",
        "contador = 1\n",
        "for i in range(10):\n",
        "  valores_generados = np.random.poisson(20,8)\n",
        "  cantidad_semanal = np.sum(valores_generados)\n",
        "  lista.append(cantidad_semanal)\n",
        "  print(\"Semana\", contador, \"tuvo\", cantidad_semanal, \"clientes\")\n",
        "  contador = contador +1\n",
        "\n",
        "lista = np.array(lista)\n",
        "print(\"El promedio que se obtiene es\", np.mean(lista))"
      ],
      "metadata": {
        "colab": {
          "base_uri": "https://localhost:8080/"
        },
        "id": "kJoN5iBVit0n",
        "outputId": "39519745-be23-4613-d535-eb110f5f22f9"
      },
      "execution_count": 80,
      "outputs": [
        {
          "output_type": "stream",
          "name": "stdout",
          "text": [
            "Semana 1 tuvo 145 clientes\n",
            "Semana 2 tuvo 146 clientes\n",
            "Semana 3 tuvo 160 clientes\n",
            "Semana 4 tuvo 173 clientes\n",
            "Semana 5 tuvo 144 clientes\n",
            "Semana 6 tuvo 150 clientes\n",
            "Semana 7 tuvo 173 clientes\n",
            "Semana 8 tuvo 131 clientes\n",
            "Semana 9 tuvo 147 clientes\n",
            "Semana 10 tuvo 135 clientes\n",
            "El promedio que se obtiene es 150.4\n"
          ]
        }
      ]
    },
    {
      "cell_type": "markdown",
      "source": [
        "**Tarea Ejercicio 5 y 6**\n",
        "\n",
        "Correo: jyarascam@utec.edu.pe\n"
      ],
      "metadata": {
        "id": "6ZDXEx_WlSRN"
      }
    },
    {
      "cell_type": "markdown",
      "source": [
        "**El número de personas que llegan a un hospital para ser atendidas es de 8 por hora.**\n",
        "\n",
        "a. ¿Cuántas personas llegaran a lo largo de tres horas?\n",
        "\n",
        "b. ¿En cuánto tiempo habrán llegado 15 personas?\n",
        "\n",
        "c. ¿Si el máximo de personas que puede atender en un día el hospital es de 100,\n",
        "cuantas horas habrán pasado hasta llegar a su límite?\n"
      ],
      "metadata": {
        "id": "5wi8O1FFfjKU"
      }
    },
    {
      "cell_type": "markdown",
      "source": [],
      "metadata": {
        "id": "SOjG6a-qlW3G"
      }
    },
    {
      "cell_type": "code",
      "source": [
        "import numpy as np"
      ],
      "metadata": {
        "id": "IdQT_UD1f5zD"
      },
      "execution_count": 1,
      "outputs": []
    },
    {
      "cell_type": "code",
      "source": [
        "# Los números aleatorios Poisson simulan cantidad de ocurrencias\n",
        "# en periodos de tiempo (8 personas en promedio por hora)\n",
        "\n",
        "# Parte a \"np.random.poisson(ocurrencias, periodos)\"\n",
        "\n",
        "# Simular 10 escenarios\n",
        "for i in range(1,11):\n",
        "  x = np.random.poisson(8, 3)\n",
        "  total = np.sum(x)\n",
        "  print(\"Escenario\", i, \"Total de personas:\", total)\n"
      ],
      "metadata": {
        "id": "DTKahHbQfnJu"
      },
      "execution_count": null,
      "outputs": []
    },
    {
      "cell_type": "code",
      "source": [
        "# Parte b. En cuanto tiempo llegan 15 personas\n",
        "\n",
        "suma = 0\n",
        "tiempo_horas = 0\n",
        "while suma <= 15:\n",
        "  suma+= np.random.poisson(8)\n",
        "  tiempo_horas+= 1\n",
        "\n",
        "print(\"El tiempo en horas es de:\", tiempo_horas)"
      ],
      "metadata": {
        "colab": {
          "base_uri": "https://localhost:8080/"
        },
        "id": "CssA9KUOhtht",
        "outputId": "3f59099f-f5e8-4022-9821-0f24ed0454b6"
      },
      "execution_count": 21,
      "outputs": [
        {
          "output_type": "stream",
          "name": "stdout",
          "text": [
            "El tiempo en horas es de: 2\n"
          ]
        }
      ]
    },
    {
      "cell_type": "code",
      "source": [
        "# Parte b. En cuanto tiempo llegan 15 personas\n",
        "# Con for y generando 1 millon de escenarios\n",
        "\n",
        "lista = []\n",
        "for i in range(1_000_000):\n",
        "  suma = 0\n",
        "  tiempo_horas = 0\n",
        "  while suma <= 15:\n",
        "    suma+= np.random.poisson(8)\n",
        "    tiempo_horas+= 1\n",
        "  lista.append(tiempo_horas)\n",
        "\n",
        "lista = np.array(lista)\n",
        "print(\"El promedio de tiempo para que lleguen 15 pacientes es:\", np.mean(lista), \"horas\")\n",
        ""
      ],
      "metadata": {
        "colab": {
          "base_uri": "https://localhost:8080/"
        },
        "id": "NfK3D6Eeij3i",
        "outputId": "70d13926-5748-4d49-8aa2-87fac1400476"
      },
      "execution_count": 28,
      "outputs": [
        {
          "output_type": "stream",
          "name": "stdout",
          "text": [
            "El promedio de tiempo para que lleguen 15 pacientes es: 2.493427 horas\n"
          ]
        }
      ]
    },
    {
      "cell_type": "code",
      "source": [
        "# Parte c. ¿Si el máximo de personas que puede atender en un día el hospital\n",
        "# es de 100, cuantas horas habrán pasado hasta llegar a su límite?\n",
        "\n",
        "for i in range(1,11):\n",
        "  suma = 0\n",
        "  tiempo = 0\n",
        "  while suma <= 100:\n",
        "    suma+= np.random.poisson(8)\n",
        "    tiempo+= 1\n",
        "  print(\"Escenario\", i, \"tiempo en llegar a 100 personas es:\", tiempo)"
      ],
      "metadata": {
        "colab": {
          "base_uri": "https://localhost:8080/"
        },
        "id": "nCLyTfWMj3IM",
        "outputId": "eeb4532d-3017-4f6b-f6e2-2e6bb499cb32"
      },
      "execution_count": 38,
      "outputs": [
        {
          "output_type": "stream",
          "name": "stdout",
          "text": [
            "Escenario 1 tiempo en llegar a 100 personas es: 13\n",
            "Escenario 2 tiempo en llegar a 100 personas es: 13\n",
            "Escenario 3 tiempo en llegar a 100 personas es: 14\n",
            "Escenario 4 tiempo en llegar a 100 personas es: 11\n",
            "Escenario 5 tiempo en llegar a 100 personas es: 12\n",
            "Escenario 6 tiempo en llegar a 100 personas es: 12\n",
            "Escenario 7 tiempo en llegar a 100 personas es: 13\n",
            "Escenario 8 tiempo en llegar a 100 personas es: 13\n",
            "Escenario 9 tiempo en llegar a 100 personas es: 13\n",
            "Escenario 10 tiempo en llegar a 100 personas es: 16\n"
          ]
        }
      ]
    },
    {
      "cell_type": "code",
      "source": [
        "lista = []\n",
        "for i in range(1_000_000):\n",
        "  suma = 0\n",
        "  tiempo = 0\n",
        "  while suma <= 100:\n",
        "    suma+= np.random.poisson(8)\n",
        "    tiempo+= 1\n",
        "  lista.append(tiempo)\n",
        "\n",
        "lista = np.array(lista)\n",
        "print(\"El promedio de tiempo para que lleguen 100 pacientes es:\", np.mean(lista), \"horas\")"
      ],
      "metadata": {
        "colab": {
          "base_uri": "https://localhost:8080/"
        },
        "id": "TwcEkbMmk6Y3",
        "outputId": "ff9181b5-7d77-4c78-88d3-ad700a3d9120"
      },
      "execution_count": 39,
      "outputs": [
        {
          "output_type": "stream",
          "name": "stdout",
          "text": [
            "El promedio de tiempo para que lleguen 100 pacientes es: 13.125543 horas\n"
          ]
        }
      ]
    },
    {
      "cell_type": "markdown",
      "source": [
        "**Variables Continuas Uniformes**"
      ],
      "metadata": {
        "id": "UXw8o68QmNGv"
      }
    },
    {
      "cell_type": "markdown",
      "source": [
        "Toman valores en un intervalo (enteros y decimales). Todos los valores tienen la misma probabilidad de ocurrir\n",
        "\n",
        "Ejemplos:\n",
        "\n",
        "* El tiempo de espera de un bus.\n",
        "* La temperatura del día.\n",
        "* Velocidad del tiempo en Lima.\n",
        "\n",
        "Comandos:\n",
        "\n",
        "* **np.random.uniform(los, high)**"
      ],
      "metadata": {
        "id": "sxcS3nVumd4a"
      }
    },
    {
      "cell_type": "code",
      "source": [
        "# Valor entre 5 y 10\n",
        "valor_generado = np.random.uniform(5, 10)\n",
        "valor_generado"
      ],
      "metadata": {
        "colab": {
          "base_uri": "https://localhost:8080/"
        },
        "id": "XAEZAxJZnHiw",
        "outputId": "47cf2279-f4ed-45cc-cce8-6a95bdab8681"
      },
      "execution_count": 44,
      "outputs": [
        {
          "output_type": "execute_result",
          "data": {
            "text/plain": [
              "7.407489360059785"
            ]
          },
          "metadata": {},
          "execution_count": 44
        }
      ]
    },
    {
      "cell_type": "code",
      "source": [
        "# Valor entre -5 y 5\n",
        "valor_generado = np.random.uniform(-5, 5)\n",
        "valor_generado"
      ],
      "metadata": {
        "colab": {
          "base_uri": "https://localhost:8080/"
        },
        "id": "ye1Zc1eRnZy3",
        "outputId": "edf9cba4-2382-48e3-c600-791fe7a0c726"
      },
      "execution_count": 51,
      "outputs": [
        {
          "output_type": "execute_result",
          "data": {
            "text/plain": [
              "-1.783953187398284"
            ]
          },
          "metadata": {},
          "execution_count": 51
        }
      ]
    },
    {
      "cell_type": "markdown",
      "source": [
        "Si el tiempo de espera en minutos de un autobús sigue una variable uniforme de\n",
        "extremos 0 y 10.\n",
        "\n",
        "¿Cuánto es el tiempo promedio de espera?\n"
      ],
      "metadata": {
        "id": "IaY0CPZ7maSE"
      }
    },
    {
      "cell_type": "code",
      "source": [
        "lista = []\n",
        "for i in range(1_000_000):\n",
        "  tiempo_espera = np.random.uniform(0,10)\n",
        "  lista.append(tiempo_espera)\n",
        "\n",
        "lista = np.array(lista)\n",
        "print(\"El tiempo promedio de espera del bus es de:\", np.mean(lista), \"minutos\")"
      ],
      "metadata": {
        "colab": {
          "base_uri": "https://localhost:8080/"
        },
        "id": "1iN0D9mymQkn",
        "outputId": "8b3b5813-efa5-4a13-cb1d-2c85c3abc92b"
      },
      "execution_count": 53,
      "outputs": [
        {
          "output_type": "stream",
          "name": "stdout",
          "text": [
            "El tiempo promedio de espera del bus es de: 5.002193058815519 minutos\n"
          ]
        }
      ]
    },
    {
      "cell_type": "markdown",
      "source": [
        "En la RENIEC el tiempo de atención promedio en una ventanilla es de 10 minutos.\n",
        "\n",
        "a. Establezca una distribución uniforme para el tiempo de espera.\n",
        "\n",
        "b. Si el banco dispone de 10 ventillas de atención, puede atender a 700\n",
        "personas en un día.\n",
        "\n",
        "c. Si se plantea optimizar al personal con el objetivo de disminuir el tiempo de\n",
        "atención, cuanto debería ser el nuevo tiempo de atención con el objetivo de\n",
        "atender a 700 personas por día.\n",
        "\n",
        "d. Si se plantea expandir el número de ventanillas, cuantas son necesarias para\n",
        "atender a 700 personas por día.  \n"
      ],
      "metadata": {
        "id": "hkxuXvGGqLqJ"
      }
    },
    {
      "cell_type": "code",
      "source": [
        "# Parte a. Asumimos que la variable es uniforme de low = 5 y high= 15 minutos\n",
        "\n",
        "# Parte b. Una ventanilla debería atender a 70 personas en 8 horas (480 minutos) --> IMPOSIBLE\n",
        "\n",
        "# Simulación\n",
        "\n",
        "tiempo_de_atenciones = np.random.uniform(5, 15, 70)\n",
        "total_tiempo_atendido = np.sum(tiempo_de_atenciones)\n",
        "print(total_tiempo_atendido)"
      ],
      "metadata": {
        "colab": {
          "base_uri": "https://localhost:8080/"
        },
        "id": "wJVMdKmPqO96",
        "outputId": "abaae258-9756-4758-94e9-4496a2273811"
      },
      "execution_count": 60,
      "outputs": [
        {
          "output_type": "stream",
          "name": "stdout",
          "text": [
            "683.5310897382918\n"
          ]
        }
      ]
    },
    {
      "cell_type": "code",
      "source": [
        "for i in range(1,11):\n",
        "  tiempo_de_atenciones = np.random.uniform(5, 15, 70)\n",
        "  total_tiempo_atendido = np.sum(tiempo_de_atenciones)\n",
        "  print(\"Escenario\", i, \"tiempo en atender a las 70 personas es:\", total_tiempo_atendido, \"minutos\")"
      ],
      "metadata": {
        "colab": {
          "base_uri": "https://localhost:8080/"
        },
        "id": "nM9I5vWksG1w",
        "outputId": "94c355f5-8e78-4d3c-8d24-88568704ccb7"
      },
      "execution_count": 62,
      "outputs": [
        {
          "output_type": "stream",
          "name": "stdout",
          "text": [
            "Escenario 1 tiempo en atender a las 70 personas es: 696.2238947216517 minutos\n",
            "Escenario 2 tiempo en atender a las 70 personas es: 653.7391909234661 minutos\n",
            "Escenario 3 tiempo en atender a las 70 personas es: 720.3512797077626 minutos\n",
            "Escenario 4 tiempo en atender a las 70 personas es: 706.4847579568755 minutos\n",
            "Escenario 5 tiempo en atender a las 70 personas es: 712.1627110867895 minutos\n",
            "Escenario 6 tiempo en atender a las 70 personas es: 707.5088014581539 minutos\n",
            "Escenario 7 tiempo en atender a las 70 personas es: 689.8561385333832 minutos\n",
            "Escenario 8 tiempo en atender a las 70 personas es: 699.869834215818 minutos\n",
            "Escenario 9 tiempo en atender a las 70 personas es: 725.4464456635155 minutos\n",
            "Escenario 10 tiempo en atender a las 70 personas es: 713.2084629374202 minutos\n"
          ]
        }
      ]
    },
    {
      "cell_type": "code",
      "source": [
        "# Parte c. Tiempos de atención para poder atender 700 personas\n",
        "\n",
        "minimo = 5\n",
        "maximo = 8\n",
        "\n",
        "for i in range(1,11):\n",
        "  tiempo_de_atenciones = np.random.uniform(minimo, maximo, 70)\n",
        "  total_tiempo_atendido = np.sum(tiempo_de_atenciones)\n",
        "  print(\"Escenario\", i, \"tiempo en atender a las 70 personas es:\", total_tiempo_atendido, \"minutos\")"
      ],
      "metadata": {
        "colab": {
          "base_uri": "https://localhost:8080/"
        },
        "id": "zzzjoB5_st7m",
        "outputId": "37365073-5eb5-43de-e007-eff263a3e7b4"
      },
      "execution_count": 65,
      "outputs": [
        {
          "output_type": "stream",
          "name": "stdout",
          "text": [
            "Escenario 1 tiempo en atender a las 70 personas es: 451.42314924018586 minutos\n",
            "Escenario 2 tiempo en atender a las 70 personas es: 460.3888936053372 minutos\n",
            "Escenario 3 tiempo en atender a las 70 personas es: 459.85204672425664 minutos\n",
            "Escenario 4 tiempo en atender a las 70 personas es: 451.97493773639434 minutos\n",
            "Escenario 5 tiempo en atender a las 70 personas es: 448.98778592903653 minutos\n",
            "Escenario 6 tiempo en atender a las 70 personas es: 440.24836393168 minutos\n",
            "Escenario 7 tiempo en atender a las 70 personas es: 462.29751582726595 minutos\n",
            "Escenario 8 tiempo en atender a las 70 personas es: 462.5937366573365 minutos\n",
            "Escenario 9 tiempo en atender a las 70 personas es: 447.47732388472133 minutos\n",
            "Escenario 10 tiempo en atender a las 70 personas es: 445.22887775749564 minutos\n"
          ]
        }
      ]
    },
    {
      "cell_type": "code",
      "source": [
        "# Parte d. Cuántas ventanillas se requeririan\n",
        "# 700 personas por atender N ventanillas, las personas por ventanilla es de 700/N en 8 horas (480 minutos)\n",
        "\n",
        "Nclientes = 700\n",
        "Nventanillas = 16\n",
        "Natenciones_por_ventanilla = Nclientes//Nventanillas\n",
        "\n",
        "for i in range(1,11):\n",
        "  tiempo_de_atenciones = np.random.uniform(5, 15, Natenciones_por_ventanilla)\n",
        "  total_tiempo_atendido = np.sum(tiempo_de_atenciones)\n",
        "  print(\"Escenario\", i, \"tiempo en atender es:\", total_tiempo_atendido, \"minutos\")\n"
      ],
      "metadata": {
        "colab": {
          "base_uri": "https://localhost:8080/"
        },
        "id": "UrYgndXTuxAB",
        "outputId": "88670588-5e86-4078-c788-dbc62e924192"
      },
      "execution_count": 69,
      "outputs": [
        {
          "output_type": "stream",
          "name": "stdout",
          "text": [
            "Escenario 1 tiempo en atender es: 433.38170034124323 minutos\n",
            "Escenario 2 tiempo en atender es: 446.1347655926573 minutos\n",
            "Escenario 3 tiempo en atender es: 394.1936523058915 minutos\n",
            "Escenario 4 tiempo en atender es: 435.1045951919922 minutos\n",
            "Escenario 5 tiempo en atender es: 463.8289619496186 minutos\n",
            "Escenario 6 tiempo en atender es: 438.73417306797376 minutos\n",
            "Escenario 7 tiempo en atender es: 388.7592489906331 minutos\n",
            "Escenario 8 tiempo en atender es: 461.8533292372135 minutos\n",
            "Escenario 9 tiempo en atender es: 413.29832313309595 minutos\n",
            "Escenario 10 tiempo en atender es: 442.5937307449793 minutos\n"
          ]
        }
      ]
    },
    {
      "cell_type": "markdown",
      "source": [
        "**Variables Continuas Normales**"
      ],
      "metadata": {
        "id": "bWWQxrDev63E"
      }
    },
    {
      "cell_type": "markdown",
      "source": [
        "Son variables que especifican su valor medio y su margen de error\n",
        "\n",
        "Comando\n",
        "\n",
        "** *np.random.normal(media, error, cantidad)**"
      ],
      "metadata": {
        "id": "ymWD1FYHwdkV"
      }
    },
    {
      "cell_type": "code",
      "source": [
        "# Un fabricante de piezas de metal producen unos aros de aluminio\n",
        "# de 80 cm. con un error de 2 cm.\n",
        "# Genere algunas medidas de sus piezas producidas\n",
        "\n",
        "valor_generado = np.random.normal(80, 2)\n",
        "print(valor_generado)"
      ],
      "metadata": {
        "colab": {
          "base_uri": "https://localhost:8080/"
        },
        "id": "3qe3i3uIw12B",
        "outputId": "5a96c9e6-8580-4501-c515-1c348b737c55"
      },
      "execution_count": 79,
      "outputs": [
        {
          "output_type": "stream",
          "name": "stdout",
          "text": [
            "81.25173884982487\n"
          ]
        }
      ]
    },
    {
      "cell_type": "code",
      "source": [
        "valor_generado = np.random.normal(80, 2, 10)\n",
        "print(valor_generado)"
      ],
      "metadata": {
        "colab": {
          "base_uri": "https://localhost:8080/"
        },
        "id": "cW-am4guxjkc",
        "outputId": "9e7e7d3a-feb6-4945-db3a-63b9a9401695"
      },
      "execution_count": 80,
      "outputs": [
        {
          "output_type": "stream",
          "name": "stdout",
          "text": [
            "[80.28946683 79.3971691  79.15940881 81.9450932  79.88886421 82.76764007\n",
            " 79.75258541 79.71733187 81.38302353 82.85856054]\n"
          ]
        }
      ]
    },
    {
      "cell_type": "markdown",
      "source": [
        "Cierta empresa productora de botellas de vino conoce que la distribución del grado de alcohol es una variable normal de media 11 y de varianza 2. Por normativas legales, las botellas de vino deben de tener una cantidad menor de 11.5 grados de alcohol para poder ser enviadas a las distribuidoras. ¿De un lote de 5000 botellas cuantas serán aceptadas?\n",
        "\n",
        "varianza = error**2\n"
      ],
      "metadata": {
        "id": "jf2voMO0xxAv"
      }
    },
    {
      "cell_type": "code",
      "source": [
        "for i in range(1,11):\n",
        "  botellas = np.random.normal(11, 2**0.5, 5_000)\n",
        "  aceptado = botellas < 11.5\n",
        "  cantidad_aceptada = np.sum(aceptado)\n",
        "  print(\"Escenario\", i, \"se aceptan:\", cantidad_aceptada)"
      ],
      "metadata": {
        "colab": {
          "base_uri": "https://localhost:8080/"
        },
        "id": "0FOaesYixq2w",
        "outputId": "55bfbd3b-a070-43c0-a04c-c2c1018fe903"
      },
      "execution_count": 90,
      "outputs": [
        {
          "output_type": "stream",
          "name": "stdout",
          "text": [
            "Escenario 1 se aceptan: 3145\n",
            "Escenario 2 se aceptan: 3294\n",
            "Escenario 3 se aceptan: 3203\n",
            "Escenario 4 se aceptan: 3126\n",
            "Escenario 5 se aceptan: 3180\n",
            "Escenario 6 se aceptan: 3152\n",
            "Escenario 7 se aceptan: 3168\n",
            "Escenario 8 se aceptan: 3138\n",
            "Escenario 9 se aceptan: 3216\n",
            "Escenario 10 se aceptan: 3109\n"
          ]
        }
      ]
    }
  ]
}