{
  "nbformat": 4,
  "nbformat_minor": 0,
  "metadata": {
    "colab": {
      "provenance": [],
      "authorship_tag": "ABX9TyMJ2Xg3FilBnt9AloPiem3/",
      "include_colab_link": true
    },
    "kernelspec": {
      "name": "python3",
      "display_name": "Python 3"
    },
    "language_info": {
      "name": "python"
    }
  },
  "cells": [
    {
      "cell_type": "markdown",
      "metadata": {
        "id": "view-in-github",
        "colab_type": "text"
      },
      "source": [
        "<a href=\"https://colab.research.google.com/github/dcallirgos/UTE_Fundamentos_de_Programacion/blob/main/Modulo3_Sesi%C3%B3n2.ipynb\" target=\"_parent\"><img src=\"https://colab.research.google.com/assets/colab-badge.svg\" alt=\"Open In Colab\"/></a>"
      ]
    },
    {
      "cell_type": "markdown",
      "source": [
        "**Números Aleatorios Discretos Uniformes**"
      ],
      "metadata": {
        "id": "yHYZ0TkaP6qA"
      }
    },
    {
      "cell_type": "markdown",
      "source": [
        "Documentación Numpy: https://numpy.org/doc/stable/reference/random/"
      ],
      "metadata": {
        "id": "DBeK9lzPQTVb"
      }
    },
    {
      "cell_type": "code",
      "execution_count": 5,
      "metadata": {
        "id": "XGNkShIlLOOW"
      },
      "outputs": [],
      "source": [
        "import numpy as np"
      ]
    },
    {
      "cell_type": "markdown",
      "source": [
        "Comandos:\n",
        "\n",
        "**np.random.randint(low, high)**: Genera números enteros entre los valores low y high\n",
        "\n",
        "**np.random.random_integers(low, high)**: Genera números enteros entre los valores low y high-1\n",
        "\n"
      ],
      "metadata": {
        "id": "V-sL7V83QZMl"
      }
    },
    {
      "cell_type": "code",
      "source": [
        "# Generar un número aleatorio entre 23 y 42\n",
        "# Es necesario sumar uno al valor high\n",
        "valor_generado = np.random.randint(23, 42+1)\n",
        "print(valor_generado)"
      ],
      "metadata": {
        "colab": {
          "base_uri": "https://localhost:8080/"
        },
        "id": "S3sjBYMUQ6aa",
        "outputId": "8592193c-3b7d-46aa-b03d-3e214c157031"
      },
      "execution_count": 12,
      "outputs": [
        {
          "output_type": "stream",
          "name": "stdout",
          "text": [
            "28\n"
          ]
        }
      ]
    },
    {
      "cell_type": "code",
      "source": [
        "# Lanzar dados\n",
        "dado = np.random.randint(1, 6+1)\n",
        "print(dado)"
      ],
      "metadata": {
        "colab": {
          "base_uri": "https://localhost:8080/"
        },
        "id": "ezZ0dBnvRqci",
        "outputId": "9100260d-df6f-41a2-f45e-30e1ae22d770"
      },
      "execution_count": 35,
      "outputs": [
        {
          "output_type": "stream",
          "name": "stdout",
          "text": [
            "4\n"
          ]
        }
      ]
    },
    {
      "cell_type": "code",
      "source": [
        "# Lanzar dados 20 veces\n",
        "dado = np.random.randint(1, 6+1, 20)\n",
        "print(dado)"
      ],
      "metadata": {
        "colab": {
          "base_uri": "https://localhost:8080/"
        },
        "id": "Zhg6VQS6SO5M",
        "outputId": "4f7ff96f-a232-4d74-a4eb-37e9af3bd9fa"
      },
      "execution_count": 36,
      "outputs": [
        {
          "output_type": "stream",
          "name": "stdout",
          "text": [
            "[2 5 6 1 1 3 4 5 1 3 4 2 4 3 2 4 5 3 1 3]\n"
          ]
        }
      ]
    },
    {
      "cell_type": "code",
      "source": [
        "# Calcular el valor promedio que obtengo en lanzar un dado\n",
        "# Intuición: lanzo muchas veces el dado y apunto sus resultados, luego calculo el promedio\n",
        "\n",
        "promedio_dado = np.random.randint(1, 6+1, 20)\n",
        "print(promedio_dado)\n",
        "print(\"El valor promedio calculado con 20 tiros:\", np.mean(promedio_dado))\n",
        "\n",
        "promedio_dado = np.random.randint(1, 6+1, 2_000)\n",
        "print(\"El valor promedio calculado con 2,000 tiros:\", np.mean(promedio_dado))\n",
        "\n",
        "promedio_dado = np.random.randint(1, 6+1, 200_000)\n",
        "print(\"El valor promedio calculado con 200,000 tiros:\", np.mean(promedio_dado))\n",
        "\n",
        "promedio_dado = np.random.randint(1, 6+1, 2_000_000)\n",
        "print(\"El valor promedio calculado con 2,000,000 tiros:\", np.mean(promedio_dado))\n",
        "\n",
        "promedio_dado = np.random.randint(1, 6+1, 20_000_000)\n",
        "print(\"El valor promedio calculado con 20,000,000 tiros:\", np.mean(promedio_dado))"
      ],
      "metadata": {
        "colab": {
          "base_uri": "https://localhost:8080/"
        },
        "id": "x8ua2Hr1ShnS",
        "outputId": "c63939dd-fa8b-4e8d-880b-7a5c3779cb6b"
      },
      "execution_count": 17,
      "outputs": [
        {
          "output_type": "stream",
          "name": "stdout",
          "text": [
            "[1 4 3 5 1 2 6 2 3 6 3 4 1 2 4 2 1 4 3 2]\n",
            "El valor promedio calculado con 20 tiros: 2.95\n",
            "El valor promedio calculado con 2,000 tiros: 3.5095\n",
            "El valor promedio calculado con 200,000 tiros: 3.501195\n",
            "El valor promedio calculado con 2,000,000 tiros: 3.499548\n",
            "El valor promedio calculado con 20,000,000 tiros: 3.50018935\n"
          ]
        }
      ]
    },
    {
      "cell_type": "markdown",
      "source": [
        "1. Considere lanzar un dado 100 veces\n",
        "\n",
        "a. ¿Cuántas veces se obtendrá el valor de 2?\n",
        "\n",
        "b. ¿Cuántas veces se obtendrá el valor de 5?\n",
        "\n",
        "c. ¿Cuántas veces se obtendrá el valor de 3 o 6?"
      ],
      "metadata": {
        "id": "ap77Wm32Vq-C"
      }
    },
    {
      "cell_type": "code",
      "source": [
        "# Esta fue mi solución pero no es la más eficiente en consumo de recursos máquina\n",
        "\n",
        "dado2 = []\n",
        "for i in range(1,101):\n",
        "  a = np.random.randint(1, 6+1)\n",
        "  dado2.append(a)\n",
        "b = dado2.count(2)\n",
        "print(b)"
      ],
      "metadata": {
        "colab": {
          "base_uri": "https://localhost:8080/"
        },
        "id": "PKam3h2dVUrh",
        "outputId": "1ab04c9d-316e-4982-e099-365398dafcb4"
      },
      "execution_count": 25,
      "outputs": [
        {
          "output_type": "stream",
          "name": "stdout",
          "text": [
            "22\n"
          ]
        }
      ]
    },
    {
      "cell_type": "code",
      "source": [
        "# Semilla: fijar los números aleatorios para que siempre salgan los mismos\n",
        "np.random.seed(1)\n",
        "\n",
        "# Generar los 100 lanzamientos\n",
        "lanzamientos = np.random.randint(1, 6+1, 100)\n",
        "print(lanzamientos)\n",
        "\n",
        "es_dos = lanzamientos == 2\n",
        "print(\"La cantidad de veces que se obtuvo dos:\",np.sum(es_dos))\n",
        "\n",
        "es_cinco = lanzamientos == 5\n",
        "print(\"La cantidad de veces que se obtuvo cinco:\",np.sum(es_cinco))\n",
        "\n",
        "es_tres_seis = (lanzamientos == 3) + (lanzamientos ==6)\n",
        "print(\"La cantidad de veces que se obtuvo tres o seis:\",np.sum(es_tres_seis))\n"
      ],
      "metadata": {
        "colab": {
          "base_uri": "https://localhost:8080/"
        },
        "id": "VANzByDVXIIP",
        "outputId": "a2528778-613b-4527-9554-30fa4ed61f3f"
      },
      "execution_count": 43,
      "outputs": [
        {
          "output_type": "stream",
          "name": "stdout",
          "text": [
            "[6 4 5 1 2 4 6 1 1 2 5 6 5 2 3 5 6 3 5 4 5 3 5 6 3 5 2 2 1 6 2 2 6 2 2 1 5\n",
            " 2 1 1 6 4 3 2 1 4 6 2 2 4 5 1 2 4 5 3 5 1 6 4 2 3 1 5 2 3 3 2 1 2 4 6 5 4\n",
            " 6 2 4 1 1 3 3 2 4 5 3 1 1 2 2 6 4 1 1 6 6 5 6 3 5 4]\n",
            "La cantidad de veces que se obtuvo dos: 22\n",
            "La cantidad de veces que se obtuvo cinco: 17\n",
            "La cantidad de veces que se obtuvo tres o seis: 29\n"
          ]
        }
      ]
    },
    {
      "cell_type": "code",
      "source": [
        "import time"
      ],
      "metadata": {
        "id": "xpSEfrujbh5X"
      },
      "execution_count": 44,
      "outputs": []
    },
    {
      "cell_type": "code",
      "source": [
        "inicio = time.time()\n",
        "\n",
        "dado2 = []\n",
        "for i in range(1,1_000_000):\n",
        "  a = np.random.randint(1, 6+1)\n",
        "  dado2.append(a)\n",
        "b = dado2.count(2)\n",
        "\n",
        "fin = time.time()\n",
        "print(b)\n",
        "print(\"Tiempo de Ejecución:\", fin-inicio)"
      ],
      "metadata": {
        "colab": {
          "base_uri": "https://localhost:8080/"
        },
        "id": "yxrj6cw6bk3L",
        "outputId": "45561c81-2367-4104-b9a9-4618d9314a56"
      },
      "execution_count": 46,
      "outputs": [
        {
          "output_type": "stream",
          "name": "stdout",
          "text": [
            "166314\n",
            "Tiempo de Ejecución: 3.6471192836761475\n"
          ]
        }
      ]
    },
    {
      "cell_type": "markdown",
      "source": [
        "Considere lanzar dos dados 20 veces\n",
        "\n",
        "a. ¿Cuántas veces se obtendrá el valor de 12?\n",
        "\n",
        "b. ¿Cuántas veces se obtendrá el valor de 7?\n",
        "\n",
        "c. ¿Cuántas veces se obtendrá un número impar como resultado?"
      ],
      "metadata": {
        "id": "KK5YVtLOb-61"
      }
    },
    {
      "cell_type": "code",
      "source": [
        "# Generar los 20 lanzamientos en cada dado\n",
        "lanzamientos1 = np.random.randint(1, 6+1, 20)\n",
        "lanzamientos2 = np.random.randint(1, 6+1, 20)\n",
        "print(lanzamientos1)\n",
        "print(lanzamientos2)\n",
        "\n",
        "es_doce = (lanzamientos1 + lanzamientos2) == 12\n",
        "print(\"La cantidad de veces que se obtuvo doce:\",np.sum(es_doce))"
      ],
      "metadata": {
        "colab": {
          "base_uri": "https://localhost:8080/"
        },
        "id": "EUOwJrvlcDAJ",
        "outputId": "94fc9e64-8907-4ab2-8470-ae03632d80a6"
      },
      "execution_count": 53,
      "outputs": [
        {
          "output_type": "stream",
          "name": "stdout",
          "text": [
            "[5 3 2 2 4 1 5 3 6 6 3 1 3 5 1 1 6 6 6 3]\n",
            "[2 1 2 6 5 5 1 1 6 3 3 4 2 1 4 3 1 2 3 2]\n",
            "La cantidad de veces que se obtuvo doce: 1\n"
          ]
        }
      ]
    },
    {
      "cell_type": "code",
      "source": [
        "aleatorio1 = np.random.randint(1, 6+1, 20)\n",
        "aleatorio2 = np.random.randint(1, 6+1, 20)\n",
        "dosdados = aleatorio1+aleatorio2\n"
      ],
      "metadata": {
        "id": "KCyCiVNTfBD4"
      },
      "execution_count": null,
      "outputs": []
    },
    {
      "cell_type": "markdown",
      "source": [
        "**Variables Discretas Poisson**"
      ],
      "metadata": {
        "id": "B4cQaMTNfZXY"
      }
    },
    {
      "cell_type": "markdown",
      "source": [
        "Son ocurrencia en el tiempo\n",
        "\n",
        "Ejemplos\n",
        "\n",
        "* Personas que llegan a un banco en una hora\n",
        "* Cantidad de Denuncias obtenidas en un día\n",
        "* La Cantidad de aviones que aterrizan en el aeropuerto en una semana\n",
        "\n",
        "Comandos:\n",
        "\n",
        "**np.random.poisson(ocurrencias, cantidad de simulaciones)**"
      ],
      "metadata": {
        "id": "bfjwEFGpfir3"
      }
    },
    {
      "cell_type": "code",
      "source": [
        "import numpy as np"
      ],
      "metadata": {
        "id": "hnzsuVcZgmWO"
      },
      "execution_count": 54,
      "outputs": []
    },
    {
      "cell_type": "code",
      "source": [
        "# En un banco llegan en promedio 2000 personas por día\n",
        "# Simule la cantidad de personas que llegarán en una semana\n",
        "# Número de Ocurrencias = 2000\n",
        "# Cantidad de Simulaciones = 7\n",
        "\n",
        "valores_generados = np.random.poisson(2000,7)\n",
        "print(valores_generados)"
      ],
      "metadata": {
        "colab": {
          "base_uri": "https://localhost:8080/"
        },
        "id": "U1gEsZZAfdDl",
        "outputId": "97b8ec08-1da2-4982-d1c8-621888fed547"
      },
      "execution_count": 60,
      "outputs": [
        {
          "output_type": "stream",
          "name": "stdout",
          "text": [
            "[2017 1972 2009 2030 1987 1979 2051]\n"
          ]
        }
      ]
    },
    {
      "cell_type": "markdown",
      "source": [
        "Un banco recibe en promedio 20 clientes por hora, en un horario laboral cuantos\n",
        "clientes recibirá en promedio."
      ],
      "metadata": {
        "id": "XWpi0peYhHd-"
      }
    },
    {
      "cell_type": "code",
      "source": [
        "# Una Simulación\n",
        "valores_generados = np.random.poisson(20,8)\n",
        "print(valores_generados)\n",
        "print(\"Total de Clientes\", np.sum(valores_generados))"
      ],
      "metadata": {
        "colab": {
          "base_uri": "https://localhost:8080/"
        },
        "id": "ih4rB5SNhI5N",
        "outputId": "7eb077f7-9cd8-4c68-a750-db6e194f4f9f"
      },
      "execution_count": 75,
      "outputs": [
        {
          "output_type": "stream",
          "name": "stdout",
          "text": [
            "[26 31 21 10 20 26 22 18]\n",
            "Total de Clientes 174\n"
          ]
        }
      ]
    },
    {
      "cell_type": "code",
      "source": [
        "# Una Simulación para 10 días\n",
        "lista = []\n",
        "contador = 1\n",
        "for i in range(10):\n",
        "  valores_generados = np.random.poisson(20,8)\n",
        "  cantidad_semanal = np.sum(valores_generados)\n",
        "  lista.append(cantidad_semanal)\n",
        "  print(\"Semana\", contador, \"tuvo\", cantidad_semanal, \"clientes\")\n",
        "  contador = contador +1\n",
        "\n",
        "lista = np.array(lista)\n",
        "print(\"El promedio que se obtiene es\", np.mean(lista))"
      ],
      "metadata": {
        "colab": {
          "base_uri": "https://localhost:8080/"
        },
        "id": "kJoN5iBVit0n",
        "outputId": "39519745-be23-4613-d535-eb110f5f22f9"
      },
      "execution_count": 80,
      "outputs": [
        {
          "output_type": "stream",
          "name": "stdout",
          "text": [
            "Semana 1 tuvo 145 clientes\n",
            "Semana 2 tuvo 146 clientes\n",
            "Semana 3 tuvo 160 clientes\n",
            "Semana 4 tuvo 173 clientes\n",
            "Semana 5 tuvo 144 clientes\n",
            "Semana 6 tuvo 150 clientes\n",
            "Semana 7 tuvo 173 clientes\n",
            "Semana 8 tuvo 131 clientes\n",
            "Semana 9 tuvo 147 clientes\n",
            "Semana 10 tuvo 135 clientes\n",
            "El promedio que se obtiene es 150.4\n"
          ]
        }
      ]
    },
    {
      "cell_type": "markdown",
      "source": [
        "**Tarea Ejercicio 5 y 6**\n",
        "\n",
        "Correo: jyarascam@utec.edu.pe\n"
      ],
      "metadata": {
        "id": "6ZDXEx_WlSRN"
      }
    },
    {
      "cell_type": "markdown",
      "source": [],
      "metadata": {
        "id": "SOjG6a-qlW3G"
      }
    }
  ]
}