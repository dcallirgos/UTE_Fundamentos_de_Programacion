{
  "nbformat": 4,
  "nbformat_minor": 0,
  "metadata": {
    "colab": {
      "provenance": [],
      "include_colab_link": true
    },
    "kernelspec": {
      "name": "python3",
      "display_name": "Python 3"
    },
    "language_info": {
      "name": "python"
    }
  },
  "cells": [
    {
      "cell_type": "markdown",
      "metadata": {
        "id": "view-in-github",
        "colab_type": "text"
      },
      "source": [
        "<a href=\"https://colab.research.google.com/github/dcallirgos/UTE_Fundamentos_de_Programacion/blob/main/Proyecto_Final_Grupo1_v2.ipynb\" target=\"_parent\"><img src=\"https://colab.research.google.com/assets/colab-badge.svg\" alt=\"Open In Colab\"/></a>"
      ]
    },
    {
      "cell_type": "markdown",
      "source": [
        "#Conectar con Google Drive"
      ],
      "metadata": {
        "id": "TqcvOhj9_LQc"
      }
    },
    {
      "cell_type": "code",
      "source": [
        "from google.colab import drive\n",
        "drive.mount('/content/drive')"
      ],
      "metadata": {
        "colab": {
          "base_uri": "https://localhost:8080/"
        },
        "id": "sbiBo8it_BKG",
        "outputId": "9d95270b-e1ae-40ac-83b6-46d9764f2fd3"
      },
      "execution_count": 3,
      "outputs": [
        {
          "output_type": "stream",
          "name": "stdout",
          "text": [
            "Drive already mounted at /content/drive; to attempt to forcibly remount, call drive.mount(\"/content/drive\", force_remount=True).\n"
          ]
        }
      ]
    },
    {
      "cell_type": "markdown",
      "source": [
        "#Accediendo a los datos"
      ],
      "metadata": {
        "id": "jZZVCEx8_MUR"
      }
    },
    {
      "cell_type": "code",
      "source": [
        "import pandas as pd\n",
        "data_2022_2 = pd.read_excel('/content/drive/MyDrive/UTEC/Data 2022-2.xls')\n",
        "data_2022_1 = pd.read_excel('/content/drive/MyDrive/UTEC/Data 2022-1.xlsx')\n",
        "data_2021_2 = pd.read_excel('/content/drive/MyDrive/UTEC/data_2021_2.xlsx')"
      ],
      "metadata": {
        "id": "gXaK2_av_akK"
      },
      "execution_count": 4,
      "outputs": []
    },
    {
      "cell_type": "code",
      "source": [
        "data_2022_2.head()"
      ],
      "metadata": {
        "id": "jTVOZUomDifd",
        "outputId": "49de18f6-7bc6-492f-8064-2fae33dfc963",
        "colab": {
          "base_uri": "https://localhost:8080/",
          "height": 288
        }
      },
      "execution_count": 5,
      "outputs": [
        {
          "output_type": "execute_result",
          "data": {
            "text/plain": [
              "   Unnamed: 0  Unnamed: 1  Unnamed: 2 Unnamed: 3 Unnamed: 4 Unnamed: 5  \\\n",
              "0         NaN         NaN         NaN        NaN        NaN        NaN   \n",
              "1         NaN         NaN         NaN        NaN        NaN        NaN   \n",
              "2         NaN         NaN         NaN        NaN        NaN        NaN   \n",
              "3         NaN         NaN         NaN        NaN        NaN        NaN   \n",
              "4         NaN         NaN         NaN        NaN        NaN        NaN   \n",
              "\n",
              "  Unnamed: 6 Unnamed: 7 Unnamed: 8 Unnamed: 9 Unnamed: 10 Unnamed: 11  \\\n",
              "0        NaN        NaN        NaN        NaN         NaN         NaN   \n",
              "1        NaN        NaN        NaN        NaN         NaN         NaN   \n",
              "2        NaN        NaN        NaN        NaN         NaN         NaN   \n",
              "3        NaN        NaN        NaN        NaN         NaN         NaN   \n",
              "4        NaN        NaN        NaN        NaN         NaN         NaN   \n",
              "\n",
              "  Unnamed: 12 Unnamed: 13 Unnamed: 14  \n",
              "0         NaN         NaN         NaN  \n",
              "1         NaN         NaN         NaN  \n",
              "2         NaN         NaN         NaN  \n",
              "3         NaN         NaN         NaN  \n",
              "4         NaN         NaN         NaN  "
            ],
            "text/html": [
              "\n",
              "  <div id=\"df-3a0af027-7c2b-4637-b5e7-cf1767025b3b\">\n",
              "    <div class=\"colab-df-container\">\n",
              "      <div>\n",
              "<style scoped>\n",
              "    .dataframe tbody tr th:only-of-type {\n",
              "        vertical-align: middle;\n",
              "    }\n",
              "\n",
              "    .dataframe tbody tr th {\n",
              "        vertical-align: top;\n",
              "    }\n",
              "\n",
              "    .dataframe thead th {\n",
              "        text-align: right;\n",
              "    }\n",
              "</style>\n",
              "<table border=\"1\" class=\"dataframe\">\n",
              "  <thead>\n",
              "    <tr style=\"text-align: right;\">\n",
              "      <th></th>\n",
              "      <th>Unnamed: 0</th>\n",
              "      <th>Unnamed: 1</th>\n",
              "      <th>Unnamed: 2</th>\n",
              "      <th>Unnamed: 3</th>\n",
              "      <th>Unnamed: 4</th>\n",
              "      <th>Unnamed: 5</th>\n",
              "      <th>Unnamed: 6</th>\n",
              "      <th>Unnamed: 7</th>\n",
              "      <th>Unnamed: 8</th>\n",
              "      <th>Unnamed: 9</th>\n",
              "      <th>Unnamed: 10</th>\n",
              "      <th>Unnamed: 11</th>\n",
              "      <th>Unnamed: 12</th>\n",
              "      <th>Unnamed: 13</th>\n",
              "      <th>Unnamed: 14</th>\n",
              "    </tr>\n",
              "  </thead>\n",
              "  <tbody>\n",
              "    <tr>\n",
              "      <th>0</th>\n",
              "      <td>NaN</td>\n",
              "      <td>NaN</td>\n",
              "      <td>NaN</td>\n",
              "      <td>NaN</td>\n",
              "      <td>NaN</td>\n",
              "      <td>NaN</td>\n",
              "      <td>NaN</td>\n",
              "      <td>NaN</td>\n",
              "      <td>NaN</td>\n",
              "      <td>NaN</td>\n",
              "      <td>NaN</td>\n",
              "      <td>NaN</td>\n",
              "      <td>NaN</td>\n",
              "      <td>NaN</td>\n",
              "      <td>NaN</td>\n",
              "    </tr>\n",
              "    <tr>\n",
              "      <th>1</th>\n",
              "      <td>NaN</td>\n",
              "      <td>NaN</td>\n",
              "      <td>NaN</td>\n",
              "      <td>NaN</td>\n",
              "      <td>NaN</td>\n",
              "      <td>NaN</td>\n",
              "      <td>NaN</td>\n",
              "      <td>NaN</td>\n",
              "      <td>NaN</td>\n",
              "      <td>NaN</td>\n",
              "      <td>NaN</td>\n",
              "      <td>NaN</td>\n",
              "      <td>NaN</td>\n",
              "      <td>NaN</td>\n",
              "      <td>NaN</td>\n",
              "    </tr>\n",
              "    <tr>\n",
              "      <th>2</th>\n",
              "      <td>NaN</td>\n",
              "      <td>NaN</td>\n",
              "      <td>NaN</td>\n",
              "      <td>NaN</td>\n",
              "      <td>NaN</td>\n",
              "      <td>NaN</td>\n",
              "      <td>NaN</td>\n",
              "      <td>NaN</td>\n",
              "      <td>NaN</td>\n",
              "      <td>NaN</td>\n",
              "      <td>NaN</td>\n",
              "      <td>NaN</td>\n",
              "      <td>NaN</td>\n",
              "      <td>NaN</td>\n",
              "      <td>NaN</td>\n",
              "    </tr>\n",
              "    <tr>\n",
              "      <th>3</th>\n",
              "      <td>NaN</td>\n",
              "      <td>NaN</td>\n",
              "      <td>NaN</td>\n",
              "      <td>NaN</td>\n",
              "      <td>NaN</td>\n",
              "      <td>NaN</td>\n",
              "      <td>NaN</td>\n",
              "      <td>NaN</td>\n",
              "      <td>NaN</td>\n",
              "      <td>NaN</td>\n",
              "      <td>NaN</td>\n",
              "      <td>NaN</td>\n",
              "      <td>NaN</td>\n",
              "      <td>NaN</td>\n",
              "      <td>NaN</td>\n",
              "    </tr>\n",
              "    <tr>\n",
              "      <th>4</th>\n",
              "      <td>NaN</td>\n",
              "      <td>NaN</td>\n",
              "      <td>NaN</td>\n",
              "      <td>NaN</td>\n",
              "      <td>NaN</td>\n",
              "      <td>NaN</td>\n",
              "      <td>NaN</td>\n",
              "      <td>NaN</td>\n",
              "      <td>NaN</td>\n",
              "      <td>NaN</td>\n",
              "      <td>NaN</td>\n",
              "      <td>NaN</td>\n",
              "      <td>NaN</td>\n",
              "      <td>NaN</td>\n",
              "      <td>NaN</td>\n",
              "    </tr>\n",
              "  </tbody>\n",
              "</table>\n",
              "</div>\n",
              "      <button class=\"colab-df-convert\" onclick=\"convertToInteractive('df-3a0af027-7c2b-4637-b5e7-cf1767025b3b')\"\n",
              "              title=\"Convert this dataframe to an interactive table.\"\n",
              "              style=\"display:none;\">\n",
              "        \n",
              "  <svg xmlns=\"http://www.w3.org/2000/svg\" height=\"24px\"viewBox=\"0 0 24 24\"\n",
              "       width=\"24px\">\n",
              "    <path d=\"M0 0h24v24H0V0z\" fill=\"none\"/>\n",
              "    <path d=\"M18.56 5.44l.94 2.06.94-2.06 2.06-.94-2.06-.94-.94-2.06-.94 2.06-2.06.94zm-11 1L8.5 8.5l.94-2.06 2.06-.94-2.06-.94L8.5 2.5l-.94 2.06-2.06.94zm10 10l.94 2.06.94-2.06 2.06-.94-2.06-.94-.94-2.06-.94 2.06-2.06.94z\"/><path d=\"M17.41 7.96l-1.37-1.37c-.4-.4-.92-.59-1.43-.59-.52 0-1.04.2-1.43.59L10.3 9.45l-7.72 7.72c-.78.78-.78 2.05 0 2.83L4 21.41c.39.39.9.59 1.41.59.51 0 1.02-.2 1.41-.59l7.78-7.78 2.81-2.81c.8-.78.8-2.07 0-2.86zM5.41 20L4 18.59l7.72-7.72 1.47 1.35L5.41 20z\"/>\n",
              "  </svg>\n",
              "      </button>\n",
              "      \n",
              "  <style>\n",
              "    .colab-df-container {\n",
              "      display:flex;\n",
              "      flex-wrap:wrap;\n",
              "      gap: 12px;\n",
              "    }\n",
              "\n",
              "    .colab-df-convert {\n",
              "      background-color: #E8F0FE;\n",
              "      border: none;\n",
              "      border-radius: 50%;\n",
              "      cursor: pointer;\n",
              "      display: none;\n",
              "      fill: #1967D2;\n",
              "      height: 32px;\n",
              "      padding: 0 0 0 0;\n",
              "      width: 32px;\n",
              "    }\n",
              "\n",
              "    .colab-df-convert:hover {\n",
              "      background-color: #E2EBFA;\n",
              "      box-shadow: 0px 1px 2px rgba(60, 64, 67, 0.3), 0px 1px 3px 1px rgba(60, 64, 67, 0.15);\n",
              "      fill: #174EA6;\n",
              "    }\n",
              "\n",
              "    [theme=dark] .colab-df-convert {\n",
              "      background-color: #3B4455;\n",
              "      fill: #D2E3FC;\n",
              "    }\n",
              "\n",
              "    [theme=dark] .colab-df-convert:hover {\n",
              "      background-color: #434B5C;\n",
              "      box-shadow: 0px 1px 3px 1px rgba(0, 0, 0, 0.15);\n",
              "      filter: drop-shadow(0px 1px 2px rgba(0, 0, 0, 0.3));\n",
              "      fill: #FFFFFF;\n",
              "    }\n",
              "  </style>\n",
              "\n",
              "      <script>\n",
              "        const buttonEl =\n",
              "          document.querySelector('#df-3a0af027-7c2b-4637-b5e7-cf1767025b3b button.colab-df-convert');\n",
              "        buttonEl.style.display =\n",
              "          google.colab.kernel.accessAllowed ? 'block' : 'none';\n",
              "\n",
              "        async function convertToInteractive(key) {\n",
              "          const element = document.querySelector('#df-3a0af027-7c2b-4637-b5e7-cf1767025b3b');\n",
              "          const dataTable =\n",
              "            await google.colab.kernel.invokeFunction('convertToInteractive',\n",
              "                                                     [key], {});\n",
              "          if (!dataTable) return;\n",
              "\n",
              "          const docLinkHtml = 'Like what you see? Visit the ' +\n",
              "            '<a target=\"_blank\" href=https://colab.research.google.com/notebooks/data_table.ipynb>data table notebook</a>'\n",
              "            + ' to learn more about interactive tables.';\n",
              "          element.innerHTML = '';\n",
              "          dataTable['output_type'] = 'display_data';\n",
              "          await google.colab.output.renderOutput(dataTable, element);\n",
              "          const docLink = document.createElement('div');\n",
              "          docLink.innerHTML = docLinkHtml;\n",
              "          element.appendChild(docLink);\n",
              "        }\n",
              "      </script>\n",
              "    </div>\n",
              "  </div>\n",
              "  "
            ]
          },
          "metadata": {},
          "execution_count": 5
        }
      ]
    },
    {
      "cell_type": "code",
      "source": [
        "print(data_2022_2.shape)\n",
        "print(data_2022_1.shape)\n",
        "print(data_2021_2.shape)"
      ],
      "metadata": {
        "colab": {
          "base_uri": "https://localhost:8080/"
        },
        "id": "TpRLvzJvASSe",
        "outputId": "e9f87548-3e06-4873-b5cd-a063df298992"
      },
      "execution_count": 6,
      "outputs": [
        {
          "output_type": "stream",
          "name": "stdout",
          "text": [
            "(68, 15)\n",
            "(58, 15)\n",
            "(63, 14)\n"
          ]
        }
      ]
    },
    {
      "cell_type": "markdown",
      "source": [
        "#**Limpieza de filas y columnas vacias**"
      ],
      "metadata": {
        "id": "rmM5qRCM_nE2"
      }
    },
    {
      "cell_type": "code",
      "source": [
        "def eliminar_vacios(data):\n",
        "  #Elimina filas NaN\n",
        "  data = data.dropna(how='all')\n",
        "\n",
        "  #Elimina columnas NaN\n",
        "  data = data.dropna(how='all', axis=1)\n",
        "\n",
        "  #Limpieza de encabezados\n",
        "  data = data.drop(data.index[:2])\n",
        "\n",
        "  return data"
      ],
      "metadata": {
        "id": "wB161Czi9VqO"
      },
      "execution_count": 7,
      "outputs": []
    },
    {
      "cell_type": "code",
      "source": [
        "#Eliminar vacios\n",
        "data_2022_2_clean = eliminar_vacios(data_2022_2)\n",
        "data_2022_1_clean = eliminar_vacios(data_2022_1)\n",
        "data_2021_2_clean = eliminar_vacios(data_2021_2)"
      ],
      "metadata": {
        "id": "kMG8vk4aA6R_"
      },
      "execution_count": 8,
      "outputs": []
    },
    {
      "cell_type": "code",
      "source": [
        "data_2021_2_clean.head()"
      ],
      "metadata": {
        "id": "4pCN7jC_icOQ",
        "outputId": "5a362153-d634-4fbf-a848-e3c1848b3cd6",
        "colab": {
          "base_uri": "https://localhost:8080/",
          "height": 268
        }
      },
      "execution_count": 9,
      "outputs": [
        {
          "output_type": "execute_result",
          "data": {
            "text/plain": [
              "  Unnamed: 2 Unnamed: 3 Unnamed: 4 Unnamed: 5 Unnamed: 6 Unnamed: 7  \\\n",
              "5          3          F          F          F          9         14   \n",
              "6          4          F          F          F         13          0   \n",
              "7          F          8          F          F          9         13   \n",
              "8         18         17         19         18         16         20   \n",
              "9          5         11          2          7         11         15   \n",
              "\n",
              "  Unnamed: 8 Unnamed: 9 Unnamed: 10 Unnamed: 11 Unnamed: 12 Unnamed: 13  \n",
              "5          F          F           F           F           F    Retirado  \n",
              "6          0          F           F           F           F           1  \n",
              "7         14          8           8           5           F           6  \n",
              "8         16         18          17          14           F          17  \n",
              "9          9         10           5           F           F           5  "
            ],
            "text/html": [
              "\n",
              "  <div id=\"df-3fc88bf8-1340-4963-b22f-047012e8a4d9\">\n",
              "    <div class=\"colab-df-container\">\n",
              "      <div>\n",
              "<style scoped>\n",
              "    .dataframe tbody tr th:only-of-type {\n",
              "        vertical-align: middle;\n",
              "    }\n",
              "\n",
              "    .dataframe tbody tr th {\n",
              "        vertical-align: top;\n",
              "    }\n",
              "\n",
              "    .dataframe thead th {\n",
              "        text-align: right;\n",
              "    }\n",
              "</style>\n",
              "<table border=\"1\" class=\"dataframe\">\n",
              "  <thead>\n",
              "    <tr style=\"text-align: right;\">\n",
              "      <th></th>\n",
              "      <th>Unnamed: 2</th>\n",
              "      <th>Unnamed: 3</th>\n",
              "      <th>Unnamed: 4</th>\n",
              "      <th>Unnamed: 5</th>\n",
              "      <th>Unnamed: 6</th>\n",
              "      <th>Unnamed: 7</th>\n",
              "      <th>Unnamed: 8</th>\n",
              "      <th>Unnamed: 9</th>\n",
              "      <th>Unnamed: 10</th>\n",
              "      <th>Unnamed: 11</th>\n",
              "      <th>Unnamed: 12</th>\n",
              "      <th>Unnamed: 13</th>\n",
              "    </tr>\n",
              "  </thead>\n",
              "  <tbody>\n",
              "    <tr>\n",
              "      <th>5</th>\n",
              "      <td>3</td>\n",
              "      <td>F</td>\n",
              "      <td>F</td>\n",
              "      <td>F</td>\n",
              "      <td>9</td>\n",
              "      <td>14</td>\n",
              "      <td>F</td>\n",
              "      <td>F</td>\n",
              "      <td>F</td>\n",
              "      <td>F</td>\n",
              "      <td>F</td>\n",
              "      <td>Retirado</td>\n",
              "    </tr>\n",
              "    <tr>\n",
              "      <th>6</th>\n",
              "      <td>4</td>\n",
              "      <td>F</td>\n",
              "      <td>F</td>\n",
              "      <td>F</td>\n",
              "      <td>13</td>\n",
              "      <td>0</td>\n",
              "      <td>0</td>\n",
              "      <td>F</td>\n",
              "      <td>F</td>\n",
              "      <td>F</td>\n",
              "      <td>F</td>\n",
              "      <td>1</td>\n",
              "    </tr>\n",
              "    <tr>\n",
              "      <th>7</th>\n",
              "      <td>F</td>\n",
              "      <td>8</td>\n",
              "      <td>F</td>\n",
              "      <td>F</td>\n",
              "      <td>9</td>\n",
              "      <td>13</td>\n",
              "      <td>14</td>\n",
              "      <td>8</td>\n",
              "      <td>8</td>\n",
              "      <td>5</td>\n",
              "      <td>F</td>\n",
              "      <td>6</td>\n",
              "    </tr>\n",
              "    <tr>\n",
              "      <th>8</th>\n",
              "      <td>18</td>\n",
              "      <td>17</td>\n",
              "      <td>19</td>\n",
              "      <td>18</td>\n",
              "      <td>16</td>\n",
              "      <td>20</td>\n",
              "      <td>16</td>\n",
              "      <td>18</td>\n",
              "      <td>17</td>\n",
              "      <td>14</td>\n",
              "      <td>F</td>\n",
              "      <td>17</td>\n",
              "    </tr>\n",
              "    <tr>\n",
              "      <th>9</th>\n",
              "      <td>5</td>\n",
              "      <td>11</td>\n",
              "      <td>2</td>\n",
              "      <td>7</td>\n",
              "      <td>11</td>\n",
              "      <td>15</td>\n",
              "      <td>9</td>\n",
              "      <td>10</td>\n",
              "      <td>5</td>\n",
              "      <td>F</td>\n",
              "      <td>F</td>\n",
              "      <td>5</td>\n",
              "    </tr>\n",
              "  </tbody>\n",
              "</table>\n",
              "</div>\n",
              "      <button class=\"colab-df-convert\" onclick=\"convertToInteractive('df-3fc88bf8-1340-4963-b22f-047012e8a4d9')\"\n",
              "              title=\"Convert this dataframe to an interactive table.\"\n",
              "              style=\"display:none;\">\n",
              "        \n",
              "  <svg xmlns=\"http://www.w3.org/2000/svg\" height=\"24px\"viewBox=\"0 0 24 24\"\n",
              "       width=\"24px\">\n",
              "    <path d=\"M0 0h24v24H0V0z\" fill=\"none\"/>\n",
              "    <path d=\"M18.56 5.44l.94 2.06.94-2.06 2.06-.94-2.06-.94-.94-2.06-.94 2.06-2.06.94zm-11 1L8.5 8.5l.94-2.06 2.06-.94-2.06-.94L8.5 2.5l-.94 2.06-2.06.94zm10 10l.94 2.06.94-2.06 2.06-.94-2.06-.94-.94-2.06-.94 2.06-2.06.94z\"/><path d=\"M17.41 7.96l-1.37-1.37c-.4-.4-.92-.59-1.43-.59-.52 0-1.04.2-1.43.59L10.3 9.45l-7.72 7.72c-.78.78-.78 2.05 0 2.83L4 21.41c.39.39.9.59 1.41.59.51 0 1.02-.2 1.41-.59l7.78-7.78 2.81-2.81c.8-.78.8-2.07 0-2.86zM5.41 20L4 18.59l7.72-7.72 1.47 1.35L5.41 20z\"/>\n",
              "  </svg>\n",
              "      </button>\n",
              "      \n",
              "  <style>\n",
              "    .colab-df-container {\n",
              "      display:flex;\n",
              "      flex-wrap:wrap;\n",
              "      gap: 12px;\n",
              "    }\n",
              "\n",
              "    .colab-df-convert {\n",
              "      background-color: #E8F0FE;\n",
              "      border: none;\n",
              "      border-radius: 50%;\n",
              "      cursor: pointer;\n",
              "      display: none;\n",
              "      fill: #1967D2;\n",
              "      height: 32px;\n",
              "      padding: 0 0 0 0;\n",
              "      width: 32px;\n",
              "    }\n",
              "\n",
              "    .colab-df-convert:hover {\n",
              "      background-color: #E2EBFA;\n",
              "      box-shadow: 0px 1px 2px rgba(60, 64, 67, 0.3), 0px 1px 3px 1px rgba(60, 64, 67, 0.15);\n",
              "      fill: #174EA6;\n",
              "    }\n",
              "\n",
              "    [theme=dark] .colab-df-convert {\n",
              "      background-color: #3B4455;\n",
              "      fill: #D2E3FC;\n",
              "    }\n",
              "\n",
              "    [theme=dark] .colab-df-convert:hover {\n",
              "      background-color: #434B5C;\n",
              "      box-shadow: 0px 1px 3px 1px rgba(0, 0, 0, 0.15);\n",
              "      filter: drop-shadow(0px 1px 2px rgba(0, 0, 0, 0.3));\n",
              "      fill: #FFFFFF;\n",
              "    }\n",
              "  </style>\n",
              "\n",
              "      <script>\n",
              "        const buttonEl =\n",
              "          document.querySelector('#df-3fc88bf8-1340-4963-b22f-047012e8a4d9 button.colab-df-convert');\n",
              "        buttonEl.style.display =\n",
              "          google.colab.kernel.accessAllowed ? 'block' : 'none';\n",
              "\n",
              "        async function convertToInteractive(key) {\n",
              "          const element = document.querySelector('#df-3fc88bf8-1340-4963-b22f-047012e8a4d9');\n",
              "          const dataTable =\n",
              "            await google.colab.kernel.invokeFunction('convertToInteractive',\n",
              "                                                     [key], {});\n",
              "          if (!dataTable) return;\n",
              "\n",
              "          const docLinkHtml = 'Like what you see? Visit the ' +\n",
              "            '<a target=\"_blank\" href=https://colab.research.google.com/notebooks/data_table.ipynb>data table notebook</a>'\n",
              "            + ' to learn more about interactive tables.';\n",
              "          element.innerHTML = '';\n",
              "          dataTable['output_type'] = 'display_data';\n",
              "          await google.colab.output.renderOutput(dataTable, element);\n",
              "          const docLink = document.createElement('div');\n",
              "          docLink.innerHTML = docLinkHtml;\n",
              "          element.appendChild(docLink);\n",
              "        }\n",
              "      </script>\n",
              "    </div>\n",
              "  </div>\n",
              "  "
            ]
          },
          "metadata": {},
          "execution_count": 9
        }
      ]
    },
    {
      "cell_type": "code",
      "source": [
        "#Nombrar las columnas\n",
        "\n",
        "nombre_columnas = ['Practica C1','Practica C2','Practica C3','Practica C4','Practica D1','Practica D2','Practica D3','Practica D4','Examen 1','Examen 2','Examen 3','Promedio']\n",
        "len(nombre_columnas)"
      ],
      "metadata": {
        "colab": {
          "base_uri": "https://localhost:8080/"
        },
        "id": "NNfyrxYNEUPb",
        "outputId": "b98f56af-01b5-49b4-c699-2db42c867348"
      },
      "execution_count": 10,
      "outputs": [
        {
          "output_type": "execute_result",
          "data": {
            "text/plain": [
              "12"
            ]
          },
          "metadata": {},
          "execution_count": 10
        }
      ]
    },
    {
      "cell_type": "code",
      "source": [
        "#Renombrar las cabeceras en la tabla\n",
        "data_2022_2_clean.columns = nombre_columnas\n",
        "data_2022_1_clean.columns = nombre_columnas\n",
        "data_2021_2_clean.columns = nombre_columnas\n",
        "\n",
        "#data_2022_2_clean.columns"
      ],
      "metadata": {
        "id": "pTd7jgW6FxDx"
      },
      "execution_count": 11,
      "outputs": []
    },
    {
      "cell_type": "code",
      "source": [
        "#Reseteando los indices\n",
        "data_2022_2_clean.reset_index(drop=True, inplace=True) #inplace hace que se sobreescriba la variable\n",
        "data_2022_1_clean.reset_index(drop=True, inplace=True) #inplace hace que se sobreescriba la variable\n",
        "data_2021_2_clean.reset_index(drop=True, inplace=True) #inplace hace que se sobreescriba la variable"
      ],
      "metadata": {
        "id": "Bdn0eNkgGHGZ"
      },
      "execution_count": 12,
      "outputs": []
    },
    {
      "cell_type": "code",
      "source": [
        "#Agregar una columna al inicio del dataset\n",
        "id2 = list(range(1, data_2022_2_clean.shape[0]+1))\n",
        "id1 = list(range(1, data_2022_1_clean.shape[0]+1))\n",
        "id3 = list(range(1, data_2021_2_clean.shape[0]+1))\n",
        "#print(id)\n",
        "\n",
        "data_2022_2_clean.insert(0, 'ID', id2)\n",
        "data_2022_1_clean.insert(0, 'ID', id1)\n",
        "data_2021_2_clean.insert(0, 'ID', id3)\n",
        "#data_2022_2_clean.head()"
      ],
      "metadata": {
        "id": "feeJ_uksH_gT"
      },
      "execution_count": 13,
      "outputs": []
    },
    {
      "cell_type": "code",
      "source": [
        "columnas_practicas = ['Practica C1', 'Practica C2', 'Practica C3', 'Practica C4', 'Practica D1', 'Practica D2', 'Practica D3', 'Practica D4']"
      ],
      "metadata": {
        "id": "CMfqptYQMIE_"
      },
      "execution_count": 14,
      "outputs": []
    },
    {
      "cell_type": "code",
      "source": [
        "# Funcion para reemplazar strings por 0 en columnas de practicas\n",
        "def replace_str(data, column):\n",
        "  data[column] = data[column].applymap(lambda x: 0 if isinstance(x, str) else x)\n",
        "  return data\n",
        "\n",
        "#Aplicar la funcion en nuestros datasets\n",
        "data_2022_2_rep = replace_str(data_2022_2_clean, columnas_practicas)\n",
        "data_2022_1_rep = replace_str(data_2022_1_clean, columnas_practicas)\n",
        "data_2021_2_rep = replace_str(data_2021_2_clean, columnas_practicas)"
      ],
      "metadata": {
        "id": "lkCP0ZwRJH7I"
      },
      "execution_count": 15,
      "outputs": []
    },
    {
      "cell_type": "code",
      "source": [
        "#Crear una columna que muestre el promedio de las practicas C, obviando el menor y agrega una columna con los resultados\n",
        "\n",
        "practica_c = ['Practica C1','Practica C2','Practica C3','Practica C4']\n",
        "\n",
        "def prom_pc(row):\n",
        "    return (sum(row) - min(row)) / (len(row) - 1)\n",
        "    print(row)\n",
        "\n",
        "data_2022_2_rep['prom_pc'] = data_2022_2_rep[practica_c].apply(prom_pc, axis=1)\n",
        "data_2022_1_rep['prom_pc'] = data_2022_1_rep[practica_c].apply(prom_pc, axis=1)\n",
        "data_2021_2_rep['prom_pc'] = data_2021_2_rep[practica_c].apply(prom_pc, axis=1)\n",
        "#print(data_2022_2['prom_pc'])"
      ],
      "metadata": {
        "id": "X_8JKDNu6_6Z"
      },
      "execution_count": 16,
      "outputs": []
    },
    {
      "cell_type": "code",
      "source": [
        "#Crear una columna que muestre el promedio de las practicas D, obviando el menor y agrega una columna con los resultados\n",
        "\n",
        "practica_d = ['Practica D1','Practica D2','Practica D3','Practica D4']\n",
        "\n",
        "def prom_pd(row):\n",
        "    return (sum(row) - min(row)) / (len(row) - 1)\n",
        "\n",
        "data_2022_2_rep['prom_pd'] = data_2022_2_rep[practica_d].apply(prom_pd, axis=1)\n",
        "data_2022_1_rep['prom_pd'] = data_2022_1_rep[practica_d].apply(prom_pd, axis=1)\n",
        "data_2021_2_rep['prom_pd'] = data_2021_2_rep[practica_d].apply(prom_pd, axis=1)\n",
        "#print(data_2022_2['prom_pd'])"
      ],
      "metadata": {
        "id": "huyD70FLEpjZ"
      },
      "execution_count": 17,
      "outputs": []
    },
    {
      "cell_type": "code",
      "source": [
        "#Crear una columna que muestre el promedio de los examenes, reemplazando las faltas en alguno de los 2 primeros por el 3ro\n",
        "\n",
        "examen = ['Examen 1','Examen 2','Examen 3']\n",
        "\n",
        "# function to calculate the average marks\n",
        "def calc_avg(row):\n",
        "    exam1 = row['Examen 1']\n",
        "    exam2 = row['Examen 2']\n",
        "    exam3 = row['Examen 3']\n",
        "\n",
        "    scores = []\n",
        "\n",
        "    # Check Examen 1\n",
        "    if str(exam1).isdigit():\n",
        "        scores.append(exam1)\n",
        "    else:\n",
        "        scores.append(0)\n",
        "\n",
        "    # Check Examen 2\n",
        "    if str(exam2).isdigit():\n",
        "        scores.append(exam2)\n",
        "    else:\n",
        "        if str(scores[0]).isdigit() and str(exam3).isdigit():\n",
        "            scores.append(exam3)\n",
        "        else:\n",
        "            scores.append(0)\n",
        "\n",
        "    return sum(scores) / 2\n",
        "\n",
        "# Apply the custom function to each row\n",
        "data_2022_2_rep['prom_ex'] = data_2022_2_rep.apply(calc_avg, axis=1)\n",
        "data_2022_1_rep['prom_ex'] = data_2022_1_rep.apply(calc_avg, axis=1)\n",
        "data_2021_2_rep['prom_ex'] = data_2021_2_rep.apply(calc_avg, axis=1)\n",
        "\n",
        "# display the dataFrame\n",
        "#data_2022_2.head(50)\n",
        "\n"
      ],
      "metadata": {
        "id": "AIHJ88_FFxfl"
      },
      "execution_count": 18,
      "outputs": []
    },
    {
      "cell_type": "code",
      "source": [
        "#Promedio Final\n",
        "\n",
        "import math\n",
        "\n",
        "def round_half_up(number):\n",
        "    return int(math.floor(number + 0.5))\n",
        "\n",
        "def prom_final(row):\n",
        "  prom_pc = row['prom_pc']\n",
        "  prom_pd = row['prom_pd']\n",
        "  prom_ex = row['prom_ex']\n",
        "  return round_half_up(prom_pc*0.25 + prom_pd*0.15 + prom_ex*0.6)\n",
        "\n",
        "data_2022_2_rep['prom_final'] = data_2022_2_rep.apply(prom_final, axis=1)\n",
        "data_2022_1_rep['prom_final'] = data_2022_1_rep.apply(prom_final, axis=1)\n",
        "data_2021_2_rep['prom_final'] = data_2021_2_rep.apply(prom_final, axis=1)"
      ],
      "metadata": {
        "id": "oaZYKaARRPST"
      },
      "execution_count": 19,
      "outputs": []
    },
    {
      "cell_type": "code",
      "source": [
        "#Data Set final después del tratamiento de datos. Data final para iniciarl con los análisis\n",
        "data_2021_2_rep.head()"
      ],
      "metadata": {
        "colab": {
          "base_uri": "https://localhost:8080/",
          "height": 288
        },
        "id": "tq0xGoJCkAL2",
        "outputId": "5bb500f8-13eb-4e70-de7a-b0b657dff757"
      },
      "execution_count": 20,
      "outputs": [
        {
          "output_type": "execute_result",
          "data": {
            "text/plain": [
              "   ID  Practica C1  Practica C2  Practica C3  Practica C4  Practica D1  \\\n",
              "0   1            3            0            0            0            9   \n",
              "1   2            4            0            0            0           13   \n",
              "2   3            0            8            0            0            9   \n",
              "3   4           18           17           19           18           16   \n",
              "4   5            5           11            2            7           11   \n",
              "\n",
              "   Practica D2  Practica D3  Practica D4 Examen 1 Examen 2 Examen 3  Promedio  \\\n",
              "0           14            0            0        F        F        F  Retirado   \n",
              "1            0            0            0        F        F        F         1   \n",
              "2           13           14            8        8        5        F         6   \n",
              "3           20           16           18       17       14        F        17   \n",
              "4           15            9           10        5        F        F         5   \n",
              "\n",
              "     prom_pc    prom_pd  prom_ex  prom_final  \n",
              "0   1.000000   7.666667      0.0           1  \n",
              "1   1.333333   4.333333      0.0           1  \n",
              "2   2.666667  12.000000      6.5           6  \n",
              "3  18.333333  18.000000     15.5          17  \n",
              "4   7.666667  12.000000      2.5           5  "
            ],
            "text/html": [
              "\n",
              "  <div id=\"df-6fedc39c-5c4c-4025-b6a3-3c705b699788\">\n",
              "    <div class=\"colab-df-container\">\n",
              "      <div>\n",
              "<style scoped>\n",
              "    .dataframe tbody tr th:only-of-type {\n",
              "        vertical-align: middle;\n",
              "    }\n",
              "\n",
              "    .dataframe tbody tr th {\n",
              "        vertical-align: top;\n",
              "    }\n",
              "\n",
              "    .dataframe thead th {\n",
              "        text-align: right;\n",
              "    }\n",
              "</style>\n",
              "<table border=\"1\" class=\"dataframe\">\n",
              "  <thead>\n",
              "    <tr style=\"text-align: right;\">\n",
              "      <th></th>\n",
              "      <th>ID</th>\n",
              "      <th>Practica C1</th>\n",
              "      <th>Practica C2</th>\n",
              "      <th>Practica C3</th>\n",
              "      <th>Practica C4</th>\n",
              "      <th>Practica D1</th>\n",
              "      <th>Practica D2</th>\n",
              "      <th>Practica D3</th>\n",
              "      <th>Practica D4</th>\n",
              "      <th>Examen 1</th>\n",
              "      <th>Examen 2</th>\n",
              "      <th>Examen 3</th>\n",
              "      <th>Promedio</th>\n",
              "      <th>prom_pc</th>\n",
              "      <th>prom_pd</th>\n",
              "      <th>prom_ex</th>\n",
              "      <th>prom_final</th>\n",
              "    </tr>\n",
              "  </thead>\n",
              "  <tbody>\n",
              "    <tr>\n",
              "      <th>0</th>\n",
              "      <td>1</td>\n",
              "      <td>3</td>\n",
              "      <td>0</td>\n",
              "      <td>0</td>\n",
              "      <td>0</td>\n",
              "      <td>9</td>\n",
              "      <td>14</td>\n",
              "      <td>0</td>\n",
              "      <td>0</td>\n",
              "      <td>F</td>\n",
              "      <td>F</td>\n",
              "      <td>F</td>\n",
              "      <td>Retirado</td>\n",
              "      <td>1.000000</td>\n",
              "      <td>7.666667</td>\n",
              "      <td>0.0</td>\n",
              "      <td>1</td>\n",
              "    </tr>\n",
              "    <tr>\n",
              "      <th>1</th>\n",
              "      <td>2</td>\n",
              "      <td>4</td>\n",
              "      <td>0</td>\n",
              "      <td>0</td>\n",
              "      <td>0</td>\n",
              "      <td>13</td>\n",
              "      <td>0</td>\n",
              "      <td>0</td>\n",
              "      <td>0</td>\n",
              "      <td>F</td>\n",
              "      <td>F</td>\n",
              "      <td>F</td>\n",
              "      <td>1</td>\n",
              "      <td>1.333333</td>\n",
              "      <td>4.333333</td>\n",
              "      <td>0.0</td>\n",
              "      <td>1</td>\n",
              "    </tr>\n",
              "    <tr>\n",
              "      <th>2</th>\n",
              "      <td>3</td>\n",
              "      <td>0</td>\n",
              "      <td>8</td>\n",
              "      <td>0</td>\n",
              "      <td>0</td>\n",
              "      <td>9</td>\n",
              "      <td>13</td>\n",
              "      <td>14</td>\n",
              "      <td>8</td>\n",
              "      <td>8</td>\n",
              "      <td>5</td>\n",
              "      <td>F</td>\n",
              "      <td>6</td>\n",
              "      <td>2.666667</td>\n",
              "      <td>12.000000</td>\n",
              "      <td>6.5</td>\n",
              "      <td>6</td>\n",
              "    </tr>\n",
              "    <tr>\n",
              "      <th>3</th>\n",
              "      <td>4</td>\n",
              "      <td>18</td>\n",
              "      <td>17</td>\n",
              "      <td>19</td>\n",
              "      <td>18</td>\n",
              "      <td>16</td>\n",
              "      <td>20</td>\n",
              "      <td>16</td>\n",
              "      <td>18</td>\n",
              "      <td>17</td>\n",
              "      <td>14</td>\n",
              "      <td>F</td>\n",
              "      <td>17</td>\n",
              "      <td>18.333333</td>\n",
              "      <td>18.000000</td>\n",
              "      <td>15.5</td>\n",
              "      <td>17</td>\n",
              "    </tr>\n",
              "    <tr>\n",
              "      <th>4</th>\n",
              "      <td>5</td>\n",
              "      <td>5</td>\n",
              "      <td>11</td>\n",
              "      <td>2</td>\n",
              "      <td>7</td>\n",
              "      <td>11</td>\n",
              "      <td>15</td>\n",
              "      <td>9</td>\n",
              "      <td>10</td>\n",
              "      <td>5</td>\n",
              "      <td>F</td>\n",
              "      <td>F</td>\n",
              "      <td>5</td>\n",
              "      <td>7.666667</td>\n",
              "      <td>12.000000</td>\n",
              "      <td>2.5</td>\n",
              "      <td>5</td>\n",
              "    </tr>\n",
              "  </tbody>\n",
              "</table>\n",
              "</div>\n",
              "      <button class=\"colab-df-convert\" onclick=\"convertToInteractive('df-6fedc39c-5c4c-4025-b6a3-3c705b699788')\"\n",
              "              title=\"Convert this dataframe to an interactive table.\"\n",
              "              style=\"display:none;\">\n",
              "        \n",
              "  <svg xmlns=\"http://www.w3.org/2000/svg\" height=\"24px\"viewBox=\"0 0 24 24\"\n",
              "       width=\"24px\">\n",
              "    <path d=\"M0 0h24v24H0V0z\" fill=\"none\"/>\n",
              "    <path d=\"M18.56 5.44l.94 2.06.94-2.06 2.06-.94-2.06-.94-.94-2.06-.94 2.06-2.06.94zm-11 1L8.5 8.5l.94-2.06 2.06-.94-2.06-.94L8.5 2.5l-.94 2.06-2.06.94zm10 10l.94 2.06.94-2.06 2.06-.94-2.06-.94-.94-2.06-.94 2.06-2.06.94z\"/><path d=\"M17.41 7.96l-1.37-1.37c-.4-.4-.92-.59-1.43-.59-.52 0-1.04.2-1.43.59L10.3 9.45l-7.72 7.72c-.78.78-.78 2.05 0 2.83L4 21.41c.39.39.9.59 1.41.59.51 0 1.02-.2 1.41-.59l7.78-7.78 2.81-2.81c.8-.78.8-2.07 0-2.86zM5.41 20L4 18.59l7.72-7.72 1.47 1.35L5.41 20z\"/>\n",
              "  </svg>\n",
              "      </button>\n",
              "      \n",
              "  <style>\n",
              "    .colab-df-container {\n",
              "      display:flex;\n",
              "      flex-wrap:wrap;\n",
              "      gap: 12px;\n",
              "    }\n",
              "\n",
              "    .colab-df-convert {\n",
              "      background-color: #E8F0FE;\n",
              "      border: none;\n",
              "      border-radius: 50%;\n",
              "      cursor: pointer;\n",
              "      display: none;\n",
              "      fill: #1967D2;\n",
              "      height: 32px;\n",
              "      padding: 0 0 0 0;\n",
              "      width: 32px;\n",
              "    }\n",
              "\n",
              "    .colab-df-convert:hover {\n",
              "      background-color: #E2EBFA;\n",
              "      box-shadow: 0px 1px 2px rgba(60, 64, 67, 0.3), 0px 1px 3px 1px rgba(60, 64, 67, 0.15);\n",
              "      fill: #174EA6;\n",
              "    }\n",
              "\n",
              "    [theme=dark] .colab-df-convert {\n",
              "      background-color: #3B4455;\n",
              "      fill: #D2E3FC;\n",
              "    }\n",
              "\n",
              "    [theme=dark] .colab-df-convert:hover {\n",
              "      background-color: #434B5C;\n",
              "      box-shadow: 0px 1px 3px 1px rgba(0, 0, 0, 0.15);\n",
              "      filter: drop-shadow(0px 1px 2px rgba(0, 0, 0, 0.3));\n",
              "      fill: #FFFFFF;\n",
              "    }\n",
              "  </style>\n",
              "\n",
              "      <script>\n",
              "        const buttonEl =\n",
              "          document.querySelector('#df-6fedc39c-5c4c-4025-b6a3-3c705b699788 button.colab-df-convert');\n",
              "        buttonEl.style.display =\n",
              "          google.colab.kernel.accessAllowed ? 'block' : 'none';\n",
              "\n",
              "        async function convertToInteractive(key) {\n",
              "          const element = document.querySelector('#df-6fedc39c-5c4c-4025-b6a3-3c705b699788');\n",
              "          const dataTable =\n",
              "            await google.colab.kernel.invokeFunction('convertToInteractive',\n",
              "                                                     [key], {});\n",
              "          if (!dataTable) return;\n",
              "\n",
              "          const docLinkHtml = 'Like what you see? Visit the ' +\n",
              "            '<a target=\"_blank\" href=https://colab.research.google.com/notebooks/data_table.ipynb>data table notebook</a>'\n",
              "            + ' to learn more about interactive tables.';\n",
              "          element.innerHTML = '';\n",
              "          dataTable['output_type'] = 'display_data';\n",
              "          await google.colab.output.renderOutput(dataTable, element);\n",
              "          const docLink = document.createElement('div');\n",
              "          docLink.innerHTML = docLinkHtml;\n",
              "          element.appendChild(docLink);\n",
              "        }\n",
              "      </script>\n",
              "    </div>\n",
              "  </div>\n",
              "  "
            ]
          },
          "metadata": {},
          "execution_count": 20
        }
      ]
    },
    {
      "cell_type": "markdown",
      "source": [
        "#**Comparacion de datos**"
      ],
      "metadata": {
        "id": "E37CmlJGSLT9"
      }
    },
    {
      "cell_type": "code",
      "source": [
        "promedios_comparacion = ['prom_pc','prom_pd','prom_ex','prom_final']"
      ],
      "metadata": {
        "id": "qmef1v7VSoMb"
      },
      "execution_count": 21,
      "outputs": []
    },
    {
      "cell_type": "code",
      "source": [
        "data_2022_1_est = data_2022_1_rep[promedios_comparacion].describe().T"
      ],
      "metadata": {
        "id": "YH6DudGwTUoi"
      },
      "execution_count": 55,
      "outputs": []
    },
    {
      "cell_type": "code",
      "source": [
        "data_2022_2_est = data_2022_2_rep[promedios_comparacion].describe().T"
      ],
      "metadata": {
        "id": "-CP77tDlTtnK"
      },
      "execution_count": 23,
      "outputs": []
    },
    {
      "cell_type": "code",
      "source": [
        "data_2021_2_est = data_2021_2_rep[promedios_comparacion].describe().T"
      ],
      "metadata": {
        "id": "hMW2mpG5IgIM"
      },
      "execution_count": 24,
      "outputs": []
    },
    {
      "cell_type": "code",
      "source": [
        "data_2022_1_est.insert(0, 'ID', range(1,len(data_2022_1_est)+1))\n",
        "data_2022_2_est.insert(0, 'ID', range(1,len(data_2022_2_est)+1))\n",
        "data_2021_2_est.insert(0, 'ID', range(1,len(data_2021_2_est)+1))"
      ],
      "metadata": {
        "id": "iAwoMjZPUG8c"
      },
      "execution_count": 25,
      "outputs": []
    },
    {
      "cell_type": "code",
      "source": [
        "tabla_comparada = pd.merge(data_2022_1_est, data_2022_2_est, on='ID')"
      ],
      "metadata": {
        "id": "IGMxPbxQUmoz"
      },
      "execution_count": 26,
      "outputs": []
    },
    {
      "cell_type": "code",
      "source": [
        "tabla_comparada_triple = pd.merge(tabla_comparada, data_2021_2_est, on='ID')"
      ],
      "metadata": {
        "id": "1NPTBOqpIuxV"
      },
      "execution_count": 27,
      "outputs": []
    },
    {
      "cell_type": "code",
      "source": [
        "tabla_comparada.head()"
      ],
      "metadata": {
        "colab": {
          "base_uri": "https://localhost:8080/",
          "height": 239
        },
        "id": "cNx9bQVmU4HL",
        "outputId": "c44550a5-dd96-448a-9a94-fdaecf18679c"
      },
      "execution_count": 28,
      "outputs": [
        {
          "output_type": "execute_result",
          "data": {
            "text/plain": [
              "   ID  count_x     mean_x     std_x  min_x      25%_x      50%_x      75%_x  \\\n",
              "0   1     50.0  12.006667  4.538318    0.0   9.916667  12.666667  15.583333   \n",
              "1   2     50.0  14.006667  3.211014    3.0  13.083333  14.666667  15.666667   \n",
              "2   3     50.0   9.270000  4.456376    0.0   6.250000   9.500000  12.000000   \n",
              "3   4     50.0  10.720000  4.150436    0.0   8.000000  11.000000  13.750000   \n",
              "\n",
              "       max_x  count_y     mean_y     std_y  min_y      25%_y      50%_y  \\\n",
              "0  19.000000     60.0   9.633333  5.152185    0.0   4.916667   9.833333   \n",
              "1  18.666667     60.0  12.661111  3.942378    0.0  10.666667  13.166667   \n",
              "2  19.500000     60.0   8.050000  5.432716    0.0   3.375000   8.500000   \n",
              "3  19.000000     60.0   9.183333  4.935144    0.0   5.000000   9.500000   \n",
              "\n",
              "       75%_y      max_y  \n",
              "0  13.083333  19.000000  \n",
              "1  15.083333  19.333333  \n",
              "2  12.000000  19.500000  \n",
              "3  12.000000  19.000000  "
            ],
            "text/html": [
              "\n",
              "  <div id=\"df-49336cb9-7c2b-420a-89b1-00e13e02728d\">\n",
              "    <div class=\"colab-df-container\">\n",
              "      <div>\n",
              "<style scoped>\n",
              "    .dataframe tbody tr th:only-of-type {\n",
              "        vertical-align: middle;\n",
              "    }\n",
              "\n",
              "    .dataframe tbody tr th {\n",
              "        vertical-align: top;\n",
              "    }\n",
              "\n",
              "    .dataframe thead th {\n",
              "        text-align: right;\n",
              "    }\n",
              "</style>\n",
              "<table border=\"1\" class=\"dataframe\">\n",
              "  <thead>\n",
              "    <tr style=\"text-align: right;\">\n",
              "      <th></th>\n",
              "      <th>ID</th>\n",
              "      <th>count_x</th>\n",
              "      <th>mean_x</th>\n",
              "      <th>std_x</th>\n",
              "      <th>min_x</th>\n",
              "      <th>25%_x</th>\n",
              "      <th>50%_x</th>\n",
              "      <th>75%_x</th>\n",
              "      <th>max_x</th>\n",
              "      <th>count_y</th>\n",
              "      <th>mean_y</th>\n",
              "      <th>std_y</th>\n",
              "      <th>min_y</th>\n",
              "      <th>25%_y</th>\n",
              "      <th>50%_y</th>\n",
              "      <th>75%_y</th>\n",
              "      <th>max_y</th>\n",
              "    </tr>\n",
              "  </thead>\n",
              "  <tbody>\n",
              "    <tr>\n",
              "      <th>0</th>\n",
              "      <td>1</td>\n",
              "      <td>50.0</td>\n",
              "      <td>12.006667</td>\n",
              "      <td>4.538318</td>\n",
              "      <td>0.0</td>\n",
              "      <td>9.916667</td>\n",
              "      <td>12.666667</td>\n",
              "      <td>15.583333</td>\n",
              "      <td>19.000000</td>\n",
              "      <td>60.0</td>\n",
              "      <td>9.633333</td>\n",
              "      <td>5.152185</td>\n",
              "      <td>0.0</td>\n",
              "      <td>4.916667</td>\n",
              "      <td>9.833333</td>\n",
              "      <td>13.083333</td>\n",
              "      <td>19.000000</td>\n",
              "    </tr>\n",
              "    <tr>\n",
              "      <th>1</th>\n",
              "      <td>2</td>\n",
              "      <td>50.0</td>\n",
              "      <td>14.006667</td>\n",
              "      <td>3.211014</td>\n",
              "      <td>3.0</td>\n",
              "      <td>13.083333</td>\n",
              "      <td>14.666667</td>\n",
              "      <td>15.666667</td>\n",
              "      <td>18.666667</td>\n",
              "      <td>60.0</td>\n",
              "      <td>12.661111</td>\n",
              "      <td>3.942378</td>\n",
              "      <td>0.0</td>\n",
              "      <td>10.666667</td>\n",
              "      <td>13.166667</td>\n",
              "      <td>15.083333</td>\n",
              "      <td>19.333333</td>\n",
              "    </tr>\n",
              "    <tr>\n",
              "      <th>2</th>\n",
              "      <td>3</td>\n",
              "      <td>50.0</td>\n",
              "      <td>9.270000</td>\n",
              "      <td>4.456376</td>\n",
              "      <td>0.0</td>\n",
              "      <td>6.250000</td>\n",
              "      <td>9.500000</td>\n",
              "      <td>12.000000</td>\n",
              "      <td>19.500000</td>\n",
              "      <td>60.0</td>\n",
              "      <td>8.050000</td>\n",
              "      <td>5.432716</td>\n",
              "      <td>0.0</td>\n",
              "      <td>3.375000</td>\n",
              "      <td>8.500000</td>\n",
              "      <td>12.000000</td>\n",
              "      <td>19.500000</td>\n",
              "    </tr>\n",
              "    <tr>\n",
              "      <th>3</th>\n",
              "      <td>4</td>\n",
              "      <td>50.0</td>\n",
              "      <td>10.720000</td>\n",
              "      <td>4.150436</td>\n",
              "      <td>0.0</td>\n",
              "      <td>8.000000</td>\n",
              "      <td>11.000000</td>\n",
              "      <td>13.750000</td>\n",
              "      <td>19.000000</td>\n",
              "      <td>60.0</td>\n",
              "      <td>9.183333</td>\n",
              "      <td>4.935144</td>\n",
              "      <td>0.0</td>\n",
              "      <td>5.000000</td>\n",
              "      <td>9.500000</td>\n",
              "      <td>12.000000</td>\n",
              "      <td>19.000000</td>\n",
              "    </tr>\n",
              "  </tbody>\n",
              "</table>\n",
              "</div>\n",
              "      <button class=\"colab-df-convert\" onclick=\"convertToInteractive('df-49336cb9-7c2b-420a-89b1-00e13e02728d')\"\n",
              "              title=\"Convert this dataframe to an interactive table.\"\n",
              "              style=\"display:none;\">\n",
              "        \n",
              "  <svg xmlns=\"http://www.w3.org/2000/svg\" height=\"24px\"viewBox=\"0 0 24 24\"\n",
              "       width=\"24px\">\n",
              "    <path d=\"M0 0h24v24H0V0z\" fill=\"none\"/>\n",
              "    <path d=\"M18.56 5.44l.94 2.06.94-2.06 2.06-.94-2.06-.94-.94-2.06-.94 2.06-2.06.94zm-11 1L8.5 8.5l.94-2.06 2.06-.94-2.06-.94L8.5 2.5l-.94 2.06-2.06.94zm10 10l.94 2.06.94-2.06 2.06-.94-2.06-.94-.94-2.06-.94 2.06-2.06.94z\"/><path d=\"M17.41 7.96l-1.37-1.37c-.4-.4-.92-.59-1.43-.59-.52 0-1.04.2-1.43.59L10.3 9.45l-7.72 7.72c-.78.78-.78 2.05 0 2.83L4 21.41c.39.39.9.59 1.41.59.51 0 1.02-.2 1.41-.59l7.78-7.78 2.81-2.81c.8-.78.8-2.07 0-2.86zM5.41 20L4 18.59l7.72-7.72 1.47 1.35L5.41 20z\"/>\n",
              "  </svg>\n",
              "      </button>\n",
              "      \n",
              "  <style>\n",
              "    .colab-df-container {\n",
              "      display:flex;\n",
              "      flex-wrap:wrap;\n",
              "      gap: 12px;\n",
              "    }\n",
              "\n",
              "    .colab-df-convert {\n",
              "      background-color: #E8F0FE;\n",
              "      border: none;\n",
              "      border-radius: 50%;\n",
              "      cursor: pointer;\n",
              "      display: none;\n",
              "      fill: #1967D2;\n",
              "      height: 32px;\n",
              "      padding: 0 0 0 0;\n",
              "      width: 32px;\n",
              "    }\n",
              "\n",
              "    .colab-df-convert:hover {\n",
              "      background-color: #E2EBFA;\n",
              "      box-shadow: 0px 1px 2px rgba(60, 64, 67, 0.3), 0px 1px 3px 1px rgba(60, 64, 67, 0.15);\n",
              "      fill: #174EA6;\n",
              "    }\n",
              "\n",
              "    [theme=dark] .colab-df-convert {\n",
              "      background-color: #3B4455;\n",
              "      fill: #D2E3FC;\n",
              "    }\n",
              "\n",
              "    [theme=dark] .colab-df-convert:hover {\n",
              "      background-color: #434B5C;\n",
              "      box-shadow: 0px 1px 3px 1px rgba(0, 0, 0, 0.15);\n",
              "      filter: drop-shadow(0px 1px 2px rgba(0, 0, 0, 0.3));\n",
              "      fill: #FFFFFF;\n",
              "    }\n",
              "  </style>\n",
              "\n",
              "      <script>\n",
              "        const buttonEl =\n",
              "          document.querySelector('#df-49336cb9-7c2b-420a-89b1-00e13e02728d button.colab-df-convert');\n",
              "        buttonEl.style.display =\n",
              "          google.colab.kernel.accessAllowed ? 'block' : 'none';\n",
              "\n",
              "        async function convertToInteractive(key) {\n",
              "          const element = document.querySelector('#df-49336cb9-7c2b-420a-89b1-00e13e02728d');\n",
              "          const dataTable =\n",
              "            await google.colab.kernel.invokeFunction('convertToInteractive',\n",
              "                                                     [key], {});\n",
              "          if (!dataTable) return;\n",
              "\n",
              "          const docLinkHtml = 'Like what you see? Visit the ' +\n",
              "            '<a target=\"_blank\" href=https://colab.research.google.com/notebooks/data_table.ipynb>data table notebook</a>'\n",
              "            + ' to learn more about interactive tables.';\n",
              "          element.innerHTML = '';\n",
              "          dataTable['output_type'] = 'display_data';\n",
              "          await google.colab.output.renderOutput(dataTable, element);\n",
              "          const docLink = document.createElement('div');\n",
              "          docLink.innerHTML = docLinkHtml;\n",
              "          element.appendChild(docLink);\n",
              "        }\n",
              "      </script>\n",
              "    </div>\n",
              "  </div>\n",
              "  "
            ]
          },
          "metadata": {},
          "execution_count": 28
        }
      ]
    },
    {
      "cell_type": "code",
      "source": [
        "tabla_comparada_triple.columns"
      ],
      "metadata": {
        "colab": {
          "base_uri": "https://localhost:8080/"
        },
        "id": "yFKu-j6TI7fN",
        "outputId": "71561762-34c5-4234-e925-545c9432a083"
      },
      "execution_count": 29,
      "outputs": [
        {
          "output_type": "execute_result",
          "data": {
            "text/plain": [
              "Index(['ID', 'count_x', 'mean_x', 'std_x', 'min_x', '25%_x', '50%_x', '75%_x',\n",
              "       'max_x', 'count_y', 'mean_y', 'std_y', 'min_y', '25%_y', '50%_y',\n",
              "       '75%_y', 'max_y', 'count', 'mean', 'std', 'min', '25%', '50%', '75%',\n",
              "       'max'],\n",
              "      dtype='object')"
            ]
          },
          "metadata": {},
          "execution_count": 29
        }
      ]
    },
    {
      "cell_type": "code",
      "source": [
        "import seaborn as sns"
      ],
      "metadata": {
        "id": "qN5H6foJV5yj"
      },
      "execution_count": 30,
      "outputs": []
    },
    {
      "cell_type": "code",
      "source": [
        "sns.histplot(data=data_2022_1_rep, x=data_2022_1_rep['Practica C1'])"
      ],
      "metadata": {
        "id": "OGaCl6VJWBlq",
        "outputId": "7dc2f784-01fd-424a-ada0-14c061a27111",
        "colab": {
          "base_uri": "https://localhost:8080/",
          "height": 466
        }
      },
      "execution_count": 54,
      "outputs": [
        {
          "output_type": "execute_result",
          "data": {
            "text/plain": [
              "<Axes: xlabel='Practica C1', ylabel='Count'>"
            ]
          },
          "metadata": {},
          "execution_count": 54
        },
        {
          "output_type": "display_data",
          "data": {
            "text/plain": [
              "<Figure size 640x480 with 1 Axes>"
            ],
            "image/png": "[encoded data removed]"
          },
          "metadata": {}
        }
      ]
    },
    {
      "cell_type": "markdown",
      "source": [
        "## **TAREA**"
      ],
      "metadata": {
        "id": "3OhSBrxkhIlB"
      }
    },
    {
      "cell_type": "code",
      "source": [
        "# Agregar columnas calculando la variacion de los promedios\n",
        "# Graficar\n",
        "# Analisis de las faltas"
      ],
      "metadata": {
        "id": "uCf7f9XtVixy"
      },
      "execution_count": 32,
      "outputs": []
    },
    {
      "cell_type": "markdown",
      "source": [
        "#**Agregar columna calculando la variacion de los promedios**"
      ],
      "metadata": {
        "id": "bbAzfLL1A0NA"
      }
    },
    {
      "cell_type": "code",
      "source": [
        "tabla_comparada['mean_Δ'] = tabla_comparada['mean_x'] - tabla_comparada['mean_y']\n",
        "tabla_comparada.head(10)"
      ],
      "metadata": {
        "colab": {
          "base_uri": "https://localhost:8080/",
          "height": 239
        },
        "id": "latEpH7OAzZG",
        "outputId": "3d4e43e5-cab8-450e-84ff-779472162d2e"
      },
      "execution_count": 33,
      "outputs": [
        {
          "output_type": "execute_result",
          "data": {
            "text/plain": [
              "   ID  count_x     mean_x     std_x  min_x      25%_x      50%_x      75%_x  \\\n",
              "0   1     50.0  12.006667  4.538318    0.0   9.916667  12.666667  15.583333   \n",
              "1   2     50.0  14.006667  3.211014    3.0  13.083333  14.666667  15.666667   \n",
              "2   3     50.0   9.270000  4.456376    0.0   6.250000   9.500000  12.000000   \n",
              "3   4     50.0  10.720000  4.150436    0.0   8.000000  11.000000  13.750000   \n",
              "\n",
              "       max_x  count_y     mean_y     std_y  min_y      25%_y      50%_y  \\\n",
              "0  19.000000     60.0   9.633333  5.152185    0.0   4.916667   9.833333   \n",
              "1  18.666667     60.0  12.661111  3.942378    0.0  10.666667  13.166667   \n",
              "2  19.500000     60.0   8.050000  5.432716    0.0   3.375000   8.500000   \n",
              "3  19.000000     60.0   9.183333  4.935144    0.0   5.000000   9.500000   \n",
              "\n",
              "       75%_y      max_y    mean_Δ  \n",
              "0  13.083333  19.000000  2.373333  \n",
              "1  15.083333  19.333333  1.345556  \n",
              "2  12.000000  19.500000  1.220000  \n",
              "3  12.000000  19.000000  1.536667  "
            ],
            "text/html": [
              "\n",
              "  <div id=\"df-bfb54984-3ae2-4ef8-82b7-b600dd7d4297\">\n",
              "    <div class=\"colab-df-container\">\n",
              "      <div>\n",
              "<style scoped>\n",
              "    .dataframe tbody tr th:only-of-type {\n",
              "        vertical-align: middle;\n",
              "    }\n",
              "\n",
              "    .dataframe tbody tr th {\n",
              "        vertical-align: top;\n",
              "    }\n",
              "\n",
              "    .dataframe thead th {\n",
              "        text-align: right;\n",
              "    }\n",
              "</style>\n",
              "<table border=\"1\" class=\"dataframe\">\n",
              "  <thead>\n",
              "    <tr style=\"text-align: right;\">\n",
              "      <th></th>\n",
              "      <th>ID</th>\n",
              "      <th>count_x</th>\n",
              "      <th>mean_x</th>\n",
              "      <th>std_x</th>\n",
              "      <th>min_x</th>\n",
              "      <th>25%_x</th>\n",
              "      <th>50%_x</th>\n",
              "      <th>75%_x</th>\n",
              "      <th>max_x</th>\n",
              "      <th>count_y</th>\n",
              "      <th>mean_y</th>\n",
              "      <th>std_y</th>\n",
              "      <th>min_y</th>\n",
              "      <th>25%_y</th>\n",
              "      <th>50%_y</th>\n",
              "      <th>75%_y</th>\n",
              "      <th>max_y</th>\n",
              "      <th>mean_Δ</th>\n",
              "    </tr>\n",
              "  </thead>\n",
              "  <tbody>\n",
              "    <tr>\n",
              "      <th>0</th>\n",
              "      <td>1</td>\n",
              "      <td>50.0</td>\n",
              "      <td>12.006667</td>\n",
              "      <td>4.538318</td>\n",
              "      <td>0.0</td>\n",
              "      <td>9.916667</td>\n",
              "      <td>12.666667</td>\n",
              "      <td>15.583333</td>\n",
              "      <td>19.000000</td>\n",
              "      <td>60.0</td>\n",
              "      <td>9.633333</td>\n",
              "      <td>5.152185</td>\n",
              "      <td>0.0</td>\n",
              "      <td>4.916667</td>\n",
              "      <td>9.833333</td>\n",
              "      <td>13.083333</td>\n",
              "      <td>19.000000</td>\n",
              "      <td>2.373333</td>\n",
              "    </tr>\n",
              "    <tr>\n",
              "      <th>1</th>\n",
              "      <td>2</td>\n",
              "      <td>50.0</td>\n",
              "      <td>14.006667</td>\n",
              "      <td>3.211014</td>\n",
              "      <td>3.0</td>\n",
              "      <td>13.083333</td>\n",
              "      <td>14.666667</td>\n",
              "      <td>15.666667</td>\n",
              "      <td>18.666667</td>\n",
              "      <td>60.0</td>\n",
              "      <td>12.661111</td>\n",
              "      <td>3.942378</td>\n",
              "      <td>0.0</td>\n",
              "      <td>10.666667</td>\n",
              "      <td>13.166667</td>\n",
              "      <td>15.083333</td>\n",
              "      <td>19.333333</td>\n",
              "      <td>1.345556</td>\n",
              "    </tr>\n",
              "    <tr>\n",
              "      <th>2</th>\n",
              "      <td>3</td>\n",
              "      <td>50.0</td>\n",
              "      <td>9.270000</td>\n",
              "      <td>4.456376</td>\n",
              "      <td>0.0</td>\n",
              "      <td>6.250000</td>\n",
              "      <td>9.500000</td>\n",
              "      <td>12.000000</td>\n",
              "      <td>19.500000</td>\n",
              "      <td>60.0</td>\n",
              "      <td>8.050000</td>\n",
              "      <td>5.432716</td>\n",
              "      <td>0.0</td>\n",
              "      <td>3.375000</td>\n",
              "      <td>8.500000</td>\n",
              "      <td>12.000000</td>\n",
              "      <td>19.500000</td>\n",
              "      <td>1.220000</td>\n",
              "    </tr>\n",
              "    <tr>\n",
              "      <th>3</th>\n",
              "      <td>4</td>\n",
              "      <td>50.0</td>\n",
              "      <td>10.720000</td>\n",
              "      <td>4.150436</td>\n",
              "      <td>0.0</td>\n",
              "      <td>8.000000</td>\n",
              "      <td>11.000000</td>\n",
              "      <td>13.750000</td>\n",
              "      <td>19.000000</td>\n",
              "      <td>60.0</td>\n",
              "      <td>9.183333</td>\n",
              "      <td>4.935144</td>\n",
              "      <td>0.0</td>\n",
              "      <td>5.000000</td>\n",
              "      <td>9.500000</td>\n",
              "      <td>12.000000</td>\n",
              "      <td>19.000000</td>\n",
              "      <td>1.536667</td>\n",
              "    </tr>\n",
              "  </tbody>\n",
              "</table>\n",
              "</div>\n",
              "      <button class=\"colab-df-convert\" onclick=\"convertToInteractive('df-bfb54984-3ae2-4ef8-82b7-b600dd7d4297')\"\n",
              "              title=\"Convert this dataframe to an interactive table.\"\n",
              "              style=\"display:none;\">\n",
              "        \n",
              "  <svg xmlns=\"http://www.w3.org/2000/svg\" height=\"24px\"viewBox=\"0 0 24 24\"\n",
              "       width=\"24px\">\n",
              "    <path d=\"M0 0h24v24H0V0z\" fill=\"none\"/>\n",
              "    <path d=\"M18.56 5.44l.94 2.06.94-2.06 2.06-.94-2.06-.94-.94-2.06-.94 2.06-2.06.94zm-11 1L8.5 8.5l.94-2.06 2.06-.94-2.06-.94L8.5 2.5l-.94 2.06-2.06.94zm10 10l.94 2.06.94-2.06 2.06-.94-2.06-.94-.94-2.06-.94 2.06-2.06.94z\"/><path d=\"M17.41 7.96l-1.37-1.37c-.4-.4-.92-.59-1.43-.59-.52 0-1.04.2-1.43.59L10.3 9.45l-7.72 7.72c-.78.78-.78 2.05 0 2.83L4 21.41c.39.39.9.59 1.41.59.51 0 1.02-.2 1.41-.59l7.78-7.78 2.81-2.81c.8-.78.8-2.07 0-2.86zM5.41 20L4 18.59l7.72-7.72 1.47 1.35L5.41 20z\"/>\n",
              "  </svg>\n",
              "      </button>\n",
              "      \n",
              "  <style>\n",
              "    .colab-df-container {\n",
              "      display:flex;\n",
              "      flex-wrap:wrap;\n",
              "      gap: 12px;\n",
              "    }\n",
              "\n",
              "    .colab-df-convert {\n",
              "      background-color: #E8F0FE;\n",
              "      border: none;\n",
              "      border-radius: 50%;\n",
              "      cursor: pointer;\n",
              "      display: none;\n",
              "      fill: #1967D2;\n",
              "      height: 32px;\n",
              "      padding: 0 0 0 0;\n",
              "      width: 32px;\n",
              "    }\n",
              "\n",
              "    .colab-df-convert:hover {\n",
              "      background-color: #E2EBFA;\n",
              "      box-shadow: 0px 1px 2px rgba(60, 64, 67, 0.3), 0px 1px 3px 1px rgba(60, 64, 67, 0.15);\n",
              "      fill: #174EA6;\n",
              "    }\n",
              "\n",
              "    [theme=dark] .colab-df-convert {\n",
              "      background-color: #3B4455;\n",
              "      fill: #D2E3FC;\n",
              "    }\n",
              "\n",
              "    [theme=dark] .colab-df-convert:hover {\n",
              "      background-color: #434B5C;\n",
              "      box-shadow: 0px 1px 3px 1px rgba(0, 0, 0, 0.15);\n",
              "      filter: drop-shadow(0px 1px 2px rgba(0, 0, 0, 0.3));\n",
              "      fill: #FFFFFF;\n",
              "    }\n",
              "  </style>\n",
              "\n",
              "      <script>\n",
              "        const buttonEl =\n",
              "          document.querySelector('#df-bfb54984-3ae2-4ef8-82b7-b600dd7d4297 button.colab-df-convert');\n",
              "        buttonEl.style.display =\n",
              "          google.colab.kernel.accessAllowed ? 'block' : 'none';\n",
              "\n",
              "        async function convertToInteractive(key) {\n",
              "          const element = document.querySelector('#df-bfb54984-3ae2-4ef8-82b7-b600dd7d4297');\n",
              "          const dataTable =\n",
              "            await google.colab.kernel.invokeFunction('convertToInteractive',\n",
              "                                                     [key], {});\n",
              "          if (!dataTable) return;\n",
              "\n",
              "          const docLinkHtml = 'Like what you see? Visit the ' +\n",
              "            '<a target=\"_blank\" href=https://colab.research.google.com/notebooks/data_table.ipynb>data table notebook</a>'\n",
              "            + ' to learn more about interactive tables.';\n",
              "          element.innerHTML = '';\n",
              "          dataTable['output_type'] = 'display_data';\n",
              "          await google.colab.output.renderOutput(dataTable, element);\n",
              "          const docLink = document.createElement('div');\n",
              "          docLink.innerHTML = docLinkHtml;\n",
              "          element.appendChild(docLink);\n",
              "        }\n",
              "      </script>\n",
              "    </div>\n",
              "  </div>\n",
              "  "
            ]
          },
          "metadata": {},
          "execution_count": 33
        }
      ]
    },
    {
      "cell_type": "code",
      "source": [
        "tabla_comparada_triple.head()"
      ],
      "metadata": {
        "colab": {
          "base_uri": "https://localhost:8080/",
          "height": 268
        },
        "id": "vZGUyhbQMN0A",
        "outputId": "c13057ab-e41c-4f50-d0c5-2f531cc4b0c1"
      },
      "execution_count": 34,
      "outputs": [
        {
          "output_type": "execute_result",
          "data": {
            "text/plain": [
              "   ID  count_x     mean_x     std_x  min_x      25%_x      50%_x      75%_x  \\\n",
              "0   1     50.0  12.006667  4.538318    0.0   9.916667  12.666667  15.583333   \n",
              "1   2     50.0  14.006667  3.211014    3.0  13.083333  14.666667  15.666667   \n",
              "2   3     50.0   9.270000  4.456376    0.0   6.250000   9.500000  12.000000   \n",
              "3   4     50.0  10.720000  4.150436    0.0   8.000000  11.000000  13.750000   \n",
              "\n",
              "       max_x  count_y  ...      75%_y      max_y  count       mean       std  \\\n",
              "0  19.000000     60.0  ...  13.083333  19.000000   58.0  12.005747  4.871643   \n",
              "1  18.666667     60.0  ...  15.083333  19.333333   58.0  14.701149  3.740975   \n",
              "2  19.500000     60.0  ...  12.000000  19.500000   58.0   9.241379  4.672842   \n",
              "3  19.000000     60.0  ...  12.000000  19.000000   58.0  10.758621  4.321754   \n",
              "\n",
              "   min        25%        50%        75%        max  \n",
              "0  0.0   9.750000  12.833333  15.166667  19.666667  \n",
              "1  0.0  14.083333  15.333333  17.250000  19.333333  \n",
              "2  0.0   6.125000  10.500000  12.375000  18.000000  \n",
              "3  0.0   9.000000  12.000000  13.000000  19.000000  \n",
              "\n",
              "[4 rows x 25 columns]"
            ],
            "text/html": [
              "\n",
              "  <div id=\"df-ee5dabbf-3ddc-482f-9faa-b003c8baa083\">\n",
              "    <div class=\"colab-df-container\">\n",
              "      <div>\n",
              "<style scoped>\n",
              "    .dataframe tbody tr th:only-of-type {\n",
              "        vertical-align: middle;\n",
              "    }\n",
              "\n",
              "    .dataframe tbody tr th {\n",
              "        vertical-align: top;\n",
              "    }\n",
              "\n",
              "    .dataframe thead th {\n",
              "        text-align: right;\n",
              "    }\n",
              "</style>\n",
              "<table border=\"1\" class=\"dataframe\">\n",
              "  <thead>\n",
              "    <tr style=\"text-align: right;\">\n",
              "      <th></th>\n",
              "      <th>ID</th>\n",
              "      <th>count_x</th>\n",
              "      <th>mean_x</th>\n",
              "      <th>std_x</th>\n",
              "      <th>min_x</th>\n",
              "      <th>25%_x</th>\n",
              "      <th>50%_x</th>\n",
              "      <th>75%_x</th>\n",
              "      <th>max_x</th>\n",
              "      <th>count_y</th>\n",
              "      <th>...</th>\n",
              "      <th>75%_y</th>\n",
              "      <th>max_y</th>\n",
              "      <th>count</th>\n",
              "      <th>mean</th>\n",
              "      <th>std</th>\n",
              "      <th>min</th>\n",
              "      <th>25%</th>\n",
              "      <th>50%</th>\n",
              "      <th>75%</th>\n",
              "      <th>max</th>\n",
              "    </tr>\n",
              "  </thead>\n",
              "  <tbody>\n",
              "    <tr>\n",
              "      <th>0</th>\n",
              "      <td>1</td>\n",
              "      <td>50.0</td>\n",
              "      <td>12.006667</td>\n",
              "      <td>4.538318</td>\n",
              "      <td>0.0</td>\n",
              "      <td>9.916667</td>\n",
              "      <td>12.666667</td>\n",
              "      <td>15.583333</td>\n",
              "      <td>19.000000</td>\n",
              "      <td>60.0</td>\n",
              "      <td>...</td>\n",
              "      <td>13.083333</td>\n",
              "      <td>19.000000</td>\n",
              "      <td>58.0</td>\n",
              "      <td>12.005747</td>\n",
              "      <td>4.871643</td>\n",
              "      <td>0.0</td>\n",
              "      <td>9.750000</td>\n",
              "      <td>12.833333</td>\n",
              "      <td>15.166667</td>\n",
              "      <td>19.666667</td>\n",
              "    </tr>\n",
              "    <tr>\n",
              "      <th>1</th>\n",
              "      <td>2</td>\n",
              "      <td>50.0</td>\n",
              "      <td>14.006667</td>\n",
              "      <td>3.211014</td>\n",
              "      <td>3.0</td>\n",
              "      <td>13.083333</td>\n",
              "      <td>14.666667</td>\n",
              "      <td>15.666667</td>\n",
              "      <td>18.666667</td>\n",
              "      <td>60.0</td>\n",
              "      <td>...</td>\n",
              "      <td>15.083333</td>\n",
              "      <td>19.333333</td>\n",
              "      <td>58.0</td>\n",
              "      <td>14.701149</td>\n",
              "      <td>3.740975</td>\n",
              "      <td>0.0</td>\n",
              "      <td>14.083333</td>\n",
              "      <td>15.333333</td>\n",
              "      <td>17.250000</td>\n",
              "      <td>19.333333</td>\n",
              "    </tr>\n",
              "    <tr>\n",
              "      <th>2</th>\n",
              "      <td>3</td>\n",
              "      <td>50.0</td>\n",
              "      <td>9.270000</td>\n",
              "      <td>4.456376</td>\n",
              "      <td>0.0</td>\n",
              "      <td>6.250000</td>\n",
              "      <td>9.500000</td>\n",
              "      <td>12.000000</td>\n",
              "      <td>19.500000</td>\n",
              "      <td>60.0</td>\n",
              "      <td>...</td>\n",
              "      <td>12.000000</td>\n",
              "      <td>19.500000</td>\n",
              "      <td>58.0</td>\n",
              "      <td>9.241379</td>\n",
              "      <td>4.672842</td>\n",
              "      <td>0.0</td>\n",
              "      <td>6.125000</td>\n",
              "      <td>10.500000</td>\n",
              "      <td>12.375000</td>\n",
              "      <td>18.000000</td>\n",
              "    </tr>\n",
              "    <tr>\n",
              "      <th>3</th>\n",
              "      <td>4</td>\n",
              "      <td>50.0</td>\n",
              "      <td>10.720000</td>\n",
              "      <td>4.150436</td>\n",
              "      <td>0.0</td>\n",
              "      <td>8.000000</td>\n",
              "      <td>11.000000</td>\n",
              "      <td>13.750000</td>\n",
              "      <td>19.000000</td>\n",
              "      <td>60.0</td>\n",
              "      <td>...</td>\n",
              "      <td>12.000000</td>\n",
              "      <td>19.000000</td>\n",
              "      <td>58.0</td>\n",
              "      <td>10.758621</td>\n",
              "      <td>4.321754</td>\n",
              "      <td>0.0</td>\n",
              "      <td>9.000000</td>\n",
              "      <td>12.000000</td>\n",
              "      <td>13.000000</td>\n",
              "      <td>19.000000</td>\n",
              "    </tr>\n",
              "  </tbody>\n",
              "</table>\n",
              "<p>4 rows × 25 columns</p>\n",
              "</div>\n",
              "      <button class=\"colab-df-convert\" onclick=\"convertToInteractive('df-ee5dabbf-3ddc-482f-9faa-b003c8baa083')\"\n",
              "              title=\"Convert this dataframe to an interactive table.\"\n",
              "              style=\"display:none;\">\n",
              "        \n",
              "  <svg xmlns=\"http://www.w3.org/2000/svg\" height=\"24px\"viewBox=\"0 0 24 24\"\n",
              "       width=\"24px\">\n",
              "    <path d=\"M0 0h24v24H0V0z\" fill=\"none\"/>\n",
              "    <path d=\"M18.56 5.44l.94 2.06.94-2.06 2.06-.94-2.06-.94-.94-2.06-.94 2.06-2.06.94zm-11 1L8.5 8.5l.94-2.06 2.06-.94-2.06-.94L8.5 2.5l-.94 2.06-2.06.94zm10 10l.94 2.06.94-2.06 2.06-.94-2.06-.94-.94-2.06-.94 2.06-2.06.94z\"/><path d=\"M17.41 7.96l-1.37-1.37c-.4-.4-.92-.59-1.43-.59-.52 0-1.04.2-1.43.59L10.3 9.45l-7.72 7.72c-.78.78-.78 2.05 0 2.83L4 21.41c.39.39.9.59 1.41.59.51 0 1.02-.2 1.41-.59l7.78-7.78 2.81-2.81c.8-.78.8-2.07 0-2.86zM5.41 20L4 18.59l7.72-7.72 1.47 1.35L5.41 20z\"/>\n",
              "  </svg>\n",
              "      </button>\n",
              "      \n",
              "  <style>\n",
              "    .colab-df-container {\n",
              "      display:flex;\n",
              "      flex-wrap:wrap;\n",
              "      gap: 12px;\n",
              "    }\n",
              "\n",
              "    .colab-df-convert {\n",
              "      background-color: #E8F0FE;\n",
              "      border: none;\n",
              "      border-radius: 50%;\n",
              "      cursor: pointer;\n",
              "      display: none;\n",
              "      fill: #1967D2;\n",
              "      height: 32px;\n",
              "      padding: 0 0 0 0;\n",
              "      width: 32px;\n",
              "    }\n",
              "\n",
              "    .colab-df-convert:hover {\n",
              "      background-color: #E2EBFA;\n",
              "      box-shadow: 0px 1px 2px rgba(60, 64, 67, 0.3), 0px 1px 3px 1px rgba(60, 64, 67, 0.15);\n",
              "      fill: #174EA6;\n",
              "    }\n",
              "\n",
              "    [theme=dark] .colab-df-convert {\n",
              "      background-color: #3B4455;\n",
              "      fill: #D2E3FC;\n",
              "    }\n",
              "\n",
              "    [theme=dark] .colab-df-convert:hover {\n",
              "      background-color: #434B5C;\n",
              "      box-shadow: 0px 1px 3px 1px rgba(0, 0, 0, 0.15);\n",
              "      filter: drop-shadow(0px 1px 2px rgba(0, 0, 0, 0.3));\n",
              "      fill: #FFFFFF;\n",
              "    }\n",
              "  </style>\n",
              "\n",
              "      <script>\n",
              "        const buttonEl =\n",
              "          document.querySelector('#df-ee5dabbf-3ddc-482f-9faa-b003c8baa083 button.colab-df-convert');\n",
              "        buttonEl.style.display =\n",
              "          google.colab.kernel.accessAllowed ? 'block' : 'none';\n",
              "\n",
              "        async function convertToInteractive(key) {\n",
              "          const element = document.querySelector('#df-ee5dabbf-3ddc-482f-9faa-b003c8baa083');\n",
              "          const dataTable =\n",
              "            await google.colab.kernel.invokeFunction('convertToInteractive',\n",
              "                                                     [key], {});\n",
              "          if (!dataTable) return;\n",
              "\n",
              "          const docLinkHtml = 'Like what you see? Visit the ' +\n",
              "            '<a target=\"_blank\" href=https://colab.research.google.com/notebooks/data_table.ipynb>data table notebook</a>'\n",
              "            + ' to learn more about interactive tables.';\n",
              "          element.innerHTML = '';\n",
              "          dataTable['output_type'] = 'display_data';\n",
              "          await google.colab.output.renderOutput(dataTable, element);\n",
              "          const docLink = document.createElement('div');\n",
              "          docLink.innerHTML = docLinkHtml;\n",
              "          element.appendChild(docLink);\n",
              "        }\n",
              "      </script>\n",
              "    </div>\n",
              "  </div>\n",
              "  "
            ]
          },
          "metadata": {},
          "execution_count": 34
        }
      ]
    },
    {
      "cell_type": "markdown",
      "source": [
        "#**Graficar**"
      ],
      "metadata": {
        "id": "e5w3Z3RxBpUC"
      }
    },
    {
      "cell_type": "code",
      "source": [
        "import seaborn as sns\n",
        "import matplotlib.pyplot as plt\n",
        "import pandas as pd\n",
        "\n",
        "def grafico_barras(tabla,posicion,titulo,xlabel,ylabel):\n",
        "  # Renombrar columnas de la tabla\n",
        "  tabla = tabla.rename(columns={'mean':'Ciclo 2021-2', 'mean_x':'Ciclo 2022-1', 'mean_y':'Ciclo 2022-2'})\n",
        "\n",
        "  # Calculamos los cuartiles\n",
        "  quartiles = tabla[['Ciclo 2021-2','Ciclo 2022-1','Ciclo 2022-2']].iloc[posicion].transpose().reset_index()\n",
        "  #quartiles = quartiles.melt(id_vars='index', var_name='quartile', value_name='value')\n",
        "\n",
        "  # Creamos la figura\n",
        "  plt.figure(figsize=(10, 6))\n",
        "\n",
        "  # Creamos el gráfico de barras\n",
        "  barplot = sns.barplot(x='index', y=posicion, data=quartiles, palette='Set1')\n",
        "\n",
        "  # Configuramos las propiedades visuales del gráfico\n",
        "  plt.title(titulo)\n",
        "  plt.xlabel(xlabel)\n",
        "  plt.ylabel(ylabel)\n",
        "  #plt.legend(title=legend)\n",
        "\n",
        "  # Agregamos el valor numérico a cada barra\n",
        "  for p in barplot.patches:\n",
        "      barplot.annotate(format(p.get_height(), '.2f'),\n",
        "                      (p.get_x() + p.get_width() / 2., p.get_height()),\n",
        "                      ha = 'center', va = 'center',\n",
        "                      xytext = (0, 10),\n",
        "                      textcoords = 'offset points')\n",
        "\n",
        "  # Mostramos el gráfico\n",
        "  plt.show()\n",
        "\n"
      ],
      "metadata": {
        "id": "g9AyFIUOFnN3"
      },
      "execution_count": 35,
      "outputs": []
    },
    {
      "cell_type": "code",
      "source": [
        "#PC\n",
        "grafico_barras(tabla_comparada_triple, 0,'Promedio Practicas Calificadas','PCs x Ciclo','Promedio')"
      ],
      "metadata": {
        "colab": {
          "base_uri": "https://localhost:8080/",
          "height": 564
        },
        "id": "9qwfjHQIPyUd",
        "outputId": "a77a63e8-763b-449f-9cb3-45935c74751c"
      },
      "execution_count": 36,
      "outputs": [
        {
          "output_type": "display_data",
          "data": {
            "text/plain": [
              "<Figure size 1000x600 with 1 Axes>"
            ],
            "image/png": "[encoded data removed]"
          },
          "metadata": {}
        }
      ]
    },
    {
      "cell_type": "code",
      "source": [
        "#PD\n",
        "grafico_barras(tabla_comparada_triple, 1,'Promedio Practicas Dirigidas','PDs x Ciclo','Promedio')"
      ],
      "metadata": {
        "id": "hdUz2UXKUBaN",
        "outputId": "e0462899-e93b-4bf7-9021-cb465b7bf182",
        "colab": {
          "base_uri": "https://localhost:8080/",
          "height": 564
        }
      },
      "execution_count": 37,
      "outputs": [
        {
          "output_type": "display_data",
          "data": {
            "text/plain": [
              "<Figure size 1000x600 with 1 Axes>"
            ],
            "image/png": "[encoded data removed]"
          },
          "metadata": {}
        }
      ]
    },
    {
      "cell_type": "code",
      "source": [
        "#Examenes\n",
        "grafico_barras(tabla_comparada_triple, 2,'Promedio Examenes','Examenes x Ciclo','Promedio')"
      ],
      "metadata": {
        "id": "QGpuYG0VX7pT",
        "outputId": "da457e9a-0687-417a-a1c0-cf57db9596bb",
        "colab": {
          "base_uri": "https://localhost:8080/",
          "height": 564
        }
      },
      "execution_count": 38,
      "outputs": [
        {
          "output_type": "display_data",
          "data": {
            "text/plain": [
              "<Figure size 1000x600 with 1 Axes>"
            ],
            "image/png": "[encoded data removed]"
          },
          "metadata": {}
        }
      ]
    },
    {
      "cell_type": "code",
      "source": [
        "#Promedio Final\n",
        "grafico_barras(tabla_comparada_triple, 3,'Promedio Final','PF x Ciclo','Promedio')"
      ],
      "metadata": {
        "colab": {
          "base_uri": "https://localhost:8080/",
          "height": 564
        },
        "id": "2LIdgZQlYKmX",
        "outputId": "cd62a147-41f1-4671-de21-efbc577f8d9f"
      },
      "execution_count": 39,
      "outputs": [
        {
          "output_type": "display_data",
          "data": {
            "text/plain": [
              "<Figure size 1000x600 with 1 Axes>"
            ],
            "image/png": "[encoded data removed]"
          },
          "metadata": {}
        }
      ]
    },
    {
      "cell_type": "markdown",
      "source": [
        "#**Analisis de las faltas**"
      ],
      "metadata": {
        "id": "pwtG5F7uSj2C"
      }
    },
    {
      "cell_type": "code",
      "source": [
        "import pandas as pd\n",
        "import matplotlib.pyplot as plt\n",
        "\n",
        "# Filtrar columnas que contengan \"Practica\" en su nombre\n",
        "practica_columns = [col for col in data_2022_1_rep.columns if \"Practica\" in col]\n",
        "\n",
        "# Calcular el número de inasistencias para cada dataset\n",
        "inasistencias_1 = (data_2022_1_rep[practica_columns] == 0).sum().sum()\n",
        "inasistencias_2 = (data_2022_2_rep[practica_columns] == 0).sum().sum()\n",
        "\n",
        "# Calcular el porcentaje de inasistencias\n",
        "total_1 = data_2022_1_rep[practica_columns].size\n",
        "total_2 = data_2022_2_rep[practica_columns].size\n",
        "porcentaje_inasistencias_1 = (inasistencias_1 / total_1) * 100\n",
        "porcentaje_inasistencias_2 = (inasistencias_2 / total_2) * 100\n",
        "\n",
        "# Datos para gráfico de Grupo 1\n",
        "sizes1 = [porcentaje_inasistencias_1, 100 - porcentaje_inasistencias_1]\n",
        "#labels1 = [f'Inasistencias {porcentaje_inasistencias_1:.2f}%', f'Asistencias {100 - porcentaje_inasistencias_1:.2f}%']\n",
        "\n",
        "# Datos para gráfico de Grupo 2\n",
        "sizes2 = [porcentaje_inasistencias_2, 100 - porcentaje_inasistencias_2]\n",
        "#labels2 = [f'Inasistencias {porcentaje_inasistencias_2:.2f}%', f'Asistencias {100 - porcentaje_inasistencias_2:.2f}%']\n",
        "\n",
        "# Crear gráfico de pastel para Grupo 1\n",
        "plt.figure(figsize=(12, 6))\n",
        "plt.subplot(1, 2, 1)\n",
        "plt.pie(sizes1,  colors=['red', 'green'], autopct='%1.1f%%')\n",
        "plt.title(\"% inasistencias en practicas (rojo) - Grupo 2022-1\")\n",
        "\n",
        "# Crear gráfico de pastel para Grupo 2\n",
        "plt.subplot(1, 2, 2)\n",
        "plt.pie(sizes2, colors=['blue', 'green'], autopct='%1.1f%%')\n",
        "plt.title(\"% inasistencias en practicas (azul) - Grupo 2022-2\")\n",
        "\n",
        "# Mostrar gráficos\n",
        "plt.show()\n"
      ],
      "metadata": {
        "colab": {
          "base_uri": "https://localhost:8080/",
          "height": 479
        },
        "id": "z0SPIygqC_Ya",
        "outputId": "2f547836-31e5-48cc-f087-56e2b0b41b50"
      },
      "execution_count": 40,
      "outputs": [
        {
          "output_type": "display_data",
          "data": {
            "text/plain": [
              "<Figure size 1200x600 with 2 Axes>"
            ],
            "image/png": "[encoded data removed]"
          },
          "metadata": {}
        }
      ]
    },
    {
      "cell_type": "markdown",
      "source": [
        "# **Gráfica de Dispersión**\n",
        "Muestra la comparación de los promedios finales entre los ciclos en modalidad virtual vs el ciclo en modalidad prescencial"
      ],
      "metadata": {
        "id": "lCE16kCQk2Ow"
      }
    },
    {
      "cell_type": "code",
      "source": [
        "import pandas as pd\n",
        "import seaborn as sns"
      ],
      "metadata": {
        "id": "5ovxNgx0lOQW"
      },
      "execution_count": 41,
      "outputs": []
    },
    {
      "cell_type": "code",
      "source": [
        "print(data_2021_2_rep.shape)\n",
        "print(data_2022_1_rep.shape)\n",
        "print(data_2022_2_rep.shape)"
      ],
      "metadata": {
        "colab": {
          "base_uri": "https://localhost:8080/"
        },
        "id": "4oIP2fj3s1Om",
        "outputId": "d4325320-7a3a-46b2-fcb4-0a62fc978802"
      },
      "execution_count": 42,
      "outputs": [
        {
          "output_type": "stream",
          "name": "stdout",
          "text": [
            "(58, 17)\n",
            "(50, 17)\n",
            "(60, 17)\n"
          ]
        }
      ]
    },
    {
      "cell_type": "code",
      "source": [
        "data_2021_2_rep.head()"
      ],
      "metadata": {
        "colab": {
          "base_uri": "https://localhost:8080/",
          "height": 288
        },
        "id": "sJ44r3WNu6q9",
        "outputId": "919363c2-c38a-4403-c49a-47c3a4993a66"
      },
      "execution_count": 50,
      "outputs": [
        {
          "output_type": "execute_result",
          "data": {
            "text/plain": [
              "   ID  Practica C1  Practica C2  Practica C3  Practica C4  Practica D1  \\\n",
              "0   1            3            0            0            0            9   \n",
              "1   2            4            0            0            0           13   \n",
              "2   3            0            8            0            0            9   \n",
              "3   4           18           17           19           18           16   \n",
              "4   5            5           11            2            7           11   \n",
              "\n",
              "   Practica D2  Practica D3  Practica D4 Examen 1 Examen 2 Examen 3  Promedio  \\\n",
              "0           14            0            0        F        F        F  Retirado   \n",
              "1            0            0            0        F        F        F         1   \n",
              "2           13           14            8        8        5        F         6   \n",
              "3           20           16           18       17       14        F        17   \n",
              "4           15            9           10        5        F        F         5   \n",
              "\n",
              "     prom_pc    prom_pd  prom_ex  prom_final  \n",
              "0   1.000000   7.666667      0.0           1  \n",
              "1   1.333333   4.333333      0.0           1  \n",
              "2   2.666667  12.000000      6.5           6  \n",
              "3  18.333333  18.000000     15.5          17  \n",
              "4   7.666667  12.000000      2.5           5  "
            ],
            "text/html": [
              "\n",
              "  <div id=\"df-f05cb450-50cc-4d6c-8ad2-2855c72a6f40\">\n",
              "    <div class=\"colab-df-container\">\n",
              "      <div>\n",
              "<style scoped>\n",
              "    .dataframe tbody tr th:only-of-type {\n",
              "        vertical-align: middle;\n",
              "    }\n",
              "\n",
              "    .dataframe tbody tr th {\n",
              "        vertical-align: top;\n",
              "    }\n",
              "\n",
              "    .dataframe thead th {\n",
              "        text-align: right;\n",
              "    }\n",
              "</style>\n",
              "<table border=\"1\" class=\"dataframe\">\n",
              "  <thead>\n",
              "    <tr style=\"text-align: right;\">\n",
              "      <th></th>\n",
              "      <th>ID</th>\n",
              "      <th>Practica C1</th>\n",
              "      <th>Practica C2</th>\n",
              "      <th>Practica C3</th>\n",
              "      <th>Practica C4</th>\n",
              "      <th>Practica D1</th>\n",
              "      <th>Practica D2</th>\n",
              "      <th>Practica D3</th>\n",
              "      <th>Practica D4</th>\n",
              "      <th>Examen 1</th>\n",
              "      <th>Examen 2</th>\n",
              "      <th>Examen 3</th>\n",
              "      <th>Promedio</th>\n",
              "      <th>prom_pc</th>\n",
              "      <th>prom_pd</th>\n",
              "      <th>prom_ex</th>\n",
              "      <th>prom_final</th>\n",
              "    </tr>\n",
              "  </thead>\n",
              "  <tbody>\n",
              "    <tr>\n",
              "      <th>0</th>\n",
              "      <td>1</td>\n",
              "      <td>3</td>\n",
              "      <td>0</td>\n",
              "      <td>0</td>\n",
              "      <td>0</td>\n",
              "      <td>9</td>\n",
              "      <td>14</td>\n",
              "      <td>0</td>\n",
              "      <td>0</td>\n",
              "      <td>F</td>\n",
              "      <td>F</td>\n",
              "      <td>F</td>\n",
              "      <td>Retirado</td>\n",
              "      <td>1.000000</td>\n",
              "      <td>7.666667</td>\n",
              "      <td>0.0</td>\n",
              "      <td>1</td>\n",
              "    </tr>\n",
              "    <tr>\n",
              "      <th>1</th>\n",
              "      <td>2</td>\n",
              "      <td>4</td>\n",
              "      <td>0</td>\n",
              "      <td>0</td>\n",
              "      <td>0</td>\n",
              "      <td>13</td>\n",
              "      <td>0</td>\n",
              "      <td>0</td>\n",
              "      <td>0</td>\n",
              "      <td>F</td>\n",
              "      <td>F</td>\n",
              "      <td>F</td>\n",
              "      <td>1</td>\n",
              "      <td>1.333333</td>\n",
              "      <td>4.333333</td>\n",
              "      <td>0.0</td>\n",
              "      <td>1</td>\n",
              "    </tr>\n",
              "    <tr>\n",
              "      <th>2</th>\n",
              "      <td>3</td>\n",
              "      <td>0</td>\n",
              "      <td>8</td>\n",
              "      <td>0</td>\n",
              "      <td>0</td>\n",
              "      <td>9</td>\n",
              "      <td>13</td>\n",
              "      <td>14</td>\n",
              "      <td>8</td>\n",
              "      <td>8</td>\n",
              "      <td>5</td>\n",
              "      <td>F</td>\n",
              "      <td>6</td>\n",
              "      <td>2.666667</td>\n",
              "      <td>12.000000</td>\n",
              "      <td>6.5</td>\n",
              "      <td>6</td>\n",
              "    </tr>\n",
              "    <tr>\n",
              "      <th>3</th>\n",
              "      <td>4</td>\n",
              "      <td>18</td>\n",
              "      <td>17</td>\n",
              "      <td>19</td>\n",
              "      <td>18</td>\n",
              "      <td>16</td>\n",
              "      <td>20</td>\n",
              "      <td>16</td>\n",
              "      <td>18</td>\n",
              "      <td>17</td>\n",
              "      <td>14</td>\n",
              "      <td>F</td>\n",
              "      <td>17</td>\n",
              "      <td>18.333333</td>\n",
              "      <td>18.000000</td>\n",
              "      <td>15.5</td>\n",
              "      <td>17</td>\n",
              "    </tr>\n",
              "    <tr>\n",
              "      <th>4</th>\n",
              "      <td>5</td>\n",
              "      <td>5</td>\n",
              "      <td>11</td>\n",
              "      <td>2</td>\n",
              "      <td>7</td>\n",
              "      <td>11</td>\n",
              "      <td>15</td>\n",
              "      <td>9</td>\n",
              "      <td>10</td>\n",
              "      <td>5</td>\n",
              "      <td>F</td>\n",
              "      <td>F</td>\n",
              "      <td>5</td>\n",
              "      <td>7.666667</td>\n",
              "      <td>12.000000</td>\n",
              "      <td>2.5</td>\n",
              "      <td>5</td>\n",
              "    </tr>\n",
              "  </tbody>\n",
              "</table>\n",
              "</div>\n",
              "      <button class=\"colab-df-convert\" onclick=\"convertToInteractive('df-f05cb450-50cc-4d6c-8ad2-2855c72a6f40')\"\n",
              "              title=\"Convert this dataframe to an interactive table.\"\n",
              "              style=\"display:none;\">\n",
              "        \n",
              "  <svg xmlns=\"http://www.w3.org/2000/svg\" height=\"24px\"viewBox=\"0 0 24 24\"\n",
              "       width=\"24px\">\n",
              "    <path d=\"M0 0h24v24H0V0z\" fill=\"none\"/>\n",
              "    <path d=\"M18.56 5.44l.94 2.06.94-2.06 2.06-.94-2.06-.94-.94-2.06-.94 2.06-2.06.94zm-11 1L8.5 8.5l.94-2.06 2.06-.94-2.06-.94L8.5 2.5l-.94 2.06-2.06.94zm10 10l.94 2.06.94-2.06 2.06-.94-2.06-.94-.94-2.06-.94 2.06-2.06.94z\"/><path d=\"M17.41 7.96l-1.37-1.37c-.4-.4-.92-.59-1.43-.59-.52 0-1.04.2-1.43.59L10.3 9.45l-7.72 7.72c-.78.78-.78 2.05 0 2.83L4 21.41c.39.39.9.59 1.41.59.51 0 1.02-.2 1.41-.59l7.78-7.78 2.81-2.81c.8-.78.8-2.07 0-2.86zM5.41 20L4 18.59l7.72-7.72 1.47 1.35L5.41 20z\"/>\n",
              "  </svg>\n",
              "      </button>\n",
              "      \n",
              "  <style>\n",
              "    .colab-df-container {\n",
              "      display:flex;\n",
              "      flex-wrap:wrap;\n",
              "      gap: 12px;\n",
              "    }\n",
              "\n",
              "    .colab-df-convert {\n",
              "      background-color: #E8F0FE;\n",
              "      border: none;\n",
              "      border-radius: 50%;\n",
              "      cursor: pointer;\n",
              "      display: none;\n",
              "      fill: #1967D2;\n",
              "      height: 32px;\n",
              "      padding: 0 0 0 0;\n",
              "      width: 32px;\n",
              "    }\n",
              "\n",
              "    .colab-df-convert:hover {\n",
              "      background-color: #E2EBFA;\n",
              "      box-shadow: 0px 1px 2px rgba(60, 64, 67, 0.3), 0px 1px 3px 1px rgba(60, 64, 67, 0.15);\n",
              "      fill: #174EA6;\n",
              "    }\n",
              "\n",
              "    [theme=dark] .colab-df-convert {\n",
              "      background-color: #3B4455;\n",
              "      fill: #D2E3FC;\n",
              "    }\n",
              "\n",
              "    [theme=dark] .colab-df-convert:hover {\n",
              "      background-color: #434B5C;\n",
              "      box-shadow: 0px 1px 3px 1px rgba(0, 0, 0, 0.15);\n",
              "      filter: drop-shadow(0px 1px 2px rgba(0, 0, 0, 0.3));\n",
              "      fill: #FFFFFF;\n",
              "    }\n",
              "  </style>\n",
              "\n",
              "      <script>\n",
              "        const buttonEl =\n",
              "          document.querySelector('#df-f05cb450-50cc-4d6c-8ad2-2855c72a6f40 button.colab-df-convert');\n",
              "        buttonEl.style.display =\n",
              "          google.colab.kernel.accessAllowed ? 'block' : 'none';\n",
              "\n",
              "        async function convertToInteractive(key) {\n",
              "          const element = document.querySelector('#df-f05cb450-50cc-4d6c-8ad2-2855c72a6f40');\n",
              "          const dataTable =\n",
              "            await google.colab.kernel.invokeFunction('convertToInteractive',\n",
              "                                                     [key], {});\n",
              "          if (!dataTable) return;\n",
              "\n",
              "          const docLinkHtml = 'Like what you see? Visit the ' +\n",
              "            '<a target=\"_blank\" href=https://colab.research.google.com/notebooks/data_table.ipynb>data table notebook</a>'\n",
              "            + ' to learn more about interactive tables.';\n",
              "          element.innerHTML = '';\n",
              "          dataTable['output_type'] = 'display_data';\n",
              "          await google.colab.output.renderOutput(dataTable, element);\n",
              "          const docLink = document.createElement('div');\n",
              "          docLink.innerHTML = docLinkHtml;\n",
              "          element.appendChild(docLink);\n",
              "        }\n",
              "      </script>\n",
              "    </div>\n",
              "  </div>\n",
              "  "
            ]
          },
          "metadata": {},
          "execution_count": 50
        }
      ]
    },
    {
      "cell_type": "code",
      "source": [
        "data_2021_2_rep['prom_final'].describe()"
      ],
      "metadata": {
        "id": "ZlIxl5TF87VC",
        "outputId": "8c680ae0-af2b-4256-d2fe-f8af897beb80",
        "colab": {
          "base_uri": "https://localhost:8080/"
        }
      },
      "execution_count": 68,
      "outputs": [
        {
          "output_type": "execute_result",
          "data": {
            "text/plain": [
              "count    58.000000\n",
              "mean     10.758621\n",
              "std       4.321754\n",
              "min       0.000000\n",
              "25%       9.000000\n",
              "50%      12.000000\n",
              "75%      13.000000\n",
              "max      19.000000\n",
              "Name: prom_final, dtype: float64"
            ]
          },
          "metadata": {},
          "execution_count": 68
        }
      ]
    },
    {
      "cell_type": "code",
      "source": [
        "#Función que automatiza la generación de los gráficos de dispersión a partir de dos entradas:\n",
        "#tabla : Es el Data Frame a utilizar\n",
        "#titulo: Es el título que queremos para el gráfico\n",
        "\n",
        "def grafico_dispersion(tabla,titulo):\n",
        "  sns.scatterplot(data = tabla, x = 'prom_pc', y = 'prom_pd', hue = 'prom_final')\n",
        "\n",
        "  # Configuramos las propiedades visuales del gráfico\n",
        "  plt.title(titulo)\n",
        "  plt.xlabel('Práctica Calificada')\n",
        "  plt.ylabel('Práctica Dirigida')\n",
        "  plt.show()"
      ],
      "metadata": {
        "id": "yqbJ03AIliwR"
      },
      "execution_count": 48,
      "outputs": []
    },
    {
      "cell_type": "code",
      "source": [
        "grafico_dispersion(data_2021_2_rep, 'Desempeño 2021_2')"
      ],
      "metadata": {
        "colab": {
          "base_uri": "https://localhost:8080/",
          "height": 472
        },
        "id": "j0OGWivaytDi",
        "outputId": "02d3f673-7e92-423d-f6da-231e36ad695b"
      },
      "execution_count": 49,
      "outputs": [
        {
          "output_type": "display_data",
          "data": {
            "text/plain": [
              "<Figure size 640x480 with 1 Axes>"
            ],
            "image/png": "[encoded data removed]"
          },
          "metadata": {}
        }
      ]
    },
    {
      "cell_type": "code",
      "source": [
        "grafico_dispersion(data_2022_1_rep, 'Desempeño 2022_1')"
      ],
      "metadata": {
        "colab": {
          "base_uri": "https://localhost:8080/",
          "height": 472
        },
        "id": "U5ignHCNyRw8",
        "outputId": "c2a56d39-9aba-4da8-e37f-5c3db0765e57"
      },
      "execution_count": 46,
      "outputs": [
        {
          "output_type": "display_data",
          "data": {
            "text/plain": [
              "<Figure size 640x480 with 1 Axes>"
            ],
            "image/png": "[encoded data removed]"
          },
          "metadata": {}
        }
      ]
    },
    {
      "cell_type": "code",
      "source": [
        "grafico_dispersion(data_2022_2_rep, 'Desempeño 2022_2')"
      ],
      "metadata": {
        "colab": {
          "base_uri": "https://localhost:8080/",
          "height": 472
        },
        "id": "UAk4Szi-wRP6",
        "outputId": "256615ff-50f8-47a6-8c10-464d02c47b6a"
      },
      "execution_count": 47,
      "outputs": [
        {
          "output_type": "display_data",
          "data": {
            "text/plain": [
              "<Figure size 640x480 with 1 Axes>"
            ],
            "image/png": "[encoded data removed]"
          },
          "metadata": {}
        }
      ]
    }
  ]
}