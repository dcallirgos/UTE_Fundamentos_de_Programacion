{
  "nbformat": 4,
  "nbformat_minor": 0,
  "metadata": {
    "colab": {
      "provenance": [],
      "include_colab_link": true
    },
    "kernelspec": {
      "name": "python3",
      "display_name": "Python 3"
    },
    "language_info": {
      "name": "python"
    }
  },
  "cells": [
    {
      "cell_type": "markdown",
      "metadata": {
        "id": "view-in-github",
        "colab_type": "text"
      },
      "source": [
        "<a href=\"https://colab.research.google.com/github/dcallirgos/UTE_Fundamentos_de_Programacion/blob/main/modulo_2/3.%20Numpy%20I.ipynb\" target=\"_parent\"><img src=\"https://colab.research.google.com/assets/colab-badge.svg\" alt=\"Open In Colab\"/></a>"
      ]
    },
    {
      "cell_type": "markdown",
      "source": [
        "<img src=\"https://www.ctic.uni.edu.pe/wp-content/uploads/2022/04/588px-x-348px-web-1.png\" alt=\"HTML5 Icon\" width=\"900\" height=\"350\" >"
      ],
      "metadata": {
        "id": "E_ZHW3fmVS4E"
      }
    },
    {
      "cell_type": "markdown",
      "source": [
        "<h1 align=center><font size = 5> Numpy - Parte I\n",
        "</font></h1>\n",
        "\n",
        "---"
      ],
      "metadata": {
        "id": "11DUCa4NVXVE"
      }
    },
    {
      "cell_type": "markdown",
      "source": [
        "## Tabla de Contenidos\n",
        "\n",
        "<div class=\"alert alert-block alert-info\" style=\"margin-top: 20px\">\n",
        "\n",
        "<font size = 3>\n",
        "    \n",
        "1. <a href=\"#item31\">Trabajando con arrays </a>\n",
        "2. <a href=\"#item31\">Algebra Matricial con arrays</a>  \n",
        "\n",
        "</font>\n",
        "</div>\n",
        "\n",
        "---"
      ],
      "metadata": {
        "id": "y0BfNj-RyguL"
      }
    },
    {
      "cell_type": "markdown",
      "source": [
        "# 1. Trabajando con Arrays "
      ],
      "metadata": {
        "id": "fY5fHyw61UB5"
      }
    },
    {
      "cell_type": "code",
      "source": [
        "#importando numpy\n",
        "import numpy as np"
      ],
      "metadata": {
        "id": "f1NmzUpsUrcj"
      },
      "execution_count": 1,
      "outputs": []
    },
    {
      "cell_type": "code",
      "source": [
        "np.array(['jhon','marco','diego']) #Se identifica el array como texto, string, pero no va a aceptar todas las operaciones númericas para lo cual se usa el array. El Array no está pensado para texto"
      ],
      "metadata": {
        "colab": {
          "base_uri": "https://localhost:8080/"
        },
        "id": "XLctVv0Uam3g",
        "outputId": "2e236d44-e705-4735-e1f3-3e1b8289fb1e"
      },
      "execution_count": 4,
      "outputs": [
        {
          "output_type": "execute_result",
          "data": {
            "text/plain": [
              "array(['jhon', 'marco', 'diego'], dtype='<U5')"
            ]
          },
          "metadata": {},
          "execution_count": 4
        }
      ]
    },
    {
      "cell_type": "code",
      "source": [
        "np.array([20, 25, 33, 24, 28, 32],\n",
        "         [8, 3, 10, 1, 5, 9])"
      ],
      "metadata": {
        "colab": {
          "base_uri": "https://localhost:8080/",
          "height": 183
        },
        "id": "dHzvaUzFZ2t5",
        "outputId": "ae3e6ead-cfa8-4df0-b744-f5d8ec91ef6e"
      },
      "execution_count": 5,
      "outputs": [
        {
          "output_type": "error",
          "ename": "TypeError",
          "evalue": "ignored",
          "traceback": [
            "\u001b[0;31m---------------------------------------------------------------------------\u001b[0m",
            "\u001b[0;31mTypeError\u001b[0m                                 Traceback (most recent call last)",
            "\u001b[0;32m<ipython-input-5-320cf571b90a>\u001b[0m in \u001b[0;36m<cell line: 1>\u001b[0;34m()\u001b[0m\n\u001b[0;32m----> 1\u001b[0;31m np.array([20,25,33,24,28,32],\n\u001b[0m\u001b[1;32m      2\u001b[0m          [8,3,10,1,5,9])\n",
            "\u001b[0;31mTypeError\u001b[0m: Field elements must be 2- or 3-tuples, got '8'"
          ]
        }
      ]
    },
    {
      "cell_type": "code",
      "source": [
        "#Sale error anteriormente  porque cuando le agrego una segunda dimensión (dos filas y 6 columnnas) necesita de una estructura más grande; de ahi el doble parentesis\n",
        "np.array(([20, 25, 33, 24, 28, 32],\n",
        "          [ 8,  3, 10,  1,  5,  9],\n",
        "          [ 5,  6,  5,  7,  5,  4]))\n",
        "\n"
      ],
      "metadata": {
        "colab": {
          "base_uri": "https://localhost:8080/"
        },
        "id": "bbF2H9EEbfES",
        "outputId": "ee9b0398-41b7-4300-c24d-d431f95e6e24"
      },
      "execution_count": 4,
      "outputs": [
        {
          "output_type": "execute_result",
          "data": {
            "text/plain": [
              "array([[20, 25, 33, 24, 28, 32],\n",
              "       [ 8,  3, 10,  1,  5,  9],\n",
              "       [ 5,  6,  5,  7,  5,  4]])"
            ]
          },
          "metadata": {},
          "execution_count": 4
        }
      ]
    },
    {
      "cell_type": "code",
      "source": [
        "import numpy as np\n",
        "np.array([[[20, 25, 33, 24, 28, 32],\n",
        "           [ 8,  3, 10,  1,  5,  9],\n",
        "           [ 5,  6,  5,  7,  5,  4]],\n",
        "           [[20, 25, 33, 24, 28, 32],\n",
        "           [ 8,  3, 10,  1,  5,  9],\n",
        "           [ 5,  6,  5,  7,  5,  4]]])"
      ],
      "metadata": {
        "colab": {
          "base_uri": "https://localhost:8080/"
        },
        "id": "XJhFdy1pdAZ7",
        "outputId": "1b9c55cd-d426-4a4d-cff2-1ca27db842c5"
      },
      "execution_count": 7,
      "outputs": [
        {
          "output_type": "execute_result",
          "data": {
            "text/plain": [
              "array([[[20, 25, 33, 24, 28, 32],\n",
              "        [ 8,  3, 10,  1,  5,  9],\n",
              "        [ 5,  6,  5,  7,  5,  4]],\n",
              "\n",
              "       [[20, 25, 33, 24, 28, 32],\n",
              "        [ 8,  3, 10,  1,  5,  9],\n",
              "        [ 5,  6,  5,  7,  5,  4]]])"
            ]
          },
          "metadata": {},
          "execution_count": 7
        }
      ]
    },
    {
      "cell_type": "code",
      "source": [
        "a = np.array([[[1, 2, 3, 4,  5],\n",
        "              [3, 4, 6, 8, 10],\n",
        "              [6, 7, 8, 10, 2]],\n",
        "             [[1, 2, 3, 4,  5],\n",
        "              [3, 4, 6, 8, 10],\n",
        "              [6, 7, 8, 10, 2]]])\n",
        "print(a)"
      ],
      "metadata": {
        "id": "_HZAFamqNPpz",
        "outputId": "c865026d-ae1f-4292-c6b0-94a15cbe8abd",
        "colab": {
          "base_uri": "https://localhost:8080/"
        }
      },
      "execution_count": 15,
      "outputs": [
        {
          "output_type": "stream",
          "name": "stdout",
          "text": [
            "[[[ 1  2  3  4  5]\n",
            "  [ 3  4  6  8 10]\n",
            "  [ 6  7  8 10  2]]\n",
            "\n",
            " [[ 1  2  3  4  5]\n",
            "  [ 3  4  6  8 10]\n",
            "  [ 6  7  8 10  2]]]\n"
          ]
        }
      ]
    },
    {
      "cell_type": "code",
      "source": [
        "# Array de una dimensión\n",
        "a1 = np.array([1, 2, 3])\n",
        "print(a1)"
      ],
      "metadata": {
        "id": "SiPNzB73APBU"
      },
      "execution_count": null,
      "outputs": []
    },
    {
      "cell_type": "code",
      "execution_count": null,
      "metadata": {
        "id": "A2OxEnshtGJD"
      },
      "outputs": [],
      "source": [
        "# Array de dos dimensiones\n",
        "a2 = np.array([[1, 2, 3], [4, 5, 6]])\n",
        "print(a2)"
      ]
    },
    {
      "cell_type": "code",
      "source": [
        "# Array de tres dimensiones\n",
        "a3 = np.array([[[1, 2, 3], [4, 5, 6]], [[7, 8, 9], [10, 11, 12]]])\n",
        "print(a3)"
      ],
      "metadata": {
        "id": "BusmC4LB1gI8"
      },
      "execution_count": null,
      "outputs": []
    },
    {
      "cell_type": "markdown",
      "source": [
        "### Otras formas de crear arrays"
      ],
      "metadata": {
        "id": "VcV6mD36V0Ip"
      }
    },
    {
      "cell_type": "code",
      "source": [
        "np.zeros((2, 2))"
      ],
      "metadata": {
        "id": "v4lFhW1sbg_2",
        "colab": {
          "base_uri": "https://localhost:8080/"
        },
        "outputId": "d2fe69de-b3d0-422f-986a-2385ccbdaaef"
      },
      "execution_count": 16,
      "outputs": [
        {
          "output_type": "execute_result",
          "data": {
            "text/plain": [
              "array([[0., 0.],\n",
              "       [0., 0.]])"
            ]
          },
          "metadata": {},
          "execution_count": 16
        }
      ]
    },
    {
      "cell_type": "code",
      "source": [
        "np.zeros((3,3)) #Crea un Array de 3x3. Si queremos un vectos sería np.zeros((3))"
      ],
      "metadata": {
        "id": "0DLbLGkxP4AC",
        "outputId": "61430b56-aa31-494b-a7ce-6ccd8c7d6466",
        "colab": {
          "base_uri": "https://localhost:8080/"
        }
      },
      "execution_count": 20,
      "outputs": [
        {
          "output_type": "execute_result",
          "data": {
            "text/plain": [
              "array([[0., 0., 0.],\n",
              "       [0., 0., 0.],\n",
              "       [0., 0., 0.]])"
            ]
          },
          "metadata": {},
          "execution_count": 20
        }
      ]
    },
    {
      "cell_type": "code",
      "source": [
        "np.zeros((3, 3, 3))"
      ],
      "metadata": {
        "id": "bkIgfK7pQM4o",
        "outputId": "cfd5eadd-2d5a-4f00-eee0-e297dde8a85d",
        "colab": {
          "base_uri": "https://localhost:8080/"
        }
      },
      "execution_count": 29,
      "outputs": [
        {
          "output_type": "execute_result",
          "data": {
            "text/plain": [
              "array([[[0., 0., 0.],\n",
              "        [0., 0., 0.],\n",
              "        [0., 0., 0.]],\n",
              "\n",
              "       [[0., 0., 0.],\n",
              "        [0., 0., 0.],\n",
              "        [0., 0., 0.]],\n",
              "\n",
              "       [[0., 0., 0.],\n",
              "        [0., 0., 0.],\n",
              "        [0., 0., 0.]]])"
            ]
          },
          "metadata": {},
          "execution_count": 29
        }
      ]
    },
    {
      "cell_type": "code",
      "source": [
        "np.ones((2, 2))"
      ],
      "metadata": {
        "id": "pz_NpJO6brs0",
        "colab": {
          "base_uri": "https://localhost:8080/"
        },
        "outputId": "c884414b-8e23-4e00-883b-90da2270ce8d"
      },
      "execution_count": 30,
      "outputs": [
        {
          "output_type": "execute_result",
          "data": {
            "text/plain": [
              "array([[1., 1.],\n",
              "       [1., 1.]])"
            ]
          },
          "metadata": {},
          "execution_count": 30
        }
      ]
    },
    {
      "cell_type": "code",
      "source": [
        "# Genera una matriz de a x b con el valor que se solicite. En el ejemplo, genera una matriz 3 x 3 con el valor 69\n",
        "np.full((3,3), 69)"
      ],
      "metadata": {
        "id": "7jt7YHcmAahG",
        "outputId": "87980814-1d1a-4ca6-895e-1ea46b2003ab",
        "colab": {
          "base_uri": "https://localhost:8080/"
        }
      },
      "execution_count": 32,
      "outputs": [
        {
          "output_type": "execute_result",
          "data": {
            "text/plain": [
              "array([[69, 69, 69],\n",
              "       [69, 69, 69],\n",
              "       [69, 69, 69]])"
            ]
          },
          "metadata": {},
          "execution_count": 32
        }
      ]
    },
    {
      "cell_type": "code",
      "source": [
        "np.identity(6) #La matriz identidad contiene 1 en la diagonal y 0 a los lados. Recordar que la matriz siempre es cuadrada"
      ],
      "metadata": {
        "id": "0ufNgmA_b0M4",
        "colab": {
          "base_uri": "https://localhost:8080/"
        },
        "outputId": "a067819c-7766-4753-b147-ed695c5d1540"
      },
      "execution_count": 33,
      "outputs": [
        {
          "output_type": "execute_result",
          "data": {
            "text/plain": [
              "array([[1., 0., 0., 0., 0., 0.],\n",
              "       [0., 1., 0., 0., 0., 0.],\n",
              "       [0., 0., 1., 0., 0., 0.],\n",
              "       [0., 0., 0., 1., 0., 0.],\n",
              "       [0., 0., 0., 0., 1., 0.],\n",
              "       [0., 0., 0., 0., 0., 1.]])"
            ]
          },
          "metadata": {},
          "execution_count": 33
        }
      ]
    },
    {
      "cell_type": "code",
      "source": [
        "np.arange(1, 15, 2) #Va del 1 al 15 de 2 en 2. Los parámetros yo los defino\n"
      ],
      "metadata": {
        "id": "0ZhBiYJuAfJB",
        "colab": {
          "base_uri": "https://localhost:8080/"
        },
        "outputId": "d00f3b48-1299-43c8-ad5f-382cb8040edc"
      },
      "execution_count": 35,
      "outputs": [
        {
          "output_type": "execute_result",
          "data": {
            "text/plain": [
              "array([ 1,  3,  5,  7,  9, 11, 13])"
            ]
          },
          "metadata": {},
          "execution_count": 35
        }
      ]
    },
    {
      "cell_type": "code",
      "source": [
        "np.arange(0, 30, 3)"
      ],
      "metadata": {
        "id": "GNyaxUEySNkO",
        "outputId": "23419de4-63fb-4345-e6fa-48a2f83ea9c7",
        "colab": {
          "base_uri": "https://localhost:8080/"
        }
      },
      "execution_count": 39,
      "outputs": [
        {
          "output_type": "execute_result",
          "data": {
            "text/plain": [
              "array([ 0,  3,  6,  9, 12, 15, 18, 21, 24, 27])"
            ]
          },
          "metadata": {},
          "execution_count": 39
        }
      ]
    },
    {
      "cell_type": "code",
      "source": [
        "# Me permite generar un Array de una cantidad de valores equidistantes entre dos valores; np.linspace(valor de inicio, valor final, cantidad de valores)\n",
        "np.linspace(0, 100, 5)"
      ],
      "metadata": {
        "id": "Gd335gxCAjGa",
        "colab": {
          "base_uri": "https://localhost:8080/"
        },
        "outputId": "ba717cf9-0fa3-4364-bc0b-3a0722c06613"
      },
      "execution_count": 49,
      "outputs": [
        {
          "output_type": "execute_result",
          "data": {
            "text/plain": [
              "array([  0.,  25.,  50.,  75., 100.])"
            ]
          },
          "metadata": {},
          "execution_count": 49
        }
      ]
    },
    {
      "cell_type": "code",
      "source": [
        "# Siempre devuelve valores contenidos entre 0 y 1\n",
        "np.random.random((3, 3)) "
      ],
      "metadata": {
        "id": "H5yuZdfkXMym",
        "colab": {
          "base_uri": "https://localhost:8080/"
        },
        "outputId": "4d4e8de2-a1e7-4998-8a65-8db8136f945d"
      },
      "execution_count": 52,
      "outputs": [
        {
          "output_type": "execute_result",
          "data": {
            "text/plain": [
              "array([[0.73783805, 0.17228074, 0.97233735],\n",
              "       [0.34443485, 0.48912126, 0.88980701],\n",
              "       [0.33236593, 0.1965172 , 0.23260495]])"
            ]
          },
          "metadata": {},
          "execution_count": 52
        }
      ]
    },
    {
      "cell_type": "code",
      "source": [
        "# random.randit me permite generar números aleatorios entre 0 y el valor que le coloque como parámetro\n",
        "np.random.randint(99)"
      ],
      "metadata": {
        "id": "V9XxS0zZT4m7",
        "outputId": "31b96c95-d8c3-42ea-f5ff-89b6f1a4ee17",
        "colab": {
          "base_uri": "https://localhost:8080/"
        }
      },
      "execution_count": 60,
      "outputs": [
        {
          "output_type": "execute_result",
          "data": {
            "text/plain": [
              "77"
            ]
          },
          "metadata": {},
          "execution_count": 60
        }
      ]
    },
    {
      "cell_type": "code",
      "source": [
        "# Utiliznado un List Compresion puede generar una lista con número aleatorios\n",
        "[np.random.randint(99) for i in range(0,5)]"
      ],
      "metadata": {
        "id": "bwKsVfwmUovZ",
        "outputId": "4a00d2e7-1471-4a22-fe9a-3c62dbc70220",
        "colab": {
          "base_uri": "https://localhost:8080/"
        }
      },
      "execution_count": 61,
      "outputs": [
        {
          "output_type": "execute_result",
          "data": {
            "text/plain": [
              "[13, 78, 89, 52, 74]"
            ]
          },
          "metadata": {},
          "execution_count": 61
        }
      ]
    },
    {
      "cell_type": "code",
      "source": [
        "# Si lo quiero en un array\n",
        "np.array([np.random.randint(99) for i in range(0,5)])"
      ],
      "metadata": {
        "id": "0-_29O1kUzHl",
        "outputId": "7bf30480-1c6b-48ec-84ab-c31811fec6eb",
        "colab": {
          "base_uri": "https://localhost:8080/"
        }
      },
      "execution_count": 64,
      "outputs": [
        {
          "output_type": "execute_result",
          "data": {
            "text/plain": [
              "array([44, 33, 82, 54, 75])"
            ]
          },
          "metadata": {},
          "execution_count": 64
        }
      ]
    },
    {
      "cell_type": "markdown",
      "source": [
        "### Atributos de un array"
      ],
      "metadata": {
        "id": "0GbfBGic15oY"
      }
    },
    {
      "cell_type": "code",
      "source": [
        "my_array = np.identity(5)\n",
        "print(my_array)"
      ],
      "metadata": {
        "id": "FF6-vfvAVfDL",
        "outputId": "50fbb5e1-0cf2-457e-dd6f-30b9a11eef37",
        "colab": {
          "base_uri": "https://localhost:8080/"
        }
      },
      "execution_count": 71,
      "outputs": [
        {
          "output_type": "stream",
          "name": "stdout",
          "text": [
            "[[1. 0. 0. 0. 0.]\n",
            " [0. 1. 0. 0. 0.]\n",
            " [0. 0. 1. 0. 0.]\n",
            " [0. 0. 0. 1. 0.]\n",
            " [0. 0. 0. 0. 1.]]\n"
          ]
        }
      ]
    },
    {
      "cell_type": "code",
      "source": [
        "#Devuelve el número de dimensiones del array\n",
        "my_array.ndim"
      ],
      "metadata": {
        "id": "p4DArzqhCKco",
        "colab": {
          "base_uri": "https://localhost:8080/"
        },
        "outputId": "a46f4e09-e5b0-4330-b1fb-4b6cb127cf64"
      },
      "execution_count": 73,
      "outputs": [
        {
          "output_type": "execute_result",
          "data": {
            "text/plain": [
              "2"
            ]
          },
          "metadata": {},
          "execution_count": 73
        }
      ]
    },
    {
      "cell_type": "code",
      "source": [
        "#Devuelve una tupla con las dimensiones del array\n",
        "my_array.shape"
      ],
      "metadata": {
        "id": "ndoPuCOaXhuC",
        "colab": {
          "base_uri": "https://localhost:8080/"
        },
        "outputId": "9db1e734-5d3b-4f05-8c63-35747ebd0c9f"
      },
      "execution_count": 75,
      "outputs": [
        {
          "output_type": "execute_result",
          "data": {
            "text/plain": [
              "(5, 5)"
            ]
          },
          "metadata": {},
          "execution_count": 75
        }
      ]
    },
    {
      "cell_type": "code",
      "source": [
        "#Devuelve el número de elementos del array\n",
        "my_array.size"
      ],
      "metadata": {
        "id": "76MmfeABXj9I",
        "colab": {
          "base_uri": "https://localhost:8080/"
        },
        "outputId": "9822c0dd-58a1-4d8b-994a-7707ecdb5699"
      },
      "execution_count": 77,
      "outputs": [
        {
          "output_type": "execute_result",
          "data": {
            "text/plain": [
              "25"
            ]
          },
          "metadata": {},
          "execution_count": 77
        }
      ]
    },
    {
      "cell_type": "code",
      "source": [
        "#Devuelve el tipo de datos de los elementos del array\n",
        "my_array.dtype"
      ],
      "metadata": {
        "id": "iojpwYpIXqvp",
        "colab": {
          "base_uri": "https://localhost:8080/"
        },
        "outputId": "24cc6946-7e54-41c0-a930-4abd2d3c5c5c"
      },
      "execution_count": 78,
      "outputs": [
        {
          "output_type": "execute_result",
          "data": {
            "text/plain": [
              "dtype('float64')"
            ]
          },
          "metadata": {},
          "execution_count": 78
        }
      ]
    },
    {
      "cell_type": "markdown",
      "source": [
        "### Acceder a elementos del array"
      ],
      "metadata": {
        "id": "b3Y8iK2rYUNk"
      }
    },
    {
      "cell_type": "code",
      "source": [
        "\n",
        "a = np.array([[1, 2, 3], [4, 5, 6]])\n",
        "print(a[1, 0]) # Esto le dice del array \"a\" anda al primer elemento y dentro del primer elemento saca la posición 0. La matriz [1 , 2, 3] es el valor 0 por tanto el valor 1 es la matriz [4 ,5 ,6] "
      ],
      "metadata": {
        "id": "VxwH2dxTYT2p",
        "colab": {
          "base_uri": "https://localhost:8080/"
        },
        "outputId": "7081250b-2c5a-45be-a684-05b51cb5870b"
      },
      "execution_count": 79,
      "outputs": [
        {
          "output_type": "stream",
          "name": "stdout",
          "text": [
            "4\n"
          ]
        }
      ]
    },
    {
      "cell_type": "code",
      "source": [
        "# Cúal será la forma de extraer el elemento 3 del array\n",
        "a = np.array([[1, 2, 3], [4, 5, 6]])\n",
        "print(a[0, 2])"
      ],
      "metadata": {
        "id": "SAh2hyMocFH8",
        "outputId": "72fa5665-274c-4b61-dd4d-a57925a95c35",
        "colab": {
          "base_uri": "https://localhost:8080/"
        }
      },
      "execution_count": 81,
      "outputs": [
        {
          "output_type": "stream",
          "name": "stdout",
          "text": [
            "3\n"
          ]
        }
      ]
    },
    {
      "cell_type": "code",
      "source": [
        "# Cúal será la forma de extraer el elemento 6 del array\n",
        "a = np.array([[1, 2, 3], [4, 5, 6]])\n",
        "print(a[1, 2])"
      ],
      "metadata": {
        "id": "OZ_sXOWMcaTo",
        "outputId": "0b9f1eb5-998b-4e82-ed16-eb4617fa2fa3",
        "colab": {
          "base_uri": "https://localhost:8080/"
        }
      },
      "execution_count": 82,
      "outputs": [
        {
          "output_type": "stream",
          "name": "stdout",
          "text": [
            "6\n"
          ]
        }
      ]
    },
    {
      "cell_type": "code",
      "source": [
        "a = np.array([[[1, 2, 3], [4, 5, 6], [4, 5, 6], [11, 12, 13]],\n",
        "              [[1, 2, 3], [4, 5, 99], [4, 5, 6], [11, 12, 13]]])\n",
        "\n",
        "print(a[1, 1, 2])"
      ],
      "metadata": {
        "id": "KySRzuPmcuI-",
        "outputId": "8cebc93b-4c1a-4e5b-d498-aa706d8b130d",
        "colab": {
          "base_uri": "https://localhost:8080/"
        }
      },
      "execution_count": 92,
      "outputs": [
        {
          "output_type": "stream",
          "name": "stdout",
          "text": [
            "99\n"
          ]
        }
      ]
    },
    {
      "cell_type": "code",
      "source": [
        "a"
      ],
      "metadata": {
        "id": "4H_dU87ofQq3",
        "outputId": "361777e5-021f-4c4b-9b47-d0bbb6cdeefa",
        "colab": {
          "base_uri": "https://localhost:8080/"
        }
      },
      "execution_count": 93,
      "outputs": [
        {
          "output_type": "execute_result",
          "data": {
            "text/plain": [
              "array([[[ 1,  2,  3],\n",
              "        [ 4,  5,  6],\n",
              "        [ 4,  5,  6],\n",
              "        [11, 12, 13]],\n",
              "\n",
              "       [[ 1,  2,  3],\n",
              "        [ 4,  5, 99],\n",
              "        [ 4,  5,  6],\n",
              "        [11, 12, 13]]])"
            ]
          },
          "metadata": {},
          "execution_count": 93
        }
      ]
    },
    {
      "cell_type": "code",
      "source": [
        "a.ndim"
      ],
      "metadata": {
        "id": "xo86kvEtdziv",
        "outputId": "7eaa584e-512c-471d-fcad-f0b4ec18830e",
        "colab": {
          "base_uri": "https://localhost:8080/"
        }
      },
      "execution_count": 95,
      "outputs": [
        {
          "output_type": "execute_result",
          "data": {
            "text/plain": [
              "3"
            ]
          },
          "metadata": {},
          "execution_count": 95
        }
      ]
    },
    {
      "cell_type": "code",
      "source": [
        "a.shape"
      ],
      "metadata": {
        "id": "PFSUdwMceeQ4",
        "outputId": "d1b6983b-b156-4d68-d3e7-80a8e01f4791",
        "colab": {
          "base_uri": "https://localhost:8080/"
        }
      },
      "execution_count": 96,
      "outputs": [
        {
          "output_type": "execute_result",
          "data": {
            "text/plain": [
              "(2, 4, 3)"
            ]
          },
          "metadata": {},
          "execution_count": 96
        }
      ]
    },
    {
      "cell_type": "code",
      "source": [
        "a.size"
      ],
      "metadata": {
        "id": "vD-mPUL8e3oi",
        "outputId": "dced52f6-200d-4219-b068-1b5ed7ba75d5",
        "colab": {
          "base_uri": "https://localhost:8080/"
        }
      },
      "execution_count": 97,
      "outputs": [
        {
          "output_type": "execute_result",
          "data": {
            "text/plain": [
              "24"
            ]
          },
          "metadata": {},
          "execution_count": 97
        }
      ]
    },
    {
      "cell_type": "code",
      "source": [
        "print(a[1][0])"
      ],
      "metadata": {
        "id": "TZoWHwO8YeBa"
      },
      "execution_count": null,
      "outputs": []
    },
    {
      "cell_type": "code",
      "source": [
        "print(a[:, 0:2])"
      ],
      "metadata": {
        "id": "PnAyfn-zYhIt"
      },
      "execution_count": null,
      "outputs": []
    },
    {
      "cell_type": "code",
      "source": [
        "a = np.array([[1, 2, 3, 4, 5],\n",
        "             [1, 2, 3, 7, 8]])\n",
        "\n",
        "# Para extraer el elmento 4 y 5 del primera dimensión y el 7 y 8 de la segunda dimensión\n",
        "a[:, 3:]"
      ],
      "metadata": {
        "id": "f4lqljpQgJtq",
        "outputId": "a671a420-1eba-4cba-9e12-c43e54b0de3f",
        "colab": {
          "base_uri": "https://localhost:8080/"
        }
      },
      "execution_count": 103,
      "outputs": [
        {
          "output_type": "execute_result",
          "data": {
            "text/plain": [
              "array([[4, 5],\n",
              "       [7, 8]])"
            ]
          },
          "metadata": {},
          "execution_count": 103
        }
      ]
    },
    {
      "cell_type": "code",
      "source": [
        "a = np.array([[1, 2, 3, 4, 5],\n",
        "              [1, 2, 3, 7, 8],\n",
        "              [10, 11, 30, 77, 18]])\n",
        "\n",
        "a[1:, 2:4]"
      ],
      "metadata": {
        "id": "mdLDBGrPhfW6",
        "outputId": "65e3db3c-da71-4ae8-9f90-b3abfa05d7ac",
        "colab": {
          "base_uri": "https://localhost:8080/"
        }
      },
      "execution_count": 106,
      "outputs": [
        {
          "output_type": "execute_result",
          "data": {
            "text/plain": [
              "array([[ 3,  7],\n",
              "       [30, 77]])"
            ]
          },
          "metadata": {},
          "execution_count": 106
        }
      ]
    },
    {
      "cell_type": "markdown",
      "source": [
        "### Filtrado de elementos de un array"
      ],
      "metadata": {
        "id": "lcrw2Z0m78lP"
      }
    },
    {
      "cell_type": "code",
      "source": [
        "# Para quedamer solo con los elementos partes de ambos vectores\n",
        "a = np.array([[1, 2, 3], [4, 5, 6]])\n",
        "\n",
        "a%2 == 0"
      ],
      "metadata": {
        "id": "FQDuhQNPjhWB",
        "outputId": "a90d649c-01e9-40f6-a3cc-c537ded08589",
        "colab": {
          "base_uri": "https://localhost:8080/"
        }
      },
      "execution_count": 112,
      "outputs": [
        {
          "output_type": "execute_result",
          "data": {
            "text/plain": [
              "array([[False,  True, False],\n",
              "       [ True, False,  True]])"
            ]
          },
          "metadata": {},
          "execution_count": 112
        }
      ]
    },
    {
      "cell_type": "code",
      "source": [
        "# Pero siempre perderá su dimensionalidad y me traerá en un array de una unica dimensión\n",
        "a = np.array([[1, 2, 3], [4, 5, 6]])\n",
        "\n",
        "a[(a%2 == 0)]"
      ],
      "metadata": {
        "id": "d8RLrMEskL54",
        "outputId": "fbca9cf0-2c9a-40dd-c79e-20e43dfd5418",
        "colab": {
          "base_uri": "https://localhost:8080/"
        }
      },
      "execution_count": 114,
      "outputs": [
        {
          "output_type": "execute_result",
          "data": {
            "text/plain": [
              "array([2, 4, 6])"
            ]
          },
          "metadata": {},
          "execution_count": 114
        }
      ]
    },
    {
      "cell_type": "code",
      "source": [
        "# Pero puedo regresarle sus dimensiones con un reshape\n",
        "a = np.array([[1, 2, 3, 8], [4, 5, 6, 7]])\n",
        "\n",
        "temp = a[(a%2 == 0)]\n",
        "\n",
        "temp.reshape(2,2)"
      ],
      "metadata": {
        "id": "jMIWQxn1lXJM",
        "outputId": "ef8e20db-941e-477d-cc28-cf6ec6b49f20",
        "colab": {
          "base_uri": "https://localhost:8080/"
        }
      },
      "execution_count": 116,
      "outputs": [
        {
          "output_type": "execute_result",
          "data": {
            "text/plain": [
              "array([[2, 8],\n",
              "       [4, 6]])"
            ]
          },
          "metadata": {},
          "execution_count": 116
        }
      ]
    },
    {
      "cell_type": "code",
      "source": [
        "a = np.array([[1, 2, 3], [4, 5, 6]])\n",
        "print(a[(a % 2 == 0)])"
      ],
      "metadata": {
        "id": "8AE3fsNL8EtC"
      },
      "execution_count": null,
      "outputs": []
    },
    {
      "cell_type": "code",
      "source": [
        "print(a[(a % 2 == 0) &  (a > 2)])"
      ],
      "metadata": {
        "id": "5PbY7G5f8JU_"
      },
      "execution_count": null,
      "outputs": []
    },
    {
      "cell_type": "markdown",
      "source": [
        "### Operaciones matemáticas con arrays"
      ],
      "metadata": {
        "id": "9yx9EFua8MJX"
      }
    },
    {
      "cell_type": "code",
      "source": [
        "a = np.array([[1, 2, 3], [4, 5, 6]])\n",
        "b = np.array([[1, 1, 1], [2, 2, 2]])"
      ],
      "metadata": {
        "id": "-NrePFXc8PHD"
      },
      "execution_count": null,
      "outputs": []
    },
    {
      "cell_type": "code",
      "source": [
        "print(a + b )"
      ],
      "metadata": {
        "id": "_kFbK9_K8Qrf"
      },
      "execution_count": null,
      "outputs": []
    },
    {
      "cell_type": "code",
      "source": [
        "print(a / b)"
      ],
      "metadata": {
        "id": "qNgHme0V8UIw"
      },
      "execution_count": null,
      "outputs": []
    },
    {
      "cell_type": "code",
      "source": [
        "print(a ** 2)"
      ],
      "metadata": {
        "id": "lG8L6h0r8Vqn"
      },
      "execution_count": null,
      "outputs": []
    },
    {
      "cell_type": "markdown",
      "source": [
        "# 2. Álgebra matricial con arrays"
      ],
      "metadata": {
        "id": "s7k34kfm8X69"
      }
    },
    {
      "cell_type": "markdown",
      "source": [
        "### Producto escalar de dos vectores"
      ],
      "metadata": {
        "id": "j6AAGCRr87wU"
      }
    },
    {
      "cell_type": "markdown",
      "source": [
        "u.dot(v): Devuelve el producto escalar de los vectores u y v.\n",
        "\n"
      ],
      "metadata": {
        "id": "gwuBYeb29Qfh"
      }
    },
    {
      "cell_type": "code",
      "source": [
        "import numpy as np\n",
        "a = np.array([1, 2, 3])\n",
        "b = np.array([1, 0, 1])\n",
        "print(a @ b)"
      ],
      "metadata": {
        "id": "wfdhOaH28ryF"
      },
      "execution_count": null,
      "outputs": []
    },
    {
      "cell_type": "code",
      "source": [
        "print(a.dot(b))"
      ],
      "metadata": {
        "id": "cbsnIrcI8zfo"
      },
      "execution_count": null,
      "outputs": []
    },
    {
      "cell_type": "code",
      "source": [
        "a*b"
      ],
      "metadata": {
        "id": "rV83-Tis9GMa"
      },
      "execution_count": null,
      "outputs": []
    },
    {
      "cell_type": "markdown",
      "source": [
        "### Módulo de un vector"
      ],
      "metadata": {
        "id": "iqUXxB_j9ML1"
      }
    },
    {
      "cell_type": "markdown",
      "source": [
        "norm(v): Devuelve el módulo del vector v."
      ],
      "metadata": {
        "id": "Aq7ECjOp9Pnz"
      }
    },
    {
      "cell_type": "code",
      "source": [
        "a = np.array([3, 4])"
      ],
      "metadata": {
        "id": "P_Lq83--9flL"
      },
      "execution_count": null,
      "outputs": []
    },
    {
      "cell_type": "code",
      "source": [
        "print(np.linalg.norm(a))"
      ],
      "metadata": {
        "id": "CdIAQBEt9hHW"
      },
      "execution_count": null,
      "outputs": []
    },
    {
      "cell_type": "markdown",
      "source": [
        "### Producto de dos matrices"
      ],
      "metadata": {
        "id": "dX-NAWL19tyX"
      }
    },
    {
      "cell_type": "markdown",
      "source": [
        "a.dot(b) : Devuelve el producto matricial de las matrices a y b siempre y cuando sus dimensiones sean compatibles."
      ],
      "metadata": {
        "id": "qYkfLl6J-CLK"
      }
    },
    {
      "cell_type": "code",
      "source": [
        "a = np.array([[1, 2, 3], [4, 5, 6]])\n",
        "b = np.array([[1, 1], [2, 2], [3, 3]])\n",
        "print(a @ b)"
      ],
      "metadata": {
        "id": "5D1PWI3G-EWG"
      },
      "execution_count": null,
      "outputs": []
    },
    {
      "cell_type": "code",
      "source": [
        "print(a.dot(b))"
      ],
      "metadata": {
        "id": "Tzn3MeyH_9fv"
      },
      "execution_count": null,
      "outputs": []
    },
    {
      "cell_type": "markdown",
      "source": [
        "### Matriz traspuesta"
      ],
      "metadata": {
        "id": "5OW9IONI__48"
      }
    },
    {
      "cell_type": "code",
      "source": [
        "np.array([[1, 2, 3], [4, 5, 6]])\n",
        "print(a.T)"
      ],
      "metadata": {
        "id": "NyqB9xjIACUa"
      },
      "execution_count": null,
      "outputs": []
    },
    {
      "cell_type": "markdown",
      "source": [
        "### Traza de una matriz"
      ],
      "metadata": {
        "id": "8TJzLVf5AHf0"
      }
    },
    {
      "cell_type": "markdown",
      "source": [
        "a.trace() : Devuelve la traza (suma de la diagonal principal) de la matriz cuadrada a."
      ],
      "metadata": {
        "id": "HDbLyKgnALVr"
      }
    },
    {
      "cell_type": "code",
      "source": [
        "a = np.array([[1, 2, 3], [4, 5, 6], [7, 8, 9]])\n",
        "print(a.trace())"
      ],
      "metadata": {
        "id": "vCUPvFPYANPk"
      },
      "execution_count": null,
      "outputs": []
    },
    {
      "cell_type": "markdown",
      "source": [
        "### Determinante de una matriz"
      ],
      "metadata": {
        "id": "w6fDKLQxAXr-"
      }
    },
    {
      "cell_type": "markdown",
      "source": [
        "det(a) : Devuelve el determinante de la matriz cuadrada a."
      ],
      "metadata": {
        "id": "N5bWowfWAa1h"
      }
    },
    {
      "cell_type": "code",
      "source": [
        "a = np.array([[1, 2], [3, 4]])\n",
        "print(np.linalg.det(a))"
      ],
      "metadata": {
        "id": "pkqeA5kRAcZn"
      },
      "execution_count": null,
      "outputs": []
    },
    {
      "cell_type": "markdown",
      "source": [
        "### Matriz inversa"
      ],
      "metadata": {
        "id": "7gzecMWTAflX"
      }
    },
    {
      "cell_type": "code",
      "source": [
        "a = np.array([[1, 2], [3, 4]])\n",
        "print(np.linalg.inv(a))"
      ],
      "metadata": {
        "id": "ywNxwmcuAiWO"
      },
      "execution_count": null,
      "outputs": []
    },
    {
      "cell_type": "markdown",
      "source": [
        "### Autovalores de una matriz\n"
      ],
      "metadata": {
        "id": "a6wT5BcrAmUZ"
      }
    },
    {
      "cell_type": "markdown",
      "source": [
        "eigvals(a) : Devuelve los autovalores de la matriz cuadrada a.\n",
        "\n"
      ],
      "metadata": {
        "id": "zSjT_xgsApHW"
      }
    },
    {
      "cell_type": "code",
      "source": [
        "a = np.array([[1, 1, 0], [1, 2, 1], [0, 1, 1]])\n",
        "print(np.linalg.eigvals(a))"
      ],
      "metadata": {
        "id": "4EYOfFehArDo"
      },
      "execution_count": null,
      "outputs": []
    },
    {
      "cell_type": "markdown",
      "source": [
        "### Autovectores de una matriz"
      ],
      "metadata": {
        "id": "fbCg-czaAuCu"
      }
    },
    {
      "cell_type": "markdown",
      "source": [
        "eig(a) : Devuelve los autovalores y los autovectores asociados de la matriz cuadrada a."
      ],
      "metadata": {
        "id": "cAgTS7HOAwyh"
      }
    },
    {
      "cell_type": "code",
      "source": [
        "a = np.array([[1, 1, 0], [1, 2, 1], [0, 1, 1]])\n",
        "print(np.linalg.eig(a))"
      ],
      "metadata": {
        "id": "wC9PixsSAwci"
      },
      "execution_count": null,
      "outputs": []
    },
    {
      "cell_type": "markdown",
      "source": [
        "solve(a, b) : Devuelve la solución del sistema de ecuaciones lineales con los coeficientes de la matriz a y los términos independientes de la matriz b."
      ],
      "metadata": {
        "id": "8EKpELzMA66Q"
      }
    },
    {
      "cell_type": "code",
      "source": [
        "# Sistema de dos ecuaciones y dos incógnitas\n",
        "# x + 2y = 1\n",
        "# 3x + 5y = 2 \n",
        "a = np.array([[1, 2], [3, 5]])\n",
        "b = np.array([1, 2])\n",
        "print(np.linalg.solve(a, b))\n"
      ],
      "metadata": {
        "id": "pBAJWYbJA6JN"
      },
      "execution_count": null,
      "outputs": []
    },
    {
      "cell_type": "markdown",
      "source": [
        "### Solución de un sistema de ecuaciones"
      ],
      "metadata": {
        "id": "k1zOhHr7A2fK"
      }
    },
    {
      "cell_type": "markdown",
      "source": [
        "---\n",
        "\n",
        "# Gracias por completar este laboratorio!\n",
        "\n",
        "---\n"
      ],
      "metadata": {
        "id": "LY_03M0BoJZQ"
      }
    }
  ]
}