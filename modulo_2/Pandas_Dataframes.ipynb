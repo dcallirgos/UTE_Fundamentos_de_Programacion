{
  "nbformat": 4,
  "nbformat_minor": 0,
  "metadata": {
    "colab": {
      "provenance": [],
      "include_colab_link": true
    },
    "kernelspec": {
      "name": "python3",
      "display_name": "Python 3"
    },
    "language_info": {
      "name": "python"
    }
  },
  "cells": [
    {
      "cell_type": "markdown",
      "metadata": {
        "id": "view-in-github",
        "colab_type": "text"
      },
      "source": [
        "<a href=\"https://colab.research.google.com/github/dcallirgos/UTE_Fundamentos_de_Programacion/blob/main/modulo_2/Pandas_Dataframes.ipynb\" target=\"_parent\"><img src=\"https://colab.research.google.com/assets/colab-badge.svg\" alt=\"Open In Colab\"/></a>"
      ]
    },
    {
      "cell_type": "markdown",
      "source": [
        "<img src=\"https://www.ctic.uni.edu.pe/wp-content/uploads/2022/04/588px-x-348px-web-1.png\" alt=\"HTML5 Icon\" width=\"900\" height=\"350\" >"
      ],
      "metadata": {
        "id": "inV2ccfgWebA"
      }
    },
    {
      "cell_type": "markdown",
      "source": [
        "<h1 align=center><font size = 5> ESTRUCTURAS DE DATOS - PANDAS DATAFRAMES\n",
        "</font></h1>\n",
        "\n",
        "---"
      ],
      "metadata": {
        "id": "C8hWGHjoWhA8"
      }
    },
    {
      "cell_type": "markdown",
      "source": [
        "## Tabla de Contenidos\n",
        "\n",
        "<div class=\"alert alert-block alert-info\" style=\"margin-top: 20px\">\n",
        "\n",
        "<font size = 3>\n",
        "\n",
        "1. <a href=\"#item31\">Series en Pandas</a>\n",
        "2. <a href=\"#item32\">DataFrames en Pandas</a>\n",
        "3. <a href=\"#item33\">Indexación y selección de datos en DataFrames</a>\n",
        "4. <a href=\"#item34\">Limpieza y manipulación de datos</a>\n",
        "\n",
        "</font>\n",
        "</div>\n",
        "\n",
        "---"
      ],
      "metadata": {
        "id": "YdCZFf-kkwQV"
      }
    },
    {
      "cell_type": "markdown",
      "source": [
        "## 1. Series en Pandas\n",
        "\n"
      ],
      "metadata": {
        "id": "2QIsQr0NW5pr"
      }
    },
    {
      "cell_type": "markdown",
      "source": [
        "* Es una estructura de datos unidimensional que puede contener datos de cualquier tipo (enteros, flotantes, cadenas, etc.). Es similar a una columna en una tabla o una matriz unidimensional, y se utiliza para representar y manipular conjuntos de datos unidimensionales.\n",
        "\n",
        "* Una Serie consta de dos componentes principales: los datos y el índice. Los datos representan los valores almacenados en la Serie, mientras que el índice es una etiqueta asociada a cada elemento de los datos que permite identificar y acceder a ellos de manera eficiente."
      ],
      "metadata": {
        "id": "vBGjiaw5bXu7"
      }
    },
    {
      "cell_type": "markdown",
      "source": [
        "### Creación de Series"
      ],
      "metadata": {
        "id": "lZLenRbMdg1J"
      }
    },
    {
      "cell_type": "markdown",
      "source": [
        "Crear una Serie a partir de una lista:"
      ],
      "metadata": {
        "id": "YK6uS4L6Yndc"
      }
    },
    {
      "cell_type": "code",
      "source": [
        "import pandas as pd"
      ],
      "metadata": {
        "id": "-1Kg79bJIIcf"
      },
      "execution_count": 1,
      "outputs": []
    },
    {
      "cell_type": "code",
      "source": [
        "#pd.Series()\n",
        "\n",
        "datos = [10, 20, 30, 40, 50]\n",
        "\n",
        "serie = pd.Series(datos)\n",
        "print(serie)"
      ],
      "metadata": {
        "id": "4RjSrSjbYmNu",
        "colab": {
          "base_uri": "https://localhost:8080/"
        },
        "outputId": "b97313aa-3121-4dbc-b2cc-bbf80a37ef23"
      },
      "execution_count": 2,
      "outputs": [
        {
          "output_type": "stream",
          "name": "stdout",
          "text": [
            "0    10\n",
            "1    20\n",
            "2    30\n",
            "3    40\n",
            "4    50\n",
            "dtype: int64\n"
          ]
        }
      ]
    },
    {
      "cell_type": "markdown",
      "source": [
        "Crear una Serie a partir de un diccionario:"
      ],
      "metadata": {
        "id": "g-P3dX-5Ytnd"
      }
    },
    {
      "cell_type": "code",
      "source": [
        "type(serie)"
      ],
      "metadata": {
        "id": "Ou7RFIxqJf88",
        "outputId": "5cbd82ad-0952-4d70-9793-9304820ad346",
        "colab": {
          "base_uri": "https://localhost:8080/"
        }
      },
      "execution_count": 4,
      "outputs": [
        {
          "output_type": "execute_result",
          "data": {
            "text/plain": [
              "pandas.core.series.Series"
            ]
          },
          "metadata": {},
          "execution_count": 4
        }
      ]
    },
    {
      "cell_type": "code",
      "source": [
        "datos = {'a': 10,\n",
        "         'b': 20,\n",
        "         'c': 30,\n",
        "         'd': 40,\n",
        "         'e': 50}\n",
        "serie = pd.Series(datos)\n",
        "print(serie)\n"
      ],
      "metadata": {
        "id": "LFfVRnRKYqjd",
        "colab": {
          "base_uri": "https://localhost:8080/"
        },
        "outputId": "61fe1cf4-30ad-486c-84a6-4b69cf292c83"
      },
      "execution_count": 5,
      "outputs": [
        {
          "output_type": "stream",
          "name": "stdout",
          "text": [
            "a    10\n",
            "b    20\n",
            "c    30\n",
            "d    40\n",
            "e    50\n",
            "dtype: int64\n"
          ]
        }
      ]
    },
    {
      "cell_type": "code",
      "source": [
        "my_dict = {'John': 100,\n",
        "         'Luis': 200,\n",
        "         'Heydi': 300}\n",
        "my_serie = pd.Series(my_dict)\n",
        "print(my_serie)"
      ],
      "metadata": {
        "id": "4rXJgzjQJvOd",
        "outputId": "a9ef2914-d28b-404f-9894-715dcf83cb06",
        "colab": {
          "base_uri": "https://localhost:8080/"
        }
      },
      "execution_count": 6,
      "outputs": [
        {
          "output_type": "stream",
          "name": "stdout",
          "text": [
            "John     100\n",
            "Luis     200\n",
            "Heydi    300\n",
            "dtype: int64\n"
          ]
        }
      ]
    },
    {
      "cell_type": "code",
      "source": [
        "#Crear una Serie con index personalizados a partir de 2 Listas\n",
        "\n",
        "nombre = ['John', 'Luis', 'Heydi']\n",
        "valores = [100, 200, 300]\n",
        "\n",
        "pd.Series(valores, index = nombre)"
      ],
      "metadata": {
        "id": "_gpFP-vIKClY",
        "outputId": "bae0cb7b-73a5-49a8-be41-166b42d13e51",
        "colab": {
          "base_uri": "https://localhost:8080/"
        }
      },
      "execution_count": 10,
      "outputs": [
        {
          "output_type": "execute_result",
          "data": {
            "text/plain": [
              "John     100\n",
              "Luis     200\n",
              "Heydi    300\n",
              "dtype: int64"
            ]
          },
          "metadata": {},
          "execution_count": 10
        }
      ]
    },
    {
      "cell_type": "markdown",
      "source": [
        "Crear una Serie con etiquetas personalizadas:"
      ],
      "metadata": {
        "id": "EXbEbXK5Y9st"
      }
    },
    {
      "cell_type": "code",
      "source": [
        "# El index y los valores deben tener el mismo tamaño de largo; caso contrario saldrá error\n",
        "\n",
        "datos = [10, 20, 30, 40, 50]\n",
        "etiquetas = ['A', 'B', 'C', 'D', 'E']\n",
        "\n",
        "serie = pd.Series(datos, index=etiquetas)\n",
        "print(serie)"
      ],
      "metadata": {
        "id": "xK_fpO1iY9Ub",
        "colab": {
          "base_uri": "https://localhost:8080/"
        },
        "outputId": "e9cdb302-1c45-4356-d79a-9da6dc97064e"
      },
      "execution_count": 13,
      "outputs": [
        {
          "output_type": "stream",
          "name": "stdout",
          "text": [
            "A    10\n",
            "B    20\n",
            "C    30\n",
            "D    40\n",
            "E    50\n",
            "dtype: int64\n"
          ]
        }
      ]
    },
    {
      "cell_type": "markdown",
      "source": [
        "Crear una Serie a partir de un arreglo de NumPy:"
      ],
      "metadata": {
        "id": "d_wa0HYSaBdu"
      }
    },
    {
      "cell_type": "code",
      "source": [
        "import numpy as np\n",
        "\n",
        "arreglo = np.array([10, 20, 30, 40, 50])\n"
      ],
      "metadata": {
        "id": "pM-WtXb3aClQ"
      },
      "execution_count": 14,
      "outputs": []
    },
    {
      "cell_type": "code",
      "source": [
        "serie = pd.Series(arreglo)\n",
        "print(serie)"
      ],
      "metadata": {
        "id": "AxRht6BsLCBO",
        "outputId": "8bd542b3-bdf2-49bb-9626-e9016d05f1f4",
        "colab": {
          "base_uri": "https://localhost:8080/"
        }
      },
      "execution_count": 15,
      "outputs": [
        {
          "output_type": "stream",
          "name": "stdout",
          "text": [
            "0    10\n",
            "1    20\n",
            "2    30\n",
            "3    40\n",
            "4    50\n",
            "dtype: int64\n"
          ]
        }
      ]
    },
    {
      "cell_type": "markdown",
      "source": [
        "Ejercicio 0\n",
        "\n",
        "Pruebe crear una serie de Pandas utiizando una Tupla como Input"
      ],
      "metadata": {
        "id": "Ax9pGIMsLK3K"
      }
    },
    {
      "cell_type": "code",
      "source": [
        "tupla_datos = (10, 20, 30)\n",
        "tupla_index = ('a', 'b', 'c')\n",
        "serie = pd.Series(tupla_datos, index = tupla_index)\n",
        "print(serie)"
      ],
      "metadata": {
        "id": "Qfu_nTCZLKLO",
        "outputId": "83cf047d-fb94-4e80-df54-be539158aa49",
        "colab": {
          "base_uri": "https://localhost:8080/"
        }
      },
      "execution_count": 20,
      "outputs": [
        {
          "output_type": "stream",
          "name": "stdout",
          "text": [
            "a    10\n",
            "b    20\n",
            "c    30\n",
            "dtype: int64\n"
          ]
        }
      ]
    },
    {
      "cell_type": "markdown",
      "source": [
        "<b> Ejercicio 1 </b>\n",
        "\n",
        "Crear una Serie con los siguientes datos y mostrarla por pantalla:\n",
        "\n",
        "* Datos: [25, 10, 15, 30, 20]\n",
        "* Índices: ['A', 'B', 'C', 'D', 'E']"
      ],
      "metadata": {
        "id": "qLMaVn56bmUW"
      }
    },
    {
      "cell_type": "code",
      "source": [
        "Datos = [25, 10, 15, 30, 20]\n",
        "Índices = ['A', 'B', 'C', 'D', 'E']\n",
        "\n",
        "serie = pd.Series(datos, index = Índices)\n",
        "print(serie)"
      ],
      "metadata": {
        "id": "Ki2Ocxs5Lu_j",
        "outputId": "c5288042-e85c-4fe3-aba7-b66c6be7e207",
        "colab": {
          "base_uri": "https://localhost:8080/"
        }
      },
      "execution_count": 18,
      "outputs": [
        {
          "output_type": "stream",
          "name": "stdout",
          "text": [
            "A    10\n",
            "B    20\n",
            "C    30\n",
            "D    40\n",
            "E    50\n",
            "dtype: int64\n"
          ]
        }
      ]
    },
    {
      "cell_type": "markdown",
      "source": [
        "\n",
        "<b> Ejercicio 2 </b>\n",
        "\n",
        "Crear una Serie con nombres de ciudades como índices y sus respectivas poblaciones como datos."
      ],
      "metadata": {
        "id": "hL-Ji6M4b8n-"
      }
    },
    {
      "cell_type": "code",
      "source": [
        "# A partir de un diccionario. Igual se puede hacer con listas o tuplas\n",
        "\n",
        "ciudades = {'Lima': 11_000_000,\n",
        "            'Trujillo': 2_000_000,\n",
        "            'Arequipa': 2_500_000}\n",
        "\n",
        "serie = pd.Series(ciudades)\n",
        "print(serie)"
      ],
      "metadata": {
        "id": "yFBzRQgWNKJM",
        "outputId": "a48b7aab-1ef1-404c-a792-fd260c6a2fd9",
        "colab": {
          "base_uri": "https://localhost:8080/"
        }
      },
      "execution_count": 23,
      "outputs": [
        {
          "output_type": "stream",
          "name": "stdout",
          "text": [
            "Lima        11000000\n",
            "Trujillo     2000000\n",
            "Arequipa     2500000\n",
            "dtype: int64\n"
          ]
        }
      ]
    },
    {
      "cell_type": "markdown",
      "source": [
        "### Indexación y selección de datos"
      ],
      "metadata": {
        "id": "QygSkvocdSPn"
      }
    },
    {
      "cell_type": "code",
      "source": [
        "import pandas as pd\n",
        "\n",
        "datos = [10, 20, 30, 40, 50]\n",
        "etiquetas = ['A', 'B', 'C', 'D', 'E']\n",
        "serie = pd.Series(datos, index = etiquetas)\n",
        "print(serie)"
      ],
      "metadata": {
        "id": "YhXbSYPidSc9",
        "colab": {
          "base_uri": "https://localhost:8080/"
        },
        "outputId": "a95be238-5f80-415c-a0f5-a89112e78cd0"
      },
      "execution_count": 24,
      "outputs": [
        {
          "output_type": "stream",
          "name": "stdout",
          "text": [
            "A    10\n",
            "B    20\n",
            "C    30\n",
            "D    40\n",
            "E    50\n",
            "dtype: int64\n"
          ]
        }
      ]
    },
    {
      "cell_type": "markdown",
      "source": [
        "Acceder a un elemento específico utilizando una etiqueta:"
      ],
      "metadata": {
        "id": "_ky-DMKGfP9S"
      }
    },
    {
      "cell_type": "code",
      "source": [
        "print(serie['B'])"
      ],
      "metadata": {
        "id": "XgLUsuyle9k2",
        "colab": {
          "base_uri": "https://localhost:8080/"
        },
        "outputId": "9492a0b4-d49a-4ac5-f8d7-b2a6675a08b6"
      },
      "execution_count": 25,
      "outputs": [
        {
          "output_type": "stream",
          "name": "stdout",
          "text": [
            "20\n"
          ]
        }
      ]
    },
    {
      "cell_type": "markdown",
      "source": [
        "Acceder a varios elementos utilizando una lista de etiquetas:"
      ],
      "metadata": {
        "id": "G6eGDtsxfN8A"
      }
    },
    {
      "cell_type": "code",
      "source": [
        "print(serie[['C','D']])"
      ],
      "metadata": {
        "id": "NtHysuUaPZXg",
        "outputId": "0fe9d9c7-19a4-44be-a285-2caf1737697b",
        "colab": {
          "base_uri": "https://localhost:8080/"
        }
      },
      "execution_count": 28,
      "outputs": [
        {
          "output_type": "stream",
          "name": "stdout",
          "text": [
            "C    30\n",
            "D    40\n",
            "dtype: int64\n"
          ]
        }
      ]
    },
    {
      "cell_type": "code",
      "source": [
        "print(serie[['A', 'C', 'E']])"
      ],
      "metadata": {
        "id": "ozPguP_bfDfR",
        "colab": {
          "base_uri": "https://localhost:8080/"
        },
        "outputId": "259ce87a-f7c0-4ac6-bef3-26c2a4261c06"
      },
      "execution_count": 26,
      "outputs": [
        {
          "output_type": "stream",
          "name": "stdout",
          "text": [
            "A    10\n",
            "C    30\n",
            "E    50\n",
            "dtype: int64\n"
          ]
        }
      ]
    },
    {
      "cell_type": "markdown",
      "source": [
        "Acceder a elementos utilizando indexación basada en posición:"
      ],
      "metadata": {
        "id": "IG2p8I8DfZAe"
      }
    },
    {
      "cell_type": "code",
      "source": [
        "print(serie[0])\n",
        "print(serie[4])"
      ],
      "metadata": {
        "id": "c5Oa1s9APlUm",
        "outputId": "dc5a0211-f122-49d7-bce1-daf1c7ac7a76",
        "colab": {
          "base_uri": "https://localhost:8080/"
        }
      },
      "execution_count": 30,
      "outputs": [
        {
          "output_type": "stream",
          "name": "stdout",
          "text": [
            "10\n",
            "50\n"
          ]
        }
      ]
    },
    {
      "cell_type": "code",
      "source": [
        "print(serie[1])  # Acceder al segundo elemento\n",
        "print(serie[1:4])  # Acceder a un rango de elementos (exclusivo)"
      ],
      "metadata": {
        "id": "EhU2_s2Ffbwh",
        "colab": {
          "base_uri": "https://localhost:8080/"
        },
        "outputId": "7b0ade09-8f48-4389-c15a-ea92e18ecc0f"
      },
      "execution_count": 31,
      "outputs": [
        {
          "output_type": "stream",
          "name": "stdout",
          "text": [
            "20\n",
            "B    20\n",
            "C    30\n",
            "D    40\n",
            "dtype: int64\n"
          ]
        }
      ]
    },
    {
      "cell_type": "markdown",
      "source": [
        "Acceder a elementos utilizando una condición:"
      ],
      "metadata": {
        "id": "priuGnZBfgl2"
      }
    },
    {
      "cell_type": "code",
      "source": [
        "serie[serie > 20]"
      ],
      "metadata": {
        "id": "-6sGS81HP8H3",
        "outputId": "12fc5b4f-ed50-475b-f957-2f32ffb415c1",
        "colab": {
          "base_uri": "https://localhost:8080/"
        }
      },
      "execution_count": 34,
      "outputs": [
        {
          "output_type": "execute_result",
          "data": {
            "text/plain": [
              "C    30\n",
              "D    40\n",
              "E    50\n",
              "dtype: int64"
            ]
          },
          "metadata": {},
          "execution_count": 34
        }
      ]
    },
    {
      "cell_type": "code",
      "source": [
        "serie = pd.Series([1, 2, 3, 4, 5, 6, 7, 8, 9, 10])\n",
        "serie[serie%3 == 0]"
      ],
      "metadata": {
        "id": "fV6HTpUvQSjC",
        "outputId": "c70b69ee-70ea-4491-f44b-703be7bf4f68",
        "colab": {
          "base_uri": "https://localhost:8080/"
        }
      },
      "execution_count": 39,
      "outputs": [
        {
          "output_type": "execute_result",
          "data": {
            "text/plain": [
              "2    3\n",
              "5    6\n",
              "8    9\n",
              "dtype: int64"
            ]
          },
          "metadata": {},
          "execution_count": 39
        }
      ]
    },
    {
      "cell_type": "code",
      "source": [
        "serie[(serie%3 == 0) & (serie > 3)]"
      ],
      "metadata": {
        "id": "a__k4w4KQ4GA",
        "outputId": "a35bcdd3-f87b-436f-cd47-577dced11f2f",
        "colab": {
          "base_uri": "https://localhost:8080/"
        }
      },
      "execution_count": 40,
      "outputs": [
        {
          "output_type": "execute_result",
          "data": {
            "text/plain": [
              "5    6\n",
              "8    9\n",
              "dtype: int64"
            ]
          },
          "metadata": {},
          "execution_count": 40
        }
      ]
    },
    {
      "cell_type": "code",
      "source": [
        "serie = pd.Series([1, 2, 3, 4, 5, 6, 7, 8, 9, 10])\n",
        "print(serie[serie > 30])\n"
      ],
      "metadata": {
        "id": "cS166o-2fiQz",
        "colab": {
          "base_uri": "https://localhost:8080/"
        },
        "outputId": "7d148ac0-0fab-4c29-dd54-b9c2f433ae2b"
      },
      "execution_count": 42,
      "outputs": [
        {
          "output_type": "stream",
          "name": "stdout",
          "text": [
            "Series([], dtype: int64)\n"
          ]
        }
      ]
    },
    {
      "cell_type": "markdown",
      "source": [
        "<b> Ejercicio 1 </b>\n",
        "\n",
        "Crear una Serie con nombres de ciudades como índices y sus respectivas poblaciones como datos. Luego, seleccionar las ciudades con población superior a 1 millón."
      ],
      "metadata": {
        "id": "IGYji8fbfm2D"
      }
    },
    {
      "cell_type": "code",
      "source": [
        "ciudades = {'Lima': 11_000_000,\n",
        "            'Trujillo': 2_000_000,\n",
        "            'Arequipa': 2_500_000,\n",
        "            'Pucallpa': 500000}\n",
        "\n",
        "serie = pd.Series(ciudades)\n",
        "print(serie[serie > 1000000])"
      ],
      "metadata": {
        "id": "yURhKCg2STaI",
        "outputId": "df713f32-2456-4405-888b-6cf2154f9243",
        "colab": {
          "base_uri": "https://localhost:8080/"
        }
      },
      "execution_count": 54,
      "outputs": [
        {
          "output_type": "stream",
          "name": "stdout",
          "text": [
            "Lima        11000000\n",
            "Trujillo     2000000\n",
            "Arequipa     2500000\n",
            "dtype: int64\n"
          ]
        }
      ]
    },
    {
      "cell_type": "markdown",
      "source": [
        "<b> Ejercicio 2 </b>\n",
        "\n",
        "Sobre el mismo ejercicio extraiga el registro de dos ciudades específicas (usted decida cuáles)."
      ],
      "metadata": {
        "id": "4pRKldJGgJL1"
      }
    },
    {
      "cell_type": "code",
      "source": [
        "print(serie['Lima']) # Llamando la población de Lima\n",
        "print(serie[3]) # Llamand la población de Pucallpa pues es la que ocupa la 3° posición"
      ],
      "metadata": {
        "id": "sO3qLDCKUJmk",
        "outputId": "b2d0b7d4-c91d-4a9e-a549-811184468f67",
        "colab": {
          "base_uri": "https://localhost:8080/"
        }
      },
      "execution_count": 58,
      "outputs": [
        {
          "output_type": "stream",
          "name": "stdout",
          "text": [
            "11000000\n",
            "500000\n"
          ]
        }
      ]
    },
    {
      "cell_type": "markdown",
      "source": [
        "### Operaciones básicas con Series"
      ],
      "metadata": {
        "id": "Zb-sr2VcdkNA"
      }
    },
    {
      "cell_type": "code",
      "source": [
        "import pandas as pd\n",
        "\n",
        "serie1 = pd.Series([10, 20, 30, 40, 50])\n",
        "serie2 = pd.Series([5, 15, 25, 35, 45])"
      ],
      "metadata": {
        "id": "i-9F7xWIdns5"
      },
      "execution_count": 59,
      "outputs": []
    },
    {
      "cell_type": "markdown",
      "source": [
        "Sumar dos Series:\n"
      ],
      "metadata": {
        "id": "pcrmAFAVguAu"
      }
    },
    {
      "cell_type": "code",
      "source": [
        "suma = serie1 + serie2\n",
        "print(suma)"
      ],
      "metadata": {
        "id": "bm8xwMtXgqOr",
        "colab": {
          "base_uri": "https://localhost:8080/"
        },
        "outputId": "511eb042-12dc-4ff6-f166-e7dacb7e50e8"
      },
      "execution_count": 60,
      "outputs": [
        {
          "output_type": "stream",
          "name": "stdout",
          "text": [
            "0    15\n",
            "1    35\n",
            "2    55\n",
            "3    75\n",
            "4    95\n",
            "dtype: int64\n"
          ]
        }
      ]
    },
    {
      "cell_type": "markdown",
      "source": [
        "Restar dos Series:\n"
      ],
      "metadata": {
        "id": "fi7DdhIHgyU4"
      }
    },
    {
      "cell_type": "code",
      "source": [
        "resta = serie1 - serie2\n",
        "print(resta)"
      ],
      "metadata": {
        "id": "-zh6bEyygxBd",
        "colab": {
          "base_uri": "https://localhost:8080/"
        },
        "outputId": "e4dcf38b-a061-4c6d-a1f7-d87cc6bef7a4"
      },
      "execution_count": 61,
      "outputs": [
        {
          "output_type": "stream",
          "name": "stdout",
          "text": [
            "0    5\n",
            "1    5\n",
            "2    5\n",
            "3    5\n",
            "4    5\n",
            "dtype: int64\n"
          ]
        }
      ]
    },
    {
      "cell_type": "markdown",
      "source": [
        "Multiplicar una Serie por un escalar:\n"
      ],
      "metadata": {
        "id": "86xHbj_Eg4qd"
      }
    },
    {
      "cell_type": "code",
      "source": [
        "multiplicacion = serie1 * 2\n",
        "print(multiplicacion)"
      ],
      "metadata": {
        "id": "DyW6K_f_g2vY",
        "colab": {
          "base_uri": "https://localhost:8080/"
        },
        "outputId": "ba83773a-528c-4be8-b5d4-df295d7f0c90"
      },
      "execution_count": 62,
      "outputs": [
        {
          "output_type": "stream",
          "name": "stdout",
          "text": [
            "0     20\n",
            "1     40\n",
            "2     60\n",
            "3     80\n",
            "4    100\n",
            "dtype: int64\n"
          ]
        }
      ]
    },
    {
      "cell_type": "markdown",
      "source": [
        "Dividir una Serie por otra:\n"
      ],
      "metadata": {
        "id": "cWTbM-7tkkRx"
      }
    },
    {
      "cell_type": "code",
      "source": [
        "division = serie1 / serie2\n",
        "print(division)"
      ],
      "metadata": {
        "id": "WKS9P_QRkksk",
        "colab": {
          "base_uri": "https://localhost:8080/"
        },
        "outputId": "46b10e8b-a1c0-432c-8a8f-79e52b7b1533"
      },
      "execution_count": 63,
      "outputs": [
        {
          "output_type": "stream",
          "name": "stdout",
          "text": [
            "0    2.000000\n",
            "1    1.333333\n",
            "2    1.200000\n",
            "3    1.142857\n",
            "4    1.111111\n",
            "dtype: float64\n"
          ]
        }
      ]
    },
    {
      "cell_type": "markdown",
      "source": [
        "Calcular el cuadrado de una Serie:\n"
      ],
      "metadata": {
        "id": "ljymSHbqg2BN"
      }
    },
    {
      "cell_type": "code",
      "source": [
        "cuadrado = serie1 ** 2\n",
        "print(cuadrado)"
      ],
      "metadata": {
        "id": "3kiSebXWg-Cz",
        "colab": {
          "base_uri": "https://localhost:8080/"
        },
        "outputId": "f1d76b20-e8d6-464f-cc69-7e590893ea16"
      },
      "execution_count": 64,
      "outputs": [
        {
          "output_type": "stream",
          "name": "stdout",
          "text": [
            "0     100\n",
            "1     400\n",
            "2     900\n",
            "3    1600\n",
            "4    2500\n",
            "dtype: int64\n"
          ]
        }
      ]
    },
    {
      "cell_type": "markdown",
      "source": [
        "Calcular la raíz cuadrada de una Serie:\n"
      ],
      "metadata": {
        "id": "qFbz_9GnhEvy"
      }
    },
    {
      "cell_type": "code",
      "source": [
        "import numpy as np\n",
        "\n",
        "raiz_cuadrada = np.sqrt(serie1)\n",
        "print(raiz_cuadrada)"
      ],
      "metadata": {
        "id": "ql3nPxVjhGfP",
        "colab": {
          "base_uri": "https://localhost:8080/"
        },
        "outputId": "b1bb9e10-1678-4653-a84d-e86b8aaa2bbe"
      },
      "execution_count": 65,
      "outputs": [
        {
          "output_type": "stream",
          "name": "stdout",
          "text": [
            "0    3.162278\n",
            "1    4.472136\n",
            "2    5.477226\n",
            "3    6.324555\n",
            "4    7.071068\n",
            "dtype: float64\n"
          ]
        }
      ]
    },
    {
      "cell_type": "code",
      "source": [
        "# Aplicamos la función logaritmo a nuestra serie\n",
        "import numpy as np\n",
        "\n",
        "logaritmo = np.log(serie1)\n",
        "print(logaritmo)"
      ],
      "metadata": {
        "id": "KDLY1PE9XkfV",
        "outputId": "5b0b1021-f1b9-442c-e2c9-ba872da3df3f",
        "colab": {
          "base_uri": "https://localhost:8080/"
        }
      },
      "execution_count": 70,
      "outputs": [
        {
          "output_type": "stream",
          "name": "stdout",
          "text": [
            "0    2.302585\n",
            "1    2.995732\n",
            "2    3.401197\n",
            "3    3.688879\n",
            "4    3.912023\n",
            "dtype: float64\n"
          ]
        }
      ]
    },
    {
      "cell_type": "code",
      "source": [
        "# Quiero (x + x**2)*log(x)\n",
        "\n",
        "import numpy as np\n",
        "\n",
        "(serie1 + serie**2) * np.log(serie1)\n"
      ],
      "metadata": {
        "id": "YUy3bVndYRYA",
        "outputId": "91a473e6-b425-486e-8257-7dd6daecaa48",
        "colab": {
          "base_uri": "https://localhost:8080/"
        }
      },
      "execution_count": 74,
      "outputs": [
        {
          "output_type": "execute_result",
          "data": {
            "text/plain": [
              "0          NaN\n",
              "1          NaN\n",
              "2          NaN\n",
              "3          NaN\n",
              "4          NaN\n",
              "Arequipa   NaN\n",
              "Lima       NaN\n",
              "Pucallpa   NaN\n",
              "Trujillo   NaN\n",
              "dtype: float64"
            ]
          },
          "metadata": {},
          "execution_count": 74
        }
      ]
    },
    {
      "cell_type": "markdown",
      "source": [
        "### Apply lambda"
      ],
      "metadata": {
        "id": "zsX7ZoA5Yz_L"
      }
    },
    {
      "cell_type": "code",
      "source": [
        "serie1.apply(lambda x: x**2) # x sólo es una abreviatura de la serie a la que se le está aplicando la función de transformación. El x indica el input"
      ],
      "metadata": {
        "id": "DRBD6YMmY8zT",
        "outputId": "5c463162-dbf0-4b32-dda0-77eada9c69ae",
        "colab": {
          "base_uri": "https://localhost:8080/"
        }
      },
      "execution_count": 75,
      "outputs": [
        {
          "output_type": "execute_result",
          "data": {
            "text/plain": [
              "0     100\n",
              "1     400\n",
              "2     900\n",
              "3    1600\n",
              "4    2500\n",
              "dtype: int64"
            ]
          },
          "metadata": {},
          "execution_count": 75
        }
      ]
    },
    {
      "cell_type": "code",
      "source": [
        "from math import exp\n",
        "serie1.apply(lambda x: 1/(1 + exp(x))) # Función logistica"
      ],
      "metadata": {
        "id": "yvYal-K5ZhQK",
        "outputId": "a12174dd-9ea1-44ba-c1b2-2c265a727b44",
        "colab": {
          "base_uri": "https://localhost:8080/"
        }
      },
      "execution_count": 76,
      "outputs": [
        {
          "output_type": "execute_result",
          "data": {
            "text/plain": [
              "0    4.539787e-05\n",
              "1    2.061154e-09\n",
              "2    9.357623e-14\n",
              "3    4.248354e-18\n",
              "4    1.928750e-22\n",
              "dtype: float64"
            ]
          },
          "metadata": {},
          "execution_count": 76
        }
      ]
    },
    {
      "cell_type": "code",
      "source": [
        "# Aplica una transformación a la serie de tal manera que se reemplace 'tienes más de 18' si tiene 18 años o más\n",
        "# o 'menos de 18' si tiene menos de 18 años\n",
        "\n",
        "serie = pd.Series([17, 25, 23, 12, 45, 34, 22, 19, 76])\n",
        "\n",
        "def evaluador_age(y):\n",
        "  if y >= 18:\n",
        "    return 'Más de 18 años'\n",
        "  else:\n",
        "    return 'Menos de 18 años'\n",
        "\n",
        "serie2 = serie.apply(lambda x: evaluador_age(x))\n",
        "serie2"
      ],
      "metadata": {
        "id": "nFyCAwz1aPRY",
        "outputId": "44ac9d62-0a1e-4969-913f-3db21237c781",
        "colab": {
          "base_uri": "https://localhost:8080/"
        }
      },
      "execution_count": 82,
      "outputs": [
        {
          "output_type": "execute_result",
          "data": {
            "text/plain": [
              "0    Menos de 18 años\n",
              "1      Más de 18 años\n",
              "2      Más de 18 años\n",
              "3    Menos de 18 años\n",
              "4      Más de 18 años\n",
              "5      Más de 18 años\n",
              "6      Más de 18 años\n",
              "7      Más de 18 años\n",
              "8      Más de 18 años\n",
              "dtype: object"
            ]
          },
          "metadata": {},
          "execution_count": 82
        }
      ]
    },
    {
      "cell_type": "markdown",
      "source": [
        "Operaciones de tipo str"
      ],
      "metadata": {
        "id": "9lQ6qDSsmY6Q"
      }
    },
    {
      "cell_type": "code",
      "source": [
        "datos = ['John', 'Luis', 'Pablo', 'Cesar']\n",
        "serie = pd.Series(datos)\n",
        "serie = serie.str.lower()\n",
        "\n",
        "print(serie)"
      ],
      "metadata": {
        "id": "sAXh8NjCmZLA",
        "colab": {
          "base_uri": "https://localhost:8080/"
        },
        "outputId": "c29b1b03-a9b2-4e8f-836e-8f24ef507ac4"
      },
      "execution_count": 83,
      "outputs": [
        {
          "output_type": "stream",
          "name": "stdout",
          "text": [
            "0     john\n",
            "1     luis\n",
            "2    pablo\n",
            "3    cesar\n",
            "dtype: object\n"
          ]
        }
      ]
    },
    {
      "cell_type": "code",
      "source": [
        "datos = ['john', 'luis', 'pablo', 'cesar']\n",
        "serie = pd.Series(datos)\n",
        "serie = serie.str.upper()\n",
        "\n",
        "print(serie)"
      ],
      "metadata": {
        "id": "yRkIEmHImoQb",
        "colab": {
          "base_uri": "https://localhost:8080/"
        },
        "outputId": "ef9fd660-a476-4c08-8b91-df231e61f7fc"
      },
      "execution_count": 84,
      "outputs": [
        {
          "output_type": "stream",
          "name": "stdout",
          "text": [
            "0     JOHN\n",
            "1     LUIS\n",
            "2    PABLO\n",
            "3    CESAR\n",
            "dtype: object\n"
          ]
        }
      ]
    },
    {
      "cell_type": "code",
      "source": [
        "datos = ['john', 'luis', 'pablo', 'cesar']\n",
        "serie = pd.Series(datos)\n",
        "serie = serie.str.capitalize()\n",
        "\n",
        "print(serie)"
      ],
      "metadata": {
        "id": "E7gMCHcNms4C",
        "colab": {
          "base_uri": "https://localhost:8080/"
        },
        "outputId": "4e2a89cc-30e7-4a54-ee46-d8227124663a"
      },
      "execution_count": 85,
      "outputs": [
        {
          "output_type": "stream",
          "name": "stdout",
          "text": [
            "0     John\n",
            "1     Luis\n",
            "2    Pablo\n",
            "3    Cesar\n",
            "dtype: object\n"
          ]
        }
      ]
    },
    {
      "cell_type": "markdown",
      "source": [
        "Algunas operaciones estadísticas"
      ],
      "metadata": {
        "id": "sTYZ2k23nQEO"
      }
    },
    {
      "cell_type": "code",
      "source": [
        "\n",
        "datos = [2, 4, 2, 5, 1, 3]\n",
        "serie = pd.Series(datos)\n",
        "\n",
        "media = serie.mean()\n",
        "desviacion_estandar = serie.std()\n",
        "\n",
        "print(\"Media:\", media) # Esta tomando toda la serie y está calculando el promedio de los datos\n",
        "print(\"Desviación estándar:\", desviacion_estandar) # Esta tomando toda la serie y está calculando la desviación estandar de los datos\n",
        "\n",
        "# mean y std son funciones de pandas"
      ],
      "metadata": {
        "id": "RwcODv3xnIbV",
        "colab": {
          "base_uri": "https://localhost:8080/"
        },
        "outputId": "0427985e-e8a5-487d-d198-ff7defa43141"
      },
      "execution_count": 87,
      "outputs": [
        {
          "output_type": "stream",
          "name": "stdout",
          "text": [
            "Media: 2.8333333333333335\n",
            "Desviación estándar: 1.4719601443879746\n"
          ]
        }
      ]
    },
    {
      "cell_type": "code",
      "source": [
        "serie.describe() # Pandas Describe te arroja diferentes estándisticos de la serie"
      ],
      "metadata": {
        "id": "ncgECoDOeDNS",
        "outputId": "134e9201-e544-4958-8152-0e22c259a8da",
        "colab": {
          "base_uri": "https://localhost:8080/"
        }
      },
      "execution_count": 88,
      "outputs": [
        {
          "output_type": "execute_result",
          "data": {
            "text/plain": [
              "count    6.000000\n",
              "mean     2.833333\n",
              "std      1.471960\n",
              "min      1.000000\n",
              "25%      2.000000\n",
              "50%      2.500000\n",
              "75%      3.750000\n",
              "max      5.000000\n",
              "dtype: float64"
            ]
          },
          "metadata": {},
          "execution_count": 88
        }
      ]
    },
    {
      "cell_type": "code",
      "source": [
        "serie.hist() # Grafica el histograma de la serie"
      ],
      "metadata": {
        "id": "O4v6Gh58eaqW",
        "outputId": "dbdedcf1-1770-4ab0-e206-95304e0e2d0a",
        "colab": {
          "base_uri": "https://localhost:8080/",
          "height": 447
        }
      },
      "execution_count": 89,
      "outputs": [
        {
          "output_type": "execute_result",
          "data": {
            "text/plain": [
              "<Axes: >"
            ]
          },
          "metadata": {},
          "execution_count": 89
        },
        {
          "output_type": "display_data",
          "data": {
            "text/plain": [
              "<Figure size 640x480 with 1 Axes>"
            ],
            "image/png": "[encoded data removed]"
          },
          "metadata": {}
        }
      ]
    },
    {
      "cell_type": "markdown",
      "source": [
        "**Ejercicio 1**\n",
        "\n",
        "Crear una Serie con números enteros del 1 al 10 como índices y sus respectivos cuadrados como datos."
      ],
      "metadata": {
        "id": "2aKoNn1tj0mF"
      }
    },
    {
      "cell_type": "markdown",
      "source": [
        "**Ejercicio 2**\n",
        "\n",
        "Crear dos Series con los siguientes datos y luego sumarlas.\n",
        "\n",
        "> Serie 1: [10, 20, 30, 40, 50]\n",
        ">\n",
        "> Serie 2: [5, 15, 25, 35, 45]"
      ],
      "metadata": {
        "id": "tcuJ80MZkAaN"
      }
    },
    {
      "cell_type": "markdown",
      "source": [
        "**Ejercicio 3**\n",
        "\n",
        "Crear una Serie a partir de una lista de cadenas y convertir todas las letras a minúsculas.\n",
        "\n",
        "Datos: ['Manzana', 'Banana', 'Naranja', 'Pera']"
      ],
      "metadata": {
        "id": "ZDkN7x-FlaNu"
      }
    },
    {
      "cell_type": "markdown",
      "source": [
        "**Ejercicio 4**\n",
        "\n",
        "Crear una Serie con los siguientes datos y calcular la media y la desviación estándar.\n",
        "\n",
        "Datos: [15, 22, 18, 25, 20]"
      ],
      "metadata": {
        "id": "1avhdEZOlzp4"
      }
    },
    {
      "cell_type": "markdown",
      "source": [
        "**Ejercicio 5**\n",
        "\n",
        "Crear una Serie a partir de una lista y reemplazar un valor específico por otro.\n",
        "\n",
        "Datos: [5, 10, 15, 20, 25]\n",
        "Reemplazar el valor 15 por 30."
      ],
      "metadata": {
        "id": "7_v-1dgkmAI7"
      }
    },
    {
      "cell_type": "markdown",
      "source": [
        "**Ejercicio 6**\n",
        "\n",
        "Crear una Serie con los siguientes datos y mostrar los valores únicos.\n",
        "\n",
        "Datos: ['manzana', 'pera', 'manzana', 'plátano', 'manzana', 'pera']"
      ],
      "metadata": {
        "id": "4NmjRIkUmJgf"
      }
    },
    {
      "cell_type": "markdown",
      "source": [
        "Ejercicio 7 (Obligatorio)\n",
        "\n",
        "Cree una serie de pandas con 1,000 valores aleatorios con distribución normal, luego grafique este resultando utilizando pandas hist.\n",
        "\n",
        "Se puede utilizar la función random.norm (o random normal --> Investigar)\n",
        "\n"
      ],
      "metadata": {
        "id": "kI6VK0E-esSt"
      }
    },
    {
      "cell_type": "markdown",
      "source": [
        "## 2. DataFrames en Pandas"
      ],
      "metadata": {
        "id": "ho99ogOXXERi"
      }
    },
    {
      "cell_type": "markdown",
      "source": [
        "* Es una estructura de datos bidimensional que se utiliza para almacenar y manipular datos.\n",
        "* Se puede pensar en un DataFrame como una tabla en una base de datos o una hoja de cálculo en Excel.\n",
        "* Está compuesto por filas y columnas, donde cada columna puede contener datos de un tipo diferente (enteros, flotantes, cadenas, etc.).\n",
        "\n",
        "Un DataFrame en Pandas se puede crear de varias formas, pero comúnmente se utiliza para almacenar datos provenientes de archivos CSV, bases de datos o mediante la combinación de otras estructuras de datos, como Series."
      ],
      "metadata": {
        "id": "atDJsK1vnnTk"
      }
    },
    {
      "cell_type": "markdown",
      "source": [
        "### Creación de DataFrames"
      ],
      "metadata": {
        "id": "dtH7DVj_dsYj"
      }
    },
    {
      "cell_type": "markdown",
      "source": [
        "### Carga de datos desde diferentes fuentes (CSV, Excel, SQL, etc.)"
      ],
      "metadata": {
        "id": "8lEMRLv-duqQ"
      }
    },
    {
      "cell_type": "markdown",
      "source": [
        "### Exploración y manipulación de DataFrames"
      ],
      "metadata": {
        "id": "smRAmlIWd4HY"
      }
    },
    {
      "cell_type": "code",
      "source": [],
      "metadata": {
        "id": "QtcfHZ6Gd2K8"
      },
      "execution_count": null,
      "outputs": []
    },
    {
      "cell_type": "markdown",
      "source": [
        "## 3. Indexación y selección de datos en DataFrames"
      ],
      "metadata": {
        "id": "pvd9q3w1XP8R"
      }
    },
    {
      "cell_type": "markdown",
      "source": [
        "## 4. Limpieza y manipulación de datos"
      ],
      "metadata": {
        "id": "vWDGyChMXgGk"
      }
    },
    {
      "cell_type": "markdown",
      "source": [
        "## 5. Operaciones y transformaciones en DataFrames"
      ],
      "metadata": {
        "id": "skqbT7c7XjM-"
      }
    },
    {
      "cell_type": "markdown",
      "source": [
        "## 6. Visualización de datos con Pandas"
      ],
      "metadata": {
        "id": "b0lm-YkdXmyd"
      }
    },
    {
      "cell_type": "code",
      "execution_count": null,
      "metadata": {
        "id": "W7oAbzKbVhwa"
      },
      "outputs": [],
      "source": []
    },
    {
      "cell_type": "markdown",
      "source": [
        "---\n",
        "\n",
        "# Gracias por completar este laboratorio!\n",
        "\n",
        "---\n",
        "\n"
      ],
      "metadata": {
        "id": "oTLHpID8er3c"
      }
    }
  ]
}