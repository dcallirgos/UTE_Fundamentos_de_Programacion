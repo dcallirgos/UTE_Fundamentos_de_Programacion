{
  "nbformat": 4,
  "nbformat_minor": 0,
  "metadata": {
    "colab": {
      "provenance": [],
      "include_colab_link": true
    },
    "kernelspec": {
      "name": "python3",
      "display_name": "Python 3"
    },
    "language_info": {
      "name": "python"
    }
  },
  "cells": [
    {
      "cell_type": "markdown",
      "metadata": {
        "id": "view-in-github",
        "colab_type": "text"
      },
      "source": [
        "<a href=\"https://colab.research.google.com/github/dcallirgos/UTE_Fundamentos_de_Programacion/blob/main/modulo_2/Pandas_Dataframes.ipynb\" target=\"_parent\"><img src=\"https://colab.research.google.com/assets/colab-badge.svg\" alt=\"Open In Colab\"/></a>"
      ]
    },
    {
      "cell_type": "markdown",
      "source": [
        "<img src=\"https://www.ctic.uni.edu.pe/wp-content/uploads/2022/04/588px-x-348px-web-1.png\" alt=\"HTML5 Icon\" width=\"900\" height=\"350\" >"
      ],
      "metadata": {
        "id": "inV2ccfgWebA"
      }
    },
    {
      "cell_type": "markdown",
      "source": [
        "<h1 align=center><font size = 5> ESTRUCTURAS DE DATOS - PANDAS DATAFRAMES\n",
        "</font></h1>\n",
        "\n",
        "---"
      ],
      "metadata": {
        "id": "C8hWGHjoWhA8"
      }
    },
    {
      "cell_type": "markdown",
      "source": [
        "## Tabla de Contenidos\n",
        "\n",
        "<div class=\"alert alert-block alert-info\" style=\"margin-top: 20px\">\n",
        "\n",
        "<font size = 3>\n",
        "\n",
        "1. <a href=\"#item31\">Series en Pandas</a>\n",
        "2. <a href=\"#item32\">DataFrames en Pandas</a>\n",
        "3. <a href=\"#item33\">Indexación y selección de datos en DataFrames</a>\n",
        "4. <a href=\"#item34\">Limpieza y manipulación de datos</a>\n",
        "\n",
        "</font>\n",
        "</div>\n",
        "\n",
        "---"
      ],
      "metadata": {
        "id": "YdCZFf-kkwQV"
      }
    },
    {
      "cell_type": "markdown",
      "source": [
        "## 1. Series en Pandas\n",
        "\n"
      ],
      "metadata": {
        "id": "2QIsQr0NW5pr"
      }
    },
    {
      "cell_type": "markdown",
      "source": [
        "* Es una estructura de datos unidimensional que puede contener datos de cualquier tipo (enteros, flotantes, cadenas, etc.). Es similar a una columna en una tabla o una matriz unidimensional, y se utiliza para representar y manipular conjuntos de datos unidimensionales.\n",
        "\n",
        "* Una Serie consta de dos componentes principales: los datos y el índice. Los datos representan los valores almacenados en la Serie, mientras que el índice es una etiqueta asociada a cada elemento de los datos que permite identificar y acceder a ellos de manera eficiente."
      ],
      "metadata": {
        "id": "vBGjiaw5bXu7"
      }
    },
    {
      "cell_type": "markdown",
      "source": [
        "### Creación de Series"
      ],
      "metadata": {
        "id": "lZLenRbMdg1J"
      }
    },
    {
      "cell_type": "markdown",
      "source": [
        "Crear una Serie a partir de una lista:"
      ],
      "metadata": {
        "id": "YK6uS4L6Yndc"
      }
    },
    {
      "cell_type": "code",
      "source": [
        "import pandas as pd\n",
        "\n",
        "datos = [10, 20, 30, 40, 50]\n",
        "serie = pd.Series(datos)\n",
        "print(serie)"
      ],
      "metadata": {
        "id": "4RjSrSjbYmNu"
      },
      "execution_count": null,
      "outputs": []
    },
    {
      "cell_type": "markdown",
      "source": [
        "Crear una Serie a partir de un diccionario:"
      ],
      "metadata": {
        "id": "g-P3dX-5Ytnd"
      }
    },
    {
      "cell_type": "code",
      "source": [
        "datos = {'a': 10, 'b': 20, 'c': 30, 'd': 40, 'e': 50}\n",
        "serie = pd.Series(datos)\n",
        "print(serie)\n"
      ],
      "metadata": {
        "id": "LFfVRnRKYqjd"
      },
      "execution_count": null,
      "outputs": []
    },
    {
      "cell_type": "markdown",
      "source": [
        "Crear una Serie con etiquetas personalizadas:"
      ],
      "metadata": {
        "id": "EXbEbXK5Y9st"
      }
    },
    {
      "cell_type": "code",
      "source": [
        "datos = [10, 20, 30, 40, 50]\n",
        "etiquetas = ['A', 'B', 'C', 'D', 'E']\n",
        "\n",
        "serie = pd.Series(datos, index=etiquetas)\n",
        "print(serie)"
      ],
      "metadata": {
        "id": "xK_fpO1iY9Ub"
      },
      "execution_count": null,
      "outputs": []
    },
    {
      "cell_type": "markdown",
      "source": [
        "Crear una Serie a partir de un arreglo de NumPy:"
      ],
      "metadata": {
        "id": "d_wa0HYSaBdu"
      }
    },
    {
      "cell_type": "code",
      "source": [
        "import numpy as np\n",
        "\n",
        "arreglo = np.array([10, 20, 30, 40, 50])\n",
        "serie = pd.Series(arreglo)\n",
        "print(serie)\n"
      ],
      "metadata": {
        "id": "pM-WtXb3aClQ"
      },
      "execution_count": null,
      "outputs": []
    },
    {
      "cell_type": "markdown",
      "source": [
        "<b> Ejercicio 1 </b>\n",
        "\n",
        "Crear una Serie con los siguientes datos y mostrarla por pantalla:\n",
        "\n",
        "* Datos: [25, 10, 15, 30, 20]\n",
        "* Índices: ['A', 'B', 'C', 'D', 'E']"
      ],
      "metadata": {
        "id": "qLMaVn56bmUW"
      }
    },
    {
      "cell_type": "markdown",
      "source": [
        "\n",
        "<b> Ejercicio 2 </b>\n",
        "\n",
        "Crear una Serie con nombres de ciudades como índices y sus respectivas poblaciones como datos."
      ],
      "metadata": {
        "id": "hL-Ji6M4b8n-"
      }
    },
    {
      "cell_type": "markdown",
      "source": [
        "### Indexación y selección de datos"
      ],
      "metadata": {
        "id": "QygSkvocdSPn"
      }
    },
    {
      "cell_type": "code",
      "source": [
        "import pandas as pd\n",
        "\n",
        "datos = [10, 20, 30, 40, 50]\n",
        "etiquetas = ['A', 'B', 'C', 'D', 'E']\n",
        "serie = pd.Series(datos, index = etiquetas)\n",
        "print(serie)"
      ],
      "metadata": {
        "id": "YhXbSYPidSc9"
      },
      "execution_count": null,
      "outputs": []
    },
    {
      "cell_type": "markdown",
      "source": [
        "Acceder a un elemento específico utilizando una etiqueta:"
      ],
      "metadata": {
        "id": "_ky-DMKGfP9S"
      }
    },
    {
      "cell_type": "code",
      "source": [
        "print(serie['B'])"
      ],
      "metadata": {
        "id": "XgLUsuyle9k2"
      },
      "execution_count": null,
      "outputs": []
    },
    {
      "cell_type": "markdown",
      "source": [
        "Acceder a varios elementos utilizando una lista de etiquetas:"
      ],
      "metadata": {
        "id": "G6eGDtsxfN8A"
      }
    },
    {
      "cell_type": "code",
      "source": [
        "print(serie[['A', 'C', 'E']])"
      ],
      "metadata": {
        "id": "ozPguP_bfDfR"
      },
      "execution_count": null,
      "outputs": []
    },
    {
      "cell_type": "markdown",
      "source": [
        "Acceder a elementos utilizando indexación basada en posición:"
      ],
      "metadata": {
        "id": "IG2p8I8DfZAe"
      }
    },
    {
      "cell_type": "code",
      "source": [
        "print(serie[1])  # Acceder al segundo elemento\n",
        "print(serie[1:4])  # Acceder a un rango de elementos (exclusivo)"
      ],
      "metadata": {
        "id": "EhU2_s2Ffbwh"
      },
      "execution_count": null,
      "outputs": []
    },
    {
      "cell_type": "markdown",
      "source": [
        "Acceder a elementos utilizando una condición:"
      ],
      "metadata": {
        "id": "priuGnZBfgl2"
      }
    },
    {
      "cell_type": "code",
      "source": [
        "print(serie[serie > 30])\n"
      ],
      "metadata": {
        "id": "cS166o-2fiQz"
      },
      "execution_count": null,
      "outputs": []
    },
    {
      "cell_type": "markdown",
      "source": [
        "<b> Ejercicio 1 </b>\n",
        "\n",
        "Crear una Serie con nombres de ciudades como índices y sus respectivas poblaciones como datos. Luego, seleccionar las ciudades con población superior a 1 millón."
      ],
      "metadata": {
        "id": "IGYji8fbfm2D"
      }
    },
    {
      "cell_type": "markdown",
      "source": [
        "<b> Ejercicio 2 </b>\n",
        "\n",
        "Sobre el mismo ejercicio extraiga el registro de dos ciudades específicas (usted decida cuáles)."
      ],
      "metadata": {
        "id": "4pRKldJGgJL1"
      }
    },
    {
      "cell_type": "markdown",
      "source": [
        "### Operaciones básicas con Series"
      ],
      "metadata": {
        "id": "Zb-sr2VcdkNA"
      }
    },
    {
      "cell_type": "code",
      "source": [
        "import pandas as pd\n",
        "\n",
        "serie1 = pd.Series([10, 20, 30, 40, 50])\n",
        "serie2 = pd.Series([5, 15, 25, 35, 45])"
      ],
      "metadata": {
        "id": "i-9F7xWIdns5"
      },
      "execution_count": null,
      "outputs": []
    },
    {
      "cell_type": "markdown",
      "source": [
        "Sumar dos Series:\n"
      ],
      "metadata": {
        "id": "pcrmAFAVguAu"
      }
    },
    {
      "cell_type": "code",
      "source": [
        "suma = serie1 + serie2\n",
        "print(suma)"
      ],
      "metadata": {
        "id": "bm8xwMtXgqOr"
      },
      "execution_count": null,
      "outputs": []
    },
    {
      "cell_type": "markdown",
      "source": [
        "Restar dos Series:\n"
      ],
      "metadata": {
        "id": "fi7DdhIHgyU4"
      }
    },
    {
      "cell_type": "code",
      "source": [
        "resta = serie1 - serie2\n",
        "print(resta)"
      ],
      "metadata": {
        "id": "-zh6bEyygxBd"
      },
      "execution_count": null,
      "outputs": []
    },
    {
      "cell_type": "markdown",
      "source": [
        "Multiplicar una Serie por un escalar:\n"
      ],
      "metadata": {
        "id": "86xHbj_Eg4qd"
      }
    },
    {
      "cell_type": "code",
      "source": [
        "multiplicacion = serie1 * 2\n",
        "print(multiplicacion)"
      ],
      "metadata": {
        "id": "DyW6K_f_g2vY"
      },
      "execution_count": null,
      "outputs": []
    },
    {
      "cell_type": "markdown",
      "source": [
        "Dividir una Serie por otra:\n"
      ],
      "metadata": {
        "id": "cWTbM-7tkkRx"
      }
    },
    {
      "cell_type": "code",
      "source": [
        "division = serie1 / serie2\n",
        "print(division)"
      ],
      "metadata": {
        "id": "WKS9P_QRkksk"
      },
      "execution_count": null,
      "outputs": []
    },
    {
      "cell_type": "markdown",
      "source": [
        "Calcular el cuadrado de una Serie:\n"
      ],
      "metadata": {
        "id": "ljymSHbqg2BN"
      }
    },
    {
      "cell_type": "code",
      "source": [
        "cuadrado = serie1 ** 2\n",
        "print(cuadrado)"
      ],
      "metadata": {
        "id": "3kiSebXWg-Cz"
      },
      "execution_count": null,
      "outputs": []
    },
    {
      "cell_type": "markdown",
      "source": [
        "Calcular la raíz cuadrada de una Serie:\n"
      ],
      "metadata": {
        "id": "qFbz_9GnhEvy"
      }
    },
    {
      "cell_type": "code",
      "source": [
        "import numpy as np\n",
        "\n",
        "raiz_cuadrada = np.sqrt(serie1)\n",
        "print(raiz_cuadrada)"
      ],
      "metadata": {
        "id": "ql3nPxVjhGfP"
      },
      "execution_count": null,
      "outputs": []
    },
    {
      "cell_type": "markdown",
      "source": [
        "Operaciones de tipo str"
      ],
      "metadata": {
        "id": "9lQ6qDSsmY6Q"
      }
    },
    {
      "cell_type": "code",
      "source": [
        "datos = ['John', 'Luis', 'Pablo', 'Cesar']\n",
        "serie = pd.Series(datos)\n",
        "serie = serie.str.lower()\n",
        "\n",
        "print(serie)"
      ],
      "metadata": {
        "id": "sAXh8NjCmZLA"
      },
      "execution_count": null,
      "outputs": []
    },
    {
      "cell_type": "code",
      "source": [
        "datos = ['john', 'luis', 'pablo', 'cesar']\n",
        "serie = pd.Series(datos)\n",
        "serie = serie.str.upper()\n",
        "\n",
        "print(serie)"
      ],
      "metadata": {
        "id": "yRkIEmHImoQb"
      },
      "execution_count": null,
      "outputs": []
    },
    {
      "cell_type": "code",
      "source": [
        "datos = ['john', 'luis', 'pablo', 'cesar']\n",
        "serie = pd.Series(datos)\n",
        "serie = serie.str.capitalize()\n",
        "\n",
        "print(serie)"
      ],
      "metadata": {
        "id": "E7gMCHcNms4C"
      },
      "execution_count": null,
      "outputs": []
    },
    {
      "cell_type": "markdown",
      "source": [
        "Algunas operaciones estadísticas"
      ],
      "metadata": {
        "id": "sTYZ2k23nQEO"
      }
    },
    {
      "cell_type": "code",
      "source": [
        "\n",
        "datos = [2, 4, 2, 5, 1, 3]\n",
        "serie = pd.Series(datos)\n",
        "\n",
        "media = serie.mean()\n",
        "desviacion_estandar = serie.std()\n",
        "\n",
        "print(\"Media:\", media)\n",
        "print(\"Desviación estándar:\", desviacion_estandar)"
      ],
      "metadata": {
        "id": "RwcODv3xnIbV"
      },
      "execution_count": null,
      "outputs": []
    },
    {
      "cell_type": "markdown",
      "source": [
        "**Ejercicio 1**\n",
        "\n",
        "Crear una Serie con números enteros del 1 al 10 como índices y sus respectivos cuadrados como datos."
      ],
      "metadata": {
        "id": "2aKoNn1tj0mF"
      }
    },
    {
      "cell_type": "markdown",
      "source": [
        "**Ejercicio 2**\n",
        "\n",
        "Crear dos Series con los siguientes datos y luego sumarlas.\n",
        "\n",
        "> Serie 1: [10, 20, 30, 40, 50]\n",
        ">\n",
        "> Serie 2: [5, 15, 25, 35, 45]"
      ],
      "metadata": {
        "id": "tcuJ80MZkAaN"
      }
    },
    {
      "cell_type": "markdown",
      "source": [
        "**Ejercicio 3**\n",
        "\n",
        "Crear una Serie a partir de una lista de cadenas y convertir todas las letras a minúsculas.\n",
        "\n",
        "Datos: ['Manzana', 'Banana', 'Naranja', 'Pera']"
      ],
      "metadata": {
        "id": "ZDkN7x-FlaNu"
      }
    },
    {
      "cell_type": "markdown",
      "source": [
        "**Ejercicio 4**\n",
        "\n",
        "Crear una Serie con los siguientes datos y calcular la media y la desviación estándar.\n",
        "\n",
        "Datos: [15, 22, 18, 25, 20]"
      ],
      "metadata": {
        "id": "1avhdEZOlzp4"
      }
    },
    {
      "cell_type": "markdown",
      "source": [
        "**Ejercicio 5**\n",
        "\n",
        "Crear una Serie a partir de una lista y reemplazar un valor específico por otro.\n",
        "\n",
        "Datos: [5, 10, 15, 20, 25]\n",
        "Reemplazar el valor 15 por 30."
      ],
      "metadata": {
        "id": "7_v-1dgkmAI7"
      }
    },
    {
      "cell_type": "markdown",
      "source": [
        "**Ejercicio 6**\n",
        "\n",
        "Crear una Serie con los siguientes datos y mostrar los valores únicos.\n",
        "\n",
        "Datos: ['manzana', 'pera', 'manzana', 'plátano', 'manzana', 'pera']"
      ],
      "metadata": {
        "id": "4NmjRIkUmJgf"
      }
    },
    {
      "cell_type": "markdown",
      "source": [
        "## 2. DataFrames en Pandas"
      ],
      "metadata": {
        "id": "ho99ogOXXERi"
      }
    },
    {
      "cell_type": "markdown",
      "source": [
        "* Es una estructura de datos bidimensional que se utiliza para almacenar y manipular datos.\n",
        "* Se puede pensar en un DataFrame como una tabla en una base de datos o una hoja de cálculo en Excel.\n",
        "* Está compuesto por filas y columnas, donde cada columna puede contener datos de un tipo diferente (enteros, flotantes, cadenas, etc.).\n",
        "\n",
        "Un DataFrame en Pandas se puede crear de varias formas, pero comúnmente se utiliza para almacenar datos provenientes de archivos CSV, bases de datos o mediante la combinación de otras estructuras de datos, como Series."
      ],
      "metadata": {
        "id": "atDJsK1vnnTk"
      }
    },
    {
      "cell_type": "markdown",
      "source": [
        "### 2.1. Creación de DataFrames"
      ],
      "metadata": {
        "id": "dtH7DVj_dsYj"
      }
    },
    {
      "cell_type": "markdown",
      "source": [
        "Desde un diccionario de Python"
      ],
      "metadata": {
        "id": "l-kZvFRib6Ga"
      }
    },
    {
      "cell_type": "code",
      "source": [
        "import pandas as pd\n",
        "\n",
        "my_dict = {'Nombre': ['Angelica', 'Marco', 'Diego', 'Hans', 'Dante']}\n",
        "pd.DataFrame(my_dict)"
      ],
      "metadata": {
        "id": "WKJkmosGJHKm",
        "outputId": "6cafdacd-9d78-4968-c9dc-a031310c335f",
        "colab": {
          "base_uri": "https://localhost:8080/",
          "height": 206
        }
      },
      "execution_count": 1,
      "outputs": [
        {
          "output_type": "execute_result",
          "data": {
            "text/plain": [
              "     Nombre\n",
              "0  Angelica\n",
              "1     Marco\n",
              "2     Diego\n",
              "3      Hans\n",
              "4     Dante"
            ],
            "text/html": [
              "\n",
              "  <div id=\"df-92b10674-3e2e-4bcb-8743-99a67a5f29d6\">\n",
              "    <div class=\"colab-df-container\">\n",
              "      <div>\n",
              "<style scoped>\n",
              "    .dataframe tbody tr th:only-of-type {\n",
              "        vertical-align: middle;\n",
              "    }\n",
              "\n",
              "    .dataframe tbody tr th {\n",
              "        vertical-align: top;\n",
              "    }\n",
              "\n",
              "    .dataframe thead th {\n",
              "        text-align: right;\n",
              "    }\n",
              "</style>\n",
              "<table border=\"1\" class=\"dataframe\">\n",
              "  <thead>\n",
              "    <tr style=\"text-align: right;\">\n",
              "      <th></th>\n",
              "      <th>Nombre</th>\n",
              "    </tr>\n",
              "  </thead>\n",
              "  <tbody>\n",
              "    <tr>\n",
              "      <th>0</th>\n",
              "      <td>Angelica</td>\n",
              "    </tr>\n",
              "    <tr>\n",
              "      <th>1</th>\n",
              "      <td>Marco</td>\n",
              "    </tr>\n",
              "    <tr>\n",
              "      <th>2</th>\n",
              "      <td>Diego</td>\n",
              "    </tr>\n",
              "    <tr>\n",
              "      <th>3</th>\n",
              "      <td>Hans</td>\n",
              "    </tr>\n",
              "    <tr>\n",
              "      <th>4</th>\n",
              "      <td>Dante</td>\n",
              "    </tr>\n",
              "  </tbody>\n",
              "</table>\n",
              "</div>\n",
              "      <button class=\"colab-df-convert\" onclick=\"convertToInteractive('df-92b10674-3e2e-4bcb-8743-99a67a5f29d6')\"\n",
              "              title=\"Convert this dataframe to an interactive table.\"\n",
              "              style=\"display:none;\">\n",
              "        \n",
              "  <svg xmlns=\"http://www.w3.org/2000/svg\" height=\"24px\"viewBox=\"0 0 24 24\"\n",
              "       width=\"24px\">\n",
              "    <path d=\"M0 0h24v24H0V0z\" fill=\"none\"/>\n",
              "    <path d=\"M18.56 5.44l.94 2.06.94-2.06 2.06-.94-2.06-.94-.94-2.06-.94 2.06-2.06.94zm-11 1L8.5 8.5l.94-2.06 2.06-.94-2.06-.94L8.5 2.5l-.94 2.06-2.06.94zm10 10l.94 2.06.94-2.06 2.06-.94-2.06-.94-.94-2.06-.94 2.06-2.06.94z\"/><path d=\"M17.41 7.96l-1.37-1.37c-.4-.4-.92-.59-1.43-.59-.52 0-1.04.2-1.43.59L10.3 9.45l-7.72 7.72c-.78.78-.78 2.05 0 2.83L4 21.41c.39.39.9.59 1.41.59.51 0 1.02-.2 1.41-.59l7.78-7.78 2.81-2.81c.8-.78.8-2.07 0-2.86zM5.41 20L4 18.59l7.72-7.72 1.47 1.35L5.41 20z\"/>\n",
              "  </svg>\n",
              "      </button>\n",
              "      \n",
              "  <style>\n",
              "    .colab-df-container {\n",
              "      display:flex;\n",
              "      flex-wrap:wrap;\n",
              "      gap: 12px;\n",
              "    }\n",
              "\n",
              "    .colab-df-convert {\n",
              "      background-color: #E8F0FE;\n",
              "      border: none;\n",
              "      border-radius: 50%;\n",
              "      cursor: pointer;\n",
              "      display: none;\n",
              "      fill: #1967D2;\n",
              "      height: 32px;\n",
              "      padding: 0 0 0 0;\n",
              "      width: 32px;\n",
              "    }\n",
              "\n",
              "    .colab-df-convert:hover {\n",
              "      background-color: #E2EBFA;\n",
              "      box-shadow: 0px 1px 2px rgba(60, 64, 67, 0.3), 0px 1px 3px 1px rgba(60, 64, 67, 0.15);\n",
              "      fill: #174EA6;\n",
              "    }\n",
              "\n",
              "    [theme=dark] .colab-df-convert {\n",
              "      background-color: #3B4455;\n",
              "      fill: #D2E3FC;\n",
              "    }\n",
              "\n",
              "    [theme=dark] .colab-df-convert:hover {\n",
              "      background-color: #434B5C;\n",
              "      box-shadow: 0px 1px 3px 1px rgba(0, 0, 0, 0.15);\n",
              "      filter: drop-shadow(0px 1px 2px rgba(0, 0, 0, 0.3));\n",
              "      fill: #FFFFFF;\n",
              "    }\n",
              "  </style>\n",
              "\n",
              "      <script>\n",
              "        const buttonEl =\n",
              "          document.querySelector('#df-92b10674-3e2e-4bcb-8743-99a67a5f29d6 button.colab-df-convert');\n",
              "        buttonEl.style.display =\n",
              "          google.colab.kernel.accessAllowed ? 'block' : 'none';\n",
              "\n",
              "        async function convertToInteractive(key) {\n",
              "          const element = document.querySelector('#df-92b10674-3e2e-4bcb-8743-99a67a5f29d6');\n",
              "          const dataTable =\n",
              "            await google.colab.kernel.invokeFunction('convertToInteractive',\n",
              "                                                     [key], {});\n",
              "          if (!dataTable) return;\n",
              "\n",
              "          const docLinkHtml = 'Like what you see? Visit the ' +\n",
              "            '<a target=\"_blank\" href=https://colab.research.google.com/notebooks/data_table.ipynb>data table notebook</a>'\n",
              "            + ' to learn more about interactive tables.';\n",
              "          element.innerHTML = '';\n",
              "          dataTable['output_type'] = 'display_data';\n",
              "          await google.colab.output.renderOutput(dataTable, element);\n",
              "          const docLink = document.createElement('div');\n",
              "          docLink.innerHTML = docLinkHtml;\n",
              "          element.appendChild(docLink);\n",
              "        }\n",
              "      </script>\n",
              "    </div>\n",
              "  </div>\n",
              "  "
            ]
          },
          "metadata": {},
          "execution_count": 1
        }
      ]
    },
    {
      "cell_type": "code",
      "source": [
        "import pandas as pd\n",
        "\n",
        "data = {'Nombre': ['Juan', 'María', 'Pedro'],\n",
        "        'Edad': [25, 30, 35],\n",
        "        'Ciudad': ['Madrid', 'Barcelona', 'Valencia']}\n",
        "\n",
        "df = pd.DataFrame(data)\n",
        "\n",
        "print(df)"
      ],
      "metadata": {
        "id": "PfMJ7MUjbwJ4"
      },
      "execution_count": null,
      "outputs": []
    },
    {
      "cell_type": "markdown",
      "source": [
        "Desde una lista de listas"
      ],
      "metadata": {
        "id": "Q2ypmk__cSse"
      }
    },
    {
      "cell_type": "code",
      "source": [
        "import pandas as pd\n",
        "\n",
        "data = [['Juan', 25, 'Madrid'],\n",
        "        ['María', 30, 'Barcelona'],\n",
        "        ['Pedro', 35, 'Valencia']]\n",
        "\n",
        "df = pd.DataFrame(data, columns=['Nombre', 'Edad', 'Ciudad'])\n",
        "\n",
        "print(df)"
      ],
      "metadata": {
        "id": "Z29dfL2lcVzw"
      },
      "execution_count": null,
      "outputs": []
    },
    {
      "cell_type": "markdown",
      "source": [
        "### 2.2. Carga de datos desde diferentes fuentes (CSV, Excel, SQL, etc.)"
      ],
      "metadata": {
        "id": "8lEMRLv-duqQ"
      }
    },
    {
      "cell_type": "markdown",
      "source": [
        "Desde un archivo CSV"
      ],
      "metadata": {
        "id": "JWYBoiYVcecY"
      }
    },
    {
      "cell_type": "code",
      "source": [
        "import pandas as pd\n",
        "\n",
        "df = pd.read_csv('train_titanic.csv')\n",
        "\n",
        "df.head()"
      ],
      "metadata": {
        "id": "A4mrMWyZcgn-"
      },
      "execution_count": null,
      "outputs": []
    },
    {
      "cell_type": "markdown",
      "source": [
        "Desde un txt"
      ],
      "metadata": {
        "id": "yuagShBSt04D"
      }
    },
    {
      "cell_type": "code",
      "source": [
        "import pandas as pd\n",
        "\n",
        "df = pd.read_csv('train_titanic.txt', delimiter = '\\t')\n",
        "df.head()"
      ],
      "metadata": {
        "id": "YCxK9cF8tzlz"
      },
      "execution_count": null,
      "outputs": []
    },
    {
      "cell_type": "markdown",
      "source": [
        "Desde un archivo Excel"
      ],
      "metadata": {
        "id": "Y4CHp_TOea0Q"
      }
    },
    {
      "cell_type": "code",
      "source": [
        "import pandas as pd\n",
        "\n",
        "# Leer el archivo de Excel en un DataFrame\n",
        "df = pd.read_excel('train_titanic.xls')\n",
        "\n",
        "df.head()"
      ],
      "metadata": {
        "id": "EyQLuMxmeabd"
      },
      "execution_count": null,
      "outputs": []
    },
    {
      "cell_type": "markdown",
      "source": [
        "Desde formato parquet"
      ],
      "metadata": {
        "id": "AhWBEHQMjBdC"
      }
    },
    {
      "cell_type": "code",
      "source": [
        "import pandas as pd\n",
        "\n",
        "# Leer el archivo Parquet en un DataFrame\n",
        "df = pd.read_parquet('train_titanic.parquet')\n",
        "\n",
        "# Imprimir el DataFrame\n",
        "df.head()"
      ],
      "metadata": {
        "id": "LyFEK-gujB7O"
      },
      "execution_count": null,
      "outputs": []
    },
    {
      "cell_type": "code",
      "source": [
        "# Escribir un archivo en formato parquet\n",
        "df.to_parquet('train_titanic.parquet')\n"
      ],
      "metadata": {
        "id": "GcnZjXHPo2Kc"
      },
      "execution_count": null,
      "outputs": []
    },
    {
      "cell_type": "markdown",
      "source": [
        "Desde SQL"
      ],
      "metadata": {
        "id": "ThUepkP1i3Ca"
      }
    },
    {
      "cell_type": "code",
      "source": [
        "import pandas as pd\n",
        "import sqlite3\n",
        "\n",
        "# Establecer la conexión con la base de datos\n",
        "conn = sqlite3.connect('titanic_train.db')\n",
        "\n",
        "# Consulta SQL\n",
        "query = 'SELECT * FROM titanic_train'\n",
        "\n",
        "# Leer los datos desde la base de datos en un DataFrame\n",
        "df = pd.read_sql(query, conn)\n",
        "\n",
        "# Cerrar la conexión con la base de datos\n",
        "conn.close()\n",
        "\n",
        "# Imprimir el DataFrame\n",
        "df.head()"
      ],
      "metadata": {
        "id": "YzM1nF3Ui2U4"
      },
      "execution_count": null,
      "outputs": []
    },
    {
      "cell_type": "code",
      "source": [
        "\n",
        "import sqlite3\n",
        "\n",
        "# Establecer la conexión con la base de datos\n",
        "conn = sqlite3.connect('titanic_train.db')\n",
        "\n",
        "# Escribir el DataFrame en un archivo Parquet\n",
        "df.to_sql('titanic_train', conn, if_exists='replace', index=False)\n"
      ],
      "metadata": {
        "id": "qYbwHsOqtPOM"
      },
      "execution_count": null,
      "outputs": []
    },
    {
      "cell_type": "markdown",
      "source": [
        "Conectar Google Drive a Google Colab"
      ],
      "metadata": {
        "id": "l5MZ9ZvKjU51"
      }
    },
    {
      "cell_type": "code",
      "source": [
        "# Importar la biblioteca google.colab:\n",
        "from google.colab import drive\n"
      ],
      "metadata": {
        "id": "YkQaJjRhkf8C"
      },
      "execution_count": null,
      "outputs": []
    },
    {
      "cell_type": "code",
      "source": [
        "# Montar Google Drive en entorno de Colab\n",
        "drive.mount('/content/drive')\n"
      ],
      "metadata": {
        "id": "kS5OOWP5kloz"
      },
      "execution_count": null,
      "outputs": []
    },
    {
      "cell_type": "code",
      "source": [
        "import pandas as pd\n",
        "\n",
        "ruta_archivo = '/content/drive/MyDrive/train.csv'\n",
        "df = pd.read_csv(ruta_archivo)\n",
        "df.head()"
      ],
      "metadata": {
        "id": "-CBq0QNZlHhG"
      },
      "execution_count": null,
      "outputs": []
    },
    {
      "cell_type": "code",
      "source": [
        "# Guardar un archivo en drive\n",
        "df.to_csv('/content/drive/MyDrive/train_prueba.csv')\n"
      ],
      "metadata": {
        "id": "5XeLlZyJuLmA"
      },
      "execution_count": null,
      "outputs": []
    },
    {
      "cell_type": "markdown",
      "source": [
        "### 2.3. Exploración y manipulación de DataFrames"
      ],
      "metadata": {
        "id": "smRAmlIWd4HY"
      }
    },
    {
      "cell_type": "code",
      "source": [
        "pddf = pd.read_csv('sample_data/california_housing_train.csv')\n",
        "pddf.head()"
      ],
      "metadata": {
        "id": "4f2lvBpk1nD2"
      },
      "execution_count": null,
      "outputs": []
    },
    {
      "cell_type": "markdown",
      "source": [
        "#### Selección de columnas"
      ],
      "metadata": {
        "id": "zqv0nBaVvxA1"
      }
    },
    {
      "cell_type": "markdown",
      "source": [
        "Notación de corchetes"
      ],
      "metadata": {
        "id": "pObWvszg1RV2"
      }
    },
    {
      "cell_type": "code",
      "source": [
        "pddf['total_rooms']  # Selecciona una columna\n"
      ],
      "metadata": {
        "id": "QtcfHZ6Gd2K8"
      },
      "execution_count": null,
      "outputs": []
    },
    {
      "cell_type": "code",
      "source": [
        "pddf[['total_rooms', 'population']]  # Selecciona varias columnas"
      ],
      "metadata": {
        "id": "q_MEC8tF1hhl"
      },
      "execution_count": null,
      "outputs": []
    },
    {
      "cell_type": "markdown",
      "source": [
        "Método loc[]"
      ],
      "metadata": {
        "id": "3Mv8Rs1z2BVS"
      }
    },
    {
      "cell_type": "code",
      "source": [
        "pddf.loc[:, 'total_rooms']  # Selecciona una columna\n"
      ],
      "metadata": {
        "id": "IwUGmuTV2B2e"
      },
      "execution_count": null,
      "outputs": []
    },
    {
      "cell_type": "code",
      "source": [
        "pddf.loc[:, ['total_rooms', 'population']]  # Selecciona varias columnas"
      ],
      "metadata": {
        "id": "c19H-TWg2ErM"
      },
      "execution_count": null,
      "outputs": []
    },
    {
      "cell_type": "markdown",
      "source": [
        "Método iloc[]"
      ],
      "metadata": {
        "id": "hmnwT0FT2Ulr"
      }
    },
    {
      "cell_type": "code",
      "source": [
        "pddf.iloc[:, 0]  # Selecciona una columna por su índice"
      ],
      "metadata": {
        "id": "AUdecgNd2bc3"
      },
      "execution_count": null,
      "outputs": []
    },
    {
      "cell_type": "code",
      "source": [
        "pddf.iloc[:, [0, 1]]  # Selecciona varias columnas por sus índices"
      ],
      "metadata": {
        "id": "wl8qKhul2c5t"
      },
      "execution_count": null,
      "outputs": []
    },
    {
      "cell_type": "markdown",
      "source": [
        "#### Creación de nuevas columnas"
      ],
      "metadata": {
        "id": "QANaRPk4z5fs"
      }
    },
    {
      "cell_type": "markdown",
      "source": [
        "Funciones aplicadas a columnas"
      ],
      "metadata": {
        "id": "aTojC_IA3CeR"
      }
    },
    {
      "cell_type": "code",
      "source": [
        "import numpy as np\n",
        "\n",
        "pddf['nueva_columna'] = np.sqrt(pddf['total_rooms'])"
      ],
      "metadata": {
        "id": "KsR7sfJ12-Xw"
      },
      "execution_count": null,
      "outputs": []
    },
    {
      "cell_type": "markdown",
      "source": [
        "Condicionales y funciones lambda"
      ],
      "metadata": {
        "id": "fDQr1uLE3ORq"
      }
    },
    {
      "cell_type": "code",
      "source": [
        "pddf['nueva_columna'] = pddf['total_rooms'].apply(lambda x: 'Mayor' if x > 10 else 'Menor')\n",
        "pddf.head()"
      ],
      "metadata": {
        "id": "cfWvjzFG3Np1"
      },
      "execution_count": null,
      "outputs": []
    },
    {
      "cell_type": "markdown",
      "source": [
        "Asignación de un valor constante"
      ],
      "metadata": {
        "id": "F1vjRQvX4xTr"
      }
    },
    {
      "cell_type": "code",
      "source": [
        "pddf['nueva_columna'] = 1\n"
      ],
      "metadata": {
        "id": "0lc7CP0n4yMc"
      },
      "execution_count": null,
      "outputs": []
    },
    {
      "cell_type": "markdown",
      "source": [
        "## 3. Indexación y selección de datos en DataFrames"
      ],
      "metadata": {
        "id": "pvd9q3w1XP8R"
      }
    },
    {
      "cell_type": "markdown",
      "source": [
        "### 3.1 Filtrado de filas"
      ],
      "metadata": {
        "id": "bWiw3HMYvzsQ"
      }
    },
    {
      "cell_type": "markdown",
      "source": [
        "Operadores de comparación"
      ],
      "metadata": {
        "id": "IKxK4Ean48pU"
      }
    },
    {
      "cell_type": "code",
      "source": [
        "filtro = pddf['housing_median_age'] > 30\n",
        "df_filtrado = pddf[filtro]\n",
        "df_filtrado.head()"
      ],
      "metadata": {
        "id": "IITWU5Rx49KW"
      },
      "execution_count": null,
      "outputs": []
    },
    {
      "cell_type": "markdown",
      "source": [
        "Operador isin()"
      ],
      "metadata": {
        "id": "0ySGr26h5MGL"
      }
    },
    {
      "cell_type": "code",
      "source": [
        "df = pd.read_csv('train_titanic.csv')\n",
        "df.head()"
      ],
      "metadata": {
        "id": "DllDhhiQ5Rh8"
      },
      "execution_count": null,
      "outputs": []
    },
    {
      "cell_type": "code",
      "source": [
        "filtro = df['Sex'].isin(['male'])\n",
        "df_filtrado = df[filtro]\n",
        "df_filtrado.head()"
      ],
      "metadata": {
        "id": "IYxh8sY85PWx"
      },
      "execution_count": null,
      "outputs": []
    },
    {
      "cell_type": "markdown",
      "source": [
        "Operador between()"
      ],
      "metadata": {
        "id": "SG1EAZXR5rr0"
      }
    },
    {
      "cell_type": "code",
      "source": [
        "filtro = df['Age'].between(20, 30)\n",
        "df_filtrado = df[filtro]\n",
        "df_filtrado.head()"
      ],
      "metadata": {
        "id": "sSERf-w05sEX"
      },
      "execution_count": null,
      "outputs": []
    },
    {
      "cell_type": "markdown",
      "source": [
        "Método query()"
      ],
      "metadata": {
        "id": "2CX6rhHR52hu"
      }
    },
    {
      "cell_type": "code",
      "source": [
        "df_filtrado = df.query(\"Age > 30 and Sex == 'male'\")\n",
        "df_filtrado.head()"
      ],
      "metadata": {
        "id": "6E1b9NZx56i1"
      },
      "execution_count": null,
      "outputs": []
    },
    {
      "cell_type": "markdown",
      "source": [
        "### 3.2. Agrupación y agregación"
      ],
      "metadata": {
        "id": "0FbWy72Av7DS"
      }
    },
    {
      "cell_type": "markdown",
      "source": [
        "Operación de agregación"
      ],
      "metadata": {
        "id": "3TB54xpD6G5J"
      }
    },
    {
      "cell_type": "code",
      "source": [
        "df['Age'].mean()"
      ],
      "metadata": {
        "id": "AenGoaQh6HR0"
      },
      "execution_count": null,
      "outputs": []
    },
    {
      "cell_type": "code",
      "source": [
        "df.groupby('Sex')['Age'].mean()"
      ],
      "metadata": {
        "id": "7B1En8DxAJaT"
      },
      "execution_count": null,
      "outputs": []
    },
    {
      "cell_type": "markdown",
      "source": [
        "## 4. Limpieza de datos"
      ],
      "metadata": {
        "id": "vWDGyChMXgGk"
      }
    },
    {
      "cell_type": "markdown",
      "source": [
        "### 4.1. Ordenación"
      ],
      "metadata": {
        "id": "c30HgstrwjHn"
      }
    },
    {
      "cell_type": "code",
      "source": [
        "df_sorted = df.sort_values(by='Age')\n",
        "df_sorted.head()"
      ],
      "metadata": {
        "id": "4q3tt91UAzts"
      },
      "execution_count": null,
      "outputs": []
    },
    {
      "cell_type": "code",
      "source": [
        "df_sorted = df.sort_values(by='Age', ascending = False)\n",
        "df_sorted.head()"
      ],
      "metadata": {
        "id": "23JyGi-4A6gj"
      },
      "execution_count": null,
      "outputs": []
    },
    {
      "cell_type": "code",
      "source": [
        "df.sort_values(by='Age', ascending = False, inplace=True)\n",
        "df.head()"
      ],
      "metadata": {
        "id": "7ZFFpJ8CBGT_"
      },
      "execution_count": null,
      "outputs": []
    },
    {
      "cell_type": "markdown",
      "source": [
        "### 4.2. Eliminación de duplicados:"
      ],
      "metadata": {
        "id": "eCrBLTW1vtrH"
      }
    },
    {
      "cell_type": "code",
      "source": [
        "df2 = df[['Sex', 'Embarked']]\n",
        "df2"
      ],
      "metadata": {
        "id": "ZVaS2YYYBi7r"
      },
      "execution_count": null,
      "outputs": []
    },
    {
      "cell_type": "code",
      "source": [
        "df_sin_duplicados = df2.drop_duplicates()\n",
        "df_sin_duplicados"
      ],
      "metadata": {
        "id": "LQ5Bk9WgBhWZ"
      },
      "execution_count": null,
      "outputs": []
    },
    {
      "cell_type": "markdown",
      "source": [
        "Eliminar filas duplicadas basándote en una columna específica:\n",
        "\n"
      ],
      "metadata": {
        "id": "3Qesb66dB8MB"
      }
    },
    {
      "cell_type": "code",
      "source": [
        "df_sin_duplicados = df2.drop_duplicates(subset='Embarked')\n",
        "df_sin_duplicados"
      ],
      "metadata": {
        "id": "HI2JwTL9B1uq"
      },
      "execution_count": null,
      "outputs": []
    },
    {
      "cell_type": "markdown",
      "source": [
        "drop_duplicates() mantiene la primera aparición de una fila duplicada y elimina las siguientes. Sin embargo, puedes cambiar este comportamiento utilizando el argumento keep."
      ],
      "metadata": {
        "id": "BOezQuUPCOvG"
      }
    },
    {
      "cell_type": "code",
      "source": [
        "df_sin_duplicados = df2.drop_duplicates(subset='Embarked', keep='first')\n",
        "df_sin_duplicados"
      ],
      "metadata": {
        "id": "xbb_aLkFCEUP"
      },
      "execution_count": null,
      "outputs": []
    },
    {
      "cell_type": "markdown",
      "source": [
        "### 4.3. Manipulación de valores faltantes:"
      ],
      "metadata": {
        "id": "DvBD1MdQvthE"
      }
    },
    {
      "cell_type": "code",
      "source": [
        "df.isnull().sum()"
      ],
      "metadata": {
        "id": "uMPMiPccCqkQ"
      },
      "execution_count": null,
      "outputs": []
    },
    {
      "cell_type": "code",
      "source": [
        "df.Age.fillna(df.Age.mean(), inplace = True)\n",
        "df.isnull().sum()"
      ],
      "metadata": {
        "id": "1Ow94jFxCsW0"
      },
      "execution_count": null,
      "outputs": []
    },
    {
      "cell_type": "markdown",
      "source": [
        "## 5. Operaciones y transformaciones en DataFrames"
      ],
      "metadata": {
        "id": "skqbT7c7XjM-"
      }
    },
    {
      "cell_type": "markdown",
      "source": [
        "### 5.1. Agregar y eliminar columnas"
      ],
      "metadata": {
        "id": "UVcgX2XS0Tke"
      }
    },
    {
      "cell_type": "markdown",
      "source": [
        "Agregar una columna"
      ],
      "metadata": {
        "id": "XWH-p8PzEEDK"
      }
    },
    {
      "cell_type": "code",
      "source": [
        "df['nueva_columna'] = serie_o_lista"
      ],
      "metadata": {
        "id": "jRjBBWRjEBfF"
      },
      "execution_count": null,
      "outputs": []
    },
    {
      "cell_type": "markdown",
      "source": [
        "Eliminar una columna"
      ],
      "metadata": {
        "id": "3yDiFG-dEG94"
      }
    },
    {
      "cell_type": "code",
      "source": [
        "df = df.drop('nueva_columna', axis=1)\n"
      ],
      "metadata": {
        "id": "wcvQ-s3NEIjZ"
      },
      "execution_count": null,
      "outputs": []
    },
    {
      "cell_type": "code",
      "source": [
        "del df['nueva_columna']"
      ],
      "metadata": {
        "id": "CkPYHYTEELn7"
      },
      "execution_count": null,
      "outputs": []
    },
    {
      "cell_type": "markdown",
      "source": [
        "### 5.2. Operaciones aritméticas"
      ],
      "metadata": {
        "id": "kqJ9BvBy0YJn"
      }
    },
    {
      "cell_type": "code",
      "source": [
        "df['suma'] = df['SibSp'] + df['Parch']\n"
      ],
      "metadata": {
        "id": "UwZsXtOjEhdE"
      },
      "execution_count": null,
      "outputs": []
    },
    {
      "cell_type": "code",
      "source": [
        "df.head()"
      ],
      "metadata": {
        "id": "CTGPm5OOEoQx"
      },
      "execution_count": null,
      "outputs": []
    },
    {
      "cell_type": "markdown",
      "source": [
        "### 5.3. Combinación de DataFrames"
      ],
      "metadata": {
        "id": "a_bA6urW0cAJ"
      }
    },
    {
      "cell_type": "markdown",
      "source": [
        "Concatenación"
      ],
      "metadata": {
        "id": "Gb1rTreKE2bm"
      }
    },
    {
      "cell_type": "markdown",
      "source": [
        "La concatenación se utiliza para combinar dos o más DataFrames a lo largo de un eje específico, ya sea por filas o por columnas. El resultado es un nuevo DataFrame que contiene todas las filas o columnas de los DataFrames originales."
      ],
      "metadata": {
        "id": "0Zho5YJKFZbc"
      }
    },
    {
      "cell_type": "markdown",
      "source": [
        "los índices originales se conservan. Si deseas reindexar el DataFrame resultante, puedes utilizar el método reset_index() para restablecer el índice.\n",
        "\n"
      ],
      "metadata": {
        "id": "y7QhwPYTFPSD"
      }
    },
    {
      "cell_type": "code",
      "source": [
        "import pandas as pd\n",
        "\n",
        "# Creamos dos DataFrames de ejemplo\n",
        "df1 = pd.DataFrame({'A': [1, 2, 3],\n",
        "                    'B': ['a', 'b', 'c']})\n",
        "\n",
        "df2 = pd.DataFrame({'A': [4, 5, 6],\n",
        "                    'B': ['d', 'e', 'f']})\n",
        "\n",
        "# Concatenamos los DataFrames a lo largo del eje 0 (filas)\n",
        "df_concatenado = pd.concat([df1, df2], axis=0)\n",
        "\n",
        "df_concatenado"
      ],
      "metadata": {
        "id": "WupmlSHW0SIX"
      },
      "execution_count": null,
      "outputs": []
    },
    {
      "cell_type": "markdown",
      "source": [
        "merge"
      ],
      "metadata": {
        "id": "d8AhKy1lE8YO"
      }
    },
    {
      "cell_type": "code",
      "source": [
        "import pandas as pd\n",
        "\n",
        "# Creamos dos DataFrames de ejemplo\n",
        "df1 = pd.DataFrame({'ID': [1, 2, 3],\n",
        "                    'Nombre': ['Juan', 'María', 'Pedro']})\n",
        "\n",
        "df2 = pd.DataFrame({'ID': [2, 3, 4],\n",
        "                    'Edad': [25, 30, 35]})\n",
        "\n",
        "# Realizamos la unión basándonos en la columna 'ID'\n",
        "df_union = pd.merge(df1, df2, on='ID', how = 'inner')\n",
        "df_union"
      ],
      "metadata": {
        "id": "w-dH3It-FmhJ"
      },
      "execution_count": null,
      "outputs": []
    },
    {
      "cell_type": "markdown",
      "source": [
        "## 6. Visualización de datos con Pandas"
      ],
      "metadata": {
        "id": "b0lm-YkdXmyd"
      }
    },
    {
      "cell_type": "markdown",
      "source": [
        "Visualización con Searborn"
      ],
      "metadata": {
        "id": "_ML9FCf90kX-"
      }
    },
    {
      "cell_type": "code",
      "source": [
        "import seaborn as sns"
      ],
      "metadata": {
        "id": "nodyAddWGFj6"
      },
      "execution_count": null,
      "outputs": []
    },
    {
      "cell_type": "code",
      "source": [
        "# Gráfico de distribución\n",
        "sns.displot(data=df, x='Age')"
      ],
      "metadata": {
        "id": "p8TO5Pr9GNzZ"
      },
      "execution_count": null,
      "outputs": []
    },
    {
      "cell_type": "code",
      "execution_count": null,
      "metadata": {
        "id": "W7oAbzKbVhwa"
      },
      "outputs": [],
      "source": [
        "# Gráfico de cajas\n",
        "sns.boxplot(data=df, x='Age')\n"
      ]
    },
    {
      "cell_type": "markdown",
      "source": [
        "---\n",
        "\n",
        "# Gracias por completar este laboratorio!\n",
        "\n",
        "---\n",
        "\n"
      ],
      "metadata": {
        "id": "oTLHpID8er3c"
      }
    }
  ]
}