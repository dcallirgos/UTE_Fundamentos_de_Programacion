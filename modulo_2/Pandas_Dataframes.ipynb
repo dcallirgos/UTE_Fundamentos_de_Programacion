{
  "nbformat": 4,
  "nbformat_minor": 0,
  "metadata": {
    "colab": {
      "provenance": [],
      "include_colab_link": true
    },
    "kernelspec": {
      "name": "python3",
      "display_name": "Python 3"
    },
    "language_info": {
      "name": "python"
    }
  },
  "cells": [
    {
      "cell_type": "markdown",
      "metadata": {
        "id": "view-in-github",
        "colab_type": "text"
      },
      "source": [
        "<a href=\"https://colab.research.google.com/github/dcallirgos/UTE_Fundamentos_de_Programacion/blob/main/modulo_2/Pandas_Dataframes.ipynb\" target=\"_parent\"><img src=\"https://colab.research.google.com/assets/colab-badge.svg\" alt=\"Open In Colab\"/></a>"
      ]
    },
    {
      "cell_type": "markdown",
      "source": [
        "<img src=\"https://www.ctic.uni.edu.pe/wp-content/uploads/2022/04/588px-x-348px-web-1.png\" alt=\"HTML5 Icon\" width=\"900\" height=\"350\" >"
      ],
      "metadata": {
        "id": "inV2ccfgWebA"
      }
    },
    {
      "cell_type": "markdown",
      "source": [
        "<h1 align=center><font size = 5> ESTRUCTURAS DE DATOS - PANDAS DATAFRAMES\n",
        "</font></h1>\n",
        "\n",
        "---"
      ],
      "metadata": {
        "id": "C8hWGHjoWhA8"
      }
    },
    {
      "cell_type": "markdown",
      "source": [
        "## Tabla de Contenidos\n",
        "\n",
        "<div class=\"alert alert-block alert-info\" style=\"margin-top: 20px\">\n",
        "\n",
        "<font size = 3>\n",
        "\n",
        "1. <a href=\"#item31\">Series en Pandas</a>\n",
        "2. <a href=\"#item32\">DataFrames en Pandas</a>\n",
        "3. <a href=\"#item33\">Indexación y selección de datos en DataFrames</a>\n",
        "4. <a href=\"#item34\">Limpieza y manipulación de datos</a>\n",
        "\n",
        "</font>\n",
        "</div>\n",
        "\n",
        "---"
      ],
      "metadata": {
        "id": "YdCZFf-kkwQV"
      }
    },
    {
      "cell_type": "markdown",
      "source": [
        "## 1. Series en Pandas\n",
        "\n"
      ],
      "metadata": {
        "id": "2QIsQr0NW5pr"
      }
    },
    {
      "cell_type": "markdown",
      "source": [
        "* Es una estructura de datos unidimensional que puede contener datos de cualquier tipo (enteros, flotantes, cadenas, etc.). Es similar a una columna en una tabla o una matriz unidimensional, y se utiliza para representar y manipular conjuntos de datos unidimensionales.\n",
        "\n",
        "* Una Serie consta de dos componentes principales: los datos y el índice. Los datos representan los valores almacenados en la Serie, mientras que el índice es una etiqueta asociada a cada elemento de los datos que permite identificar y acceder a ellos de manera eficiente."
      ],
      "metadata": {
        "id": "vBGjiaw5bXu7"
      }
    },
    {
      "cell_type": "markdown",
      "source": [
        "### Creación de Series"
      ],
      "metadata": {
        "id": "lZLenRbMdg1J"
      }
    },
    {
      "cell_type": "markdown",
      "source": [
        "Crear una Serie a partir de una lista:"
      ],
      "metadata": {
        "id": "YK6uS4L6Yndc"
      }
    },
    {
      "cell_type": "code",
      "source": [
        "import pandas as pd\n",
        "\n",
        "datos = [10, 20, 30, 40, 50]\n",
        "serie = pd.Series(datos)\n",
        "print(serie)"
      ],
      "metadata": {
        "id": "4RjSrSjbYmNu"
      },
      "execution_count": null,
      "outputs": []
    },
    {
      "cell_type": "markdown",
      "source": [
        "Crear una Serie a partir de un diccionario:"
      ],
      "metadata": {
        "id": "g-P3dX-5Ytnd"
      }
    },
    {
      "cell_type": "code",
      "source": [
        "datos = {'a': 10, 'b': 20, 'c': 30, 'd': 40, 'e': 50}\n",
        "serie = pd.Series(datos)\n",
        "print(serie)\n"
      ],
      "metadata": {
        "id": "LFfVRnRKYqjd"
      },
      "execution_count": null,
      "outputs": []
    },
    {
      "cell_type": "markdown",
      "source": [
        "Crear una Serie con etiquetas personalizadas:"
      ],
      "metadata": {
        "id": "EXbEbXK5Y9st"
      }
    },
    {
      "cell_type": "code",
      "source": [
        "datos = [10, 20, 30, 40, 50]\n",
        "etiquetas = ['A', 'B', 'C', 'D', 'E']\n",
        "\n",
        "serie = pd.Series(datos, index=etiquetas)\n",
        "print(serie)"
      ],
      "metadata": {
        "id": "xK_fpO1iY9Ub"
      },
      "execution_count": null,
      "outputs": []
    },
    {
      "cell_type": "markdown",
      "source": [
        "Crear una Serie a partir de un arreglo de NumPy:"
      ],
      "metadata": {
        "id": "d_wa0HYSaBdu"
      }
    },
    {
      "cell_type": "code",
      "source": [
        "import numpy as np\n",
        "\n",
        "arreglo = np.array([10, 20, 30, 40, 50])\n",
        "serie = pd.Series(arreglo)\n",
        "print(serie)\n"
      ],
      "metadata": {
        "id": "pM-WtXb3aClQ"
      },
      "execution_count": null,
      "outputs": []
    },
    {
      "cell_type": "markdown",
      "source": [
        "<b> Ejercicio 1 </b>\n",
        "\n",
        "Crear una Serie con los siguientes datos y mostrarla por pantalla:\n",
        "\n",
        "* Datos: [25, 10, 15, 30, 20]\n",
        "* Índices: ['A', 'B', 'C', 'D', 'E']"
      ],
      "metadata": {
        "id": "qLMaVn56bmUW"
      }
    },
    {
      "cell_type": "markdown",
      "source": [
        "\n",
        "<b> Ejercicio 2 </b>\n",
        "\n",
        "Crear una Serie con nombres de ciudades como índices y sus respectivas poblaciones como datos."
      ],
      "metadata": {
        "id": "hL-Ji6M4b8n-"
      }
    },
    {
      "cell_type": "markdown",
      "source": [
        "### Indexación y selección de datos"
      ],
      "metadata": {
        "id": "QygSkvocdSPn"
      }
    },
    {
      "cell_type": "code",
      "source": [
        "import pandas as pd\n",
        "\n",
        "datos = [10, 20, 30, 40, 50]\n",
        "etiquetas = ['A', 'B', 'C', 'D', 'E']\n",
        "serie = pd.Series(datos, index = etiquetas)\n",
        "print(serie)"
      ],
      "metadata": {
        "id": "YhXbSYPidSc9"
      },
      "execution_count": null,
      "outputs": []
    },
    {
      "cell_type": "markdown",
      "source": [
        "Acceder a un elemento específico utilizando una etiqueta:"
      ],
      "metadata": {
        "id": "_ky-DMKGfP9S"
      }
    },
    {
      "cell_type": "code",
      "source": [
        "print(serie['B'])"
      ],
      "metadata": {
        "id": "XgLUsuyle9k2"
      },
      "execution_count": null,
      "outputs": []
    },
    {
      "cell_type": "markdown",
      "source": [
        "Acceder a varios elementos utilizando una lista de etiquetas:"
      ],
      "metadata": {
        "id": "G6eGDtsxfN8A"
      }
    },
    {
      "cell_type": "code",
      "source": [
        "print(serie[['A', 'C', 'E']])"
      ],
      "metadata": {
        "id": "ozPguP_bfDfR"
      },
      "execution_count": null,
      "outputs": []
    },
    {
      "cell_type": "markdown",
      "source": [
        "Acceder a elementos utilizando indexación basada en posición:"
      ],
      "metadata": {
        "id": "IG2p8I8DfZAe"
      }
    },
    {
      "cell_type": "code",
      "source": [
        "print(serie[1])  # Acceder al segundo elemento\n",
        "print(serie[1:4])  # Acceder a un rango de elementos (exclusivo)"
      ],
      "metadata": {
        "id": "EhU2_s2Ffbwh"
      },
      "execution_count": null,
      "outputs": []
    },
    {
      "cell_type": "markdown",
      "source": [
        "Acceder a elementos utilizando una condición:"
      ],
      "metadata": {
        "id": "priuGnZBfgl2"
      }
    },
    {
      "cell_type": "code",
      "source": [
        "print(serie[serie > 30])\n"
      ],
      "metadata": {
        "id": "cS166o-2fiQz"
      },
      "execution_count": null,
      "outputs": []
    },
    {
      "cell_type": "markdown",
      "source": [
        "<b> Ejercicio 1 </b>\n",
        "\n",
        "Crear una Serie con nombres de ciudades como índices y sus respectivas poblaciones como datos. Luego, seleccionar las ciudades con población superior a 1 millón."
      ],
      "metadata": {
        "id": "IGYji8fbfm2D"
      }
    },
    {
      "cell_type": "markdown",
      "source": [
        "<b> Ejercicio 2 </b>\n",
        "\n",
        "Sobre el mismo ejercicio extraiga el registro de dos ciudades específicas (usted decida cuáles)."
      ],
      "metadata": {
        "id": "4pRKldJGgJL1"
      }
    },
    {
      "cell_type": "markdown",
      "source": [
        "### Operaciones básicas con Series"
      ],
      "metadata": {
        "id": "Zb-sr2VcdkNA"
      }
    },
    {
      "cell_type": "code",
      "source": [
        "import pandas as pd\n",
        "\n",
        "serie1 = pd.Series([10, 20, 30, 40, 50])\n",
        "serie2 = pd.Series([5, 15, 25, 35, 45])"
      ],
      "metadata": {
        "id": "i-9F7xWIdns5"
      },
      "execution_count": null,
      "outputs": []
    },
    {
      "cell_type": "markdown",
      "source": [
        "Sumar dos Series:\n"
      ],
      "metadata": {
        "id": "pcrmAFAVguAu"
      }
    },
    {
      "cell_type": "code",
      "source": [
        "suma = serie1 + serie2\n",
        "print(suma)"
      ],
      "metadata": {
        "id": "bm8xwMtXgqOr"
      },
      "execution_count": null,
      "outputs": []
    },
    {
      "cell_type": "markdown",
      "source": [
        "Restar dos Series:\n"
      ],
      "metadata": {
        "id": "fi7DdhIHgyU4"
      }
    },
    {
      "cell_type": "code",
      "source": [
        "resta = serie1 - serie2\n",
        "print(resta)"
      ],
      "metadata": {
        "id": "-zh6bEyygxBd"
      },
      "execution_count": null,
      "outputs": []
    },
    {
      "cell_type": "markdown",
      "source": [
        "Multiplicar una Serie por un escalar:\n"
      ],
      "metadata": {
        "id": "86xHbj_Eg4qd"
      }
    },
    {
      "cell_type": "code",
      "source": [
        "multiplicacion = serie1 * 2\n",
        "print(multiplicacion)"
      ],
      "metadata": {
        "id": "DyW6K_f_g2vY"
      },
      "execution_count": null,
      "outputs": []
    },
    {
      "cell_type": "markdown",
      "source": [
        "Dividir una Serie por otra:\n"
      ],
      "metadata": {
        "id": "cWTbM-7tkkRx"
      }
    },
    {
      "cell_type": "code",
      "source": [
        "division = serie1 / serie2\n",
        "print(division)"
      ],
      "metadata": {
        "id": "WKS9P_QRkksk"
      },
      "execution_count": null,
      "outputs": []
    },
    {
      "cell_type": "markdown",
      "source": [
        "Calcular el cuadrado de una Serie:\n"
      ],
      "metadata": {
        "id": "ljymSHbqg2BN"
      }
    },
    {
      "cell_type": "code",
      "source": [
        "cuadrado = serie1 ** 2\n",
        "print(cuadrado)"
      ],
      "metadata": {
        "id": "3kiSebXWg-Cz"
      },
      "execution_count": null,
      "outputs": []
    },
    {
      "cell_type": "markdown",
      "source": [
        "Calcular la raíz cuadrada de una Serie:\n"
      ],
      "metadata": {
        "id": "qFbz_9GnhEvy"
      }
    },
    {
      "cell_type": "code",
      "source": [
        "import numpy as np\n",
        "\n",
        "raiz_cuadrada = np.sqrt(serie1)\n",
        "print(raiz_cuadrada)"
      ],
      "metadata": {
        "id": "ql3nPxVjhGfP"
      },
      "execution_count": null,
      "outputs": []
    },
    {
      "cell_type": "markdown",
      "source": [
        "Operaciones de tipo str"
      ],
      "metadata": {
        "id": "9lQ6qDSsmY6Q"
      }
    },
    {
      "cell_type": "code",
      "source": [
        "datos = ['John', 'Luis', 'Pablo', 'Cesar']\n",
        "serie = pd.Series(datos)\n",
        "serie = serie.str.lower()\n",
        "\n",
        "print(serie)"
      ],
      "metadata": {
        "id": "sAXh8NjCmZLA"
      },
      "execution_count": null,
      "outputs": []
    },
    {
      "cell_type": "code",
      "source": [
        "datos = ['john', 'luis', 'pablo', 'cesar']\n",
        "serie = pd.Series(datos)\n",
        "serie = serie.str.upper()\n",
        "\n",
        "print(serie)"
      ],
      "metadata": {
        "id": "yRkIEmHImoQb"
      },
      "execution_count": null,
      "outputs": []
    },
    {
      "cell_type": "code",
      "source": [
        "datos = ['john', 'luis', 'pablo', 'cesar']\n",
        "serie = pd.Series(datos)\n",
        "serie = serie.str.capitalize()\n",
        "\n",
        "print(serie)"
      ],
      "metadata": {
        "id": "E7gMCHcNms4C"
      },
      "execution_count": null,
      "outputs": []
    },
    {
      "cell_type": "markdown",
      "source": [
        "Algunas operaciones estadísticas"
      ],
      "metadata": {
        "id": "sTYZ2k23nQEO"
      }
    },
    {
      "cell_type": "code",
      "source": [
        "\n",
        "datos = [2, 4, 2, 5, 1, 3]\n",
        "serie = pd.Series(datos)\n",
        "\n",
        "media = serie.mean()\n",
        "desviacion_estandar = serie.std()\n",
        "\n",
        "print(\"Media:\", media)\n",
        "print(\"Desviación estándar:\", desviacion_estandar)"
      ],
      "metadata": {
        "id": "RwcODv3xnIbV"
      },
      "execution_count": null,
      "outputs": []
    },
    {
      "cell_type": "markdown",
      "source": [
        "**Ejercicio 1**\n",
        "\n",
        "Crear una Serie con números enteros del 1 al 10 como índices y sus respectivos cuadrados como datos."
      ],
      "metadata": {
        "id": "2aKoNn1tj0mF"
      }
    },
    {
      "cell_type": "markdown",
      "source": [
        "**Ejercicio 2**\n",
        "\n",
        "Crear dos Series con los siguientes datos y luego sumarlas.\n",
        "\n",
        "> Serie 1: [10, 20, 30, 40, 50]\n",
        ">\n",
        "> Serie 2: [5, 15, 25, 35, 45]"
      ],
      "metadata": {
        "id": "tcuJ80MZkAaN"
      }
    },
    {
      "cell_type": "markdown",
      "source": [
        "**Ejercicio 3**\n",
        "\n",
        "Crear una Serie a partir de una lista de cadenas y convertir todas las letras a minúsculas.\n",
        "\n",
        "Datos: ['Manzana', 'Banana', 'Naranja', 'Pera']"
      ],
      "metadata": {
        "id": "ZDkN7x-FlaNu"
      }
    },
    {
      "cell_type": "markdown",
      "source": [
        "**Ejercicio 4**\n",
        "\n",
        "Crear una Serie con los siguientes datos y calcular la media y la desviación estándar.\n",
        "\n",
        "Datos: [15, 22, 18, 25, 20]"
      ],
      "metadata": {
        "id": "1avhdEZOlzp4"
      }
    },
    {
      "cell_type": "markdown",
      "source": [
        "**Ejercicio 5**\n",
        "\n",
        "Crear una Serie a partir de una lista y reemplazar un valor específico por otro.\n",
        "\n",
        "Datos: [5, 10, 15, 20, 25]\n",
        "Reemplazar el valor 15 por 30."
      ],
      "metadata": {
        "id": "7_v-1dgkmAI7"
      }
    },
    {
      "cell_type": "markdown",
      "source": [
        "**Ejercicio 6**\n",
        "\n",
        "Crear una Serie con los siguientes datos y mostrar los valores únicos.\n",
        "\n",
        "Datos: ['manzana', 'pera', 'manzana', 'plátano', 'manzana', 'pera']"
      ],
      "metadata": {
        "id": "4NmjRIkUmJgf"
      }
    },
    {
      "cell_type": "markdown",
      "source": [
        "## 2. DataFrames en Pandas"
      ],
      "metadata": {
        "id": "ho99ogOXXERi"
      }
    },
    {
      "cell_type": "markdown",
      "source": [
        "* Es una estructura de datos bidimensional que se utiliza para almacenar y manipular datos.\n",
        "* Se puede pensar en un DataFrame como una tabla en una base de datos o una hoja de cálculo en Excel.\n",
        "* Está compuesto por filas y columnas, donde cada columna puede contener datos de un tipo diferente (enteros, flotantes, cadenas, etc.).\n",
        "\n",
        "Un DataFrame en Pandas se puede crear de varias formas, pero comúnmente se utiliza para almacenar datos provenientes de archivos CSV, bases de datos o mediante la combinación de otras estructuras de datos, como Series."
      ],
      "metadata": {
        "id": "atDJsK1vnnTk"
      }
    },
    {
      "cell_type": "markdown",
      "source": [
        "### Creación de DataFrames"
      ],
      "metadata": {
        "id": "dtH7DVj_dsYj"
      }
    },
    {
      "cell_type": "markdown",
      "source": [
        "### Carga de datos desde diferentes fuentes (CSV, Excel, SQL, etc.)"
      ],
      "metadata": {
        "id": "8lEMRLv-duqQ"
      }
    },
    {
      "cell_type": "markdown",
      "source": [
        "### Exploración y manipulación de DataFrames"
      ],
      "metadata": {
        "id": "smRAmlIWd4HY"
      }
    },
    {
      "cell_type": "code",
      "source": [],
      "metadata": {
        "id": "QtcfHZ6Gd2K8"
      },
      "execution_count": null,
      "outputs": []
    },
    {
      "cell_type": "markdown",
      "source": [
        "## 3. Indexación y selección de datos en DataFrames"
      ],
      "metadata": {
        "id": "pvd9q3w1XP8R"
      }
    },
    {
      "cell_type": "markdown",
      "source": [
        "## 4. Limpieza y manipulación de datos"
      ],
      "metadata": {
        "id": "vWDGyChMXgGk"
      }
    },
    {
      "cell_type": "markdown",
      "source": [
        "## 5. Operaciones y transformaciones en DataFrames"
      ],
      "metadata": {
        "id": "skqbT7c7XjM-"
      }
    },
    {
      "cell_type": "markdown",
      "source": [
        "## 6. Visualización de datos con Pandas"
      ],
      "metadata": {
        "id": "b0lm-YkdXmyd"
      }
    },
    {
      "cell_type": "code",
      "execution_count": null,
      "metadata": {
        "id": "W7oAbzKbVhwa"
      },
      "outputs": [],
      "source": []
    },
    {
      "cell_type": "markdown",
      "source": [
        "---\n",
        "\n",
        "# Gracias por completar este laboratorio!\n",
        "\n",
        "---\n",
        "\n"
      ],
      "metadata": {
        "id": "oTLHpID8er3c"
      }
    }
  ]
}